{
 "cells": [
  {
   "cell_type": "markdown",
   "id": "d766b6da",
   "metadata": {},
   "source": [
    "# Pre-processing & training"
   ]
  },
  {
   "cell_type": "code",
   "execution_count": 16,
   "id": "b630c826",
   "metadata": {},
   "outputs": [],
   "source": [
    "import pandas as pd\n",
    "import numpy as np\n",
    "from pathlib import Path\n",
    "from sklearn.preprocessing import StandardScaler\n",
    "from sklearn.model_selection import train_test_split"
   ]
  },
  {
   "cell_type": "markdown",
   "id": "4412abbe",
   "metadata": {},
   "source": [
    "#### Demographic based scores"
   ]
  },
  {
   "cell_type": "code",
   "execution_count": 17,
   "id": "5b52d785",
   "metadata": {},
   "outputs": [],
   "source": [
    "df_import = pd.read_csv('../data/demographic_scores_onehot.csv').drop(['Unnamed: 0'], axis=1, errors='ignore')"
   ]
  },
  {
   "cell_type": "markdown",
   "id": "d133efd2",
   "metadata": {},
   "source": [
    "One-hot encoding completed during EDA"
   ]
  },
  {
   "cell_type": "code",
   "execution_count": 18,
   "id": "36cb403d",
   "metadata": {
    "scrolled": true
   },
   "outputs": [
    {
     "data": {
      "text/html": [
       "<div>\n",
       "<style scoped>\n",
       "    .dataframe tbody tr th:only-of-type {\n",
       "        vertical-align: middle;\n",
       "    }\n",
       "\n",
       "    .dataframe tbody tr th {\n",
       "        vertical-align: top;\n",
       "    }\n",
       "\n",
       "    .dataframe thead th {\n",
       "        text-align: right;\n",
       "    }\n",
       "</style>\n",
       "<table border=\"1\" class=\"dataframe\">\n",
       "  <thead>\n",
       "    <tr style=\"text-align: right;\">\n",
       "      <th></th>\n",
       "      <th>Mean Score Math</th>\n",
       "      <th>Mean Score EBRW</th>\n",
       "      <th>Median Family Income</th>\n",
       "      <th>Gend_Female</th>\n",
       "      <th>Gend_Male</th>\n",
       "      <th>Ethn_Asian</th>\n",
       "      <th>Ethn_Black</th>\n",
       "      <th>Ethn_Hispanic</th>\n",
       "      <th>Ethn_Two or More Races</th>\n",
       "      <th>Ethn_White</th>\n",
       "      <th>FRL_FRL Eligible</th>\n",
       "      <th>FRL_Not FRL Eligible</th>\n",
       "      <th>ELL_English Learners</th>\n",
       "      <th>ELL_Not English Learners</th>\n",
       "      <th>IEP_Students with IEPs</th>\n",
       "      <th>IEP_Students without IEPs</th>\n",
       "    </tr>\n",
       "  </thead>\n",
       "  <tbody>\n",
       "    <tr>\n",
       "      <th>0</th>\n",
       "      <td>505.882353</td>\n",
       "      <td>560.588235</td>\n",
       "      <td>118620.0</td>\n",
       "      <td>0.0</td>\n",
       "      <td>1.0</td>\n",
       "      <td>0.0</td>\n",
       "      <td>0.0</td>\n",
       "      <td>0.0</td>\n",
       "      <td>0.0</td>\n",
       "      <td>1.0</td>\n",
       "      <td>0.0</td>\n",
       "      <td>1.0</td>\n",
       "      <td>0.0</td>\n",
       "      <td>1.0</td>\n",
       "      <td>0.0</td>\n",
       "      <td>1.0</td>\n",
       "    </tr>\n",
       "    <tr>\n",
       "      <th>1</th>\n",
       "      <td>537.757009</td>\n",
       "      <td>562.056075</td>\n",
       "      <td>68454.0</td>\n",
       "      <td>1.0</td>\n",
       "      <td>0.0</td>\n",
       "      <td>0.0</td>\n",
       "      <td>0.0</td>\n",
       "      <td>0.0</td>\n",
       "      <td>0.0</td>\n",
       "      <td>1.0</td>\n",
       "      <td>0.0</td>\n",
       "      <td>1.0</td>\n",
       "      <td>0.0</td>\n",
       "      <td>1.0</td>\n",
       "      <td>0.0</td>\n",
       "      <td>1.0</td>\n",
       "    </tr>\n",
       "    <tr>\n",
       "      <th>2</th>\n",
       "      <td>574.725275</td>\n",
       "      <td>564.395604</td>\n",
       "      <td>68454.0</td>\n",
       "      <td>0.0</td>\n",
       "      <td>1.0</td>\n",
       "      <td>0.0</td>\n",
       "      <td>0.0</td>\n",
       "      <td>0.0</td>\n",
       "      <td>0.0</td>\n",
       "      <td>1.0</td>\n",
       "      <td>0.0</td>\n",
       "      <td>1.0</td>\n",
       "      <td>0.0</td>\n",
       "      <td>1.0</td>\n",
       "      <td>0.0</td>\n",
       "      <td>1.0</td>\n",
       "    </tr>\n",
       "    <tr>\n",
       "      <th>3</th>\n",
       "      <td>503.529412</td>\n",
       "      <td>517.058824</td>\n",
       "      <td>121412.0</td>\n",
       "      <td>1.0</td>\n",
       "      <td>0.0</td>\n",
       "      <td>0.0</td>\n",
       "      <td>0.0</td>\n",
       "      <td>1.0</td>\n",
       "      <td>0.0</td>\n",
       "      <td>0.0</td>\n",
       "      <td>0.0</td>\n",
       "      <td>1.0</td>\n",
       "      <td>0.0</td>\n",
       "      <td>1.0</td>\n",
       "      <td>0.0</td>\n",
       "      <td>1.0</td>\n",
       "    </tr>\n",
       "    <tr>\n",
       "      <th>4</th>\n",
       "      <td>560.444444</td>\n",
       "      <td>579.222222</td>\n",
       "      <td>121412.0</td>\n",
       "      <td>1.0</td>\n",
       "      <td>0.0</td>\n",
       "      <td>0.0</td>\n",
       "      <td>0.0</td>\n",
       "      <td>0.0</td>\n",
       "      <td>0.0</td>\n",
       "      <td>1.0</td>\n",
       "      <td>0.0</td>\n",
       "      <td>1.0</td>\n",
       "      <td>0.0</td>\n",
       "      <td>1.0</td>\n",
       "      <td>0.0</td>\n",
       "      <td>1.0</td>\n",
       "    </tr>\n",
       "  </tbody>\n",
       "</table>\n",
       "</div>"
      ],
      "text/plain": [
       "   Mean Score Math  Mean Score EBRW  Median Family Income  Gend_Female  \\\n",
       "0       505.882353       560.588235              118620.0          0.0   \n",
       "1       537.757009       562.056075               68454.0          1.0   \n",
       "2       574.725275       564.395604               68454.0          0.0   \n",
       "3       503.529412       517.058824              121412.0          1.0   \n",
       "4       560.444444       579.222222              121412.0          1.0   \n",
       "\n",
       "   Gend_Male  Ethn_Asian  Ethn_Black  Ethn_Hispanic  Ethn_Two or More Races  \\\n",
       "0        1.0         0.0         0.0            0.0                     0.0   \n",
       "1        0.0         0.0         0.0            0.0                     0.0   \n",
       "2        1.0         0.0         0.0            0.0                     0.0   \n",
       "3        0.0         0.0         0.0            1.0                     0.0   \n",
       "4        0.0         0.0         0.0            0.0                     0.0   \n",
       "\n",
       "   Ethn_White  FRL_FRL Eligible  FRL_Not FRL Eligible  ELL_English Learners  \\\n",
       "0         1.0               0.0                   1.0                   0.0   \n",
       "1         1.0               0.0                   1.0                   0.0   \n",
       "2         1.0               0.0                   1.0                   0.0   \n",
       "3         0.0               0.0                   1.0                   0.0   \n",
       "4         1.0               0.0                   1.0                   0.0   \n",
       "\n",
       "   ELL_Not English Learners  IEP_Students with IEPs  IEP_Students without IEPs  \n",
       "0                       1.0                     0.0                        1.0  \n",
       "1                       1.0                     0.0                        1.0  \n",
       "2                       1.0                     0.0                        1.0  \n",
       "3                       1.0                     0.0                        1.0  \n",
       "4                       1.0                     0.0                        1.0  "
      ]
     },
     "execution_count": 18,
     "metadata": {},
     "output_type": "execute_result"
    }
   ],
   "source": [
    "df_import.head()"
   ]
  },
  {
   "cell_type": "code",
   "execution_count": 19,
   "id": "d69e0bd2",
   "metadata": {},
   "outputs": [
    {
     "data": {
      "text/plain": [
       "Mean Score Math              0\n",
       "Mean Score EBRW              0\n",
       "Median Family Income         0\n",
       "Gend_Female                  0\n",
       "Gend_Male                    0\n",
       "Ethn_Asian                   0\n",
       "Ethn_Black                   0\n",
       "Ethn_Hispanic                0\n",
       "Ethn_Two or More Races       0\n",
       "Ethn_White                   0\n",
       "FRL_FRL Eligible             0\n",
       "FRL_Not FRL Eligible         0\n",
       "ELL_English Learners         0\n",
       "ELL_Not English Learners     0\n",
       "IEP_Students with IEPs       0\n",
       "IEP_Students without IEPs    0\n",
       "dtype: int64"
      ]
     },
     "execution_count": 19,
     "metadata": {},
     "output_type": "execute_result"
    }
   ],
   "source": [
    "df_import.isna().sum()"
   ]
  },
  {
   "cell_type": "code",
   "execution_count": 20,
   "id": "c11ea06d",
   "metadata": {},
   "outputs": [],
   "source": [
    "#Deal with missed missing data\n",
    "#df_import['Median Family Income'] = df_import['Median Family Income'].fillna(df_import['Median Family Income'].median())"
   ]
  },
  {
   "cell_type": "code",
   "execution_count": 21,
   "id": "07929e57",
   "metadata": {},
   "outputs": [],
   "source": [
    "#Train/test split & scaling\n",
    "\n",
    "# Create training & testing sets\n",
    "X = df_import.drop(['Mean Score Math', 'Mean Score EBRW'], axis=1)\n",
    "y = df_import[['Mean Score Math', 'Mean Score EBRW']]\n",
    "X_train, X_test, y_train, y_test = train_test_split(X, y, test_size=0.20, random_state=137)\n",
    "\n",
    "scaler_X = StandardScaler()\n",
    "# Not scaling y vals\n",
    "## scaler_y = StandardScaler()\n",
    "\n",
    "#Fit & transform training X data\n",
    "scaler_X.fit(X_train[['Median Family Income']].values)\n",
    "X_train[['Median Family Income']] = scaler_X.transform(X_train[['Median Family Income']].values)\n",
    "\n",
    "#Transform training X data\n",
    "X_test[['Median Family Income']] = scaler_X.transform(X_test[['Median Family Income']].values)"
   ]
  },
  {
   "cell_type": "code",
   "execution_count": 22,
   "id": "a6d9c9ac",
   "metadata": {},
   "outputs": [],
   "source": [
    "# Combine X & y for the training sets and for testing sets\n",
    "training_data = y_train.join(X_train)\n",
    "\n",
    "# And the testing data\n",
    "test_data = y_test.join(X_test)"
   ]
  },
  {
   "cell_type": "code",
   "execution_count": 23,
   "id": "93fb9c01",
   "metadata": {},
   "outputs": [],
   "source": [
    "#Export to csv\n",
    "training_data.to_csv('../data/demog_training_data.csv')\n",
    "test_data.to_csv('../data/demog_testing_data.csv')"
   ]
  },
  {
   "cell_type": "markdown",
   "id": "68b96a05",
   "metadata": {},
   "source": [
    "### PSAT/SAT score data"
   ]
  },
  {
   "cell_type": "code",
   "execution_count": 24,
   "id": "1f52a68a",
   "metadata": {},
   "outputs": [],
   "source": [
    "psat_sat = pd.read_csv('../data/SAT_PSAT_aggregated.csv').drop(['Unnamed: 0'], axis=1, errors='ignore')\n",
    "\n",
    "# Fix dtypes after data import\n",
    "psat_sat = psat_sat.astype({'District Number': 'str',\n",
    "                 'District Name': 'str',\n",
    "                 'School Number': 'str',\n",
    "                 'School Name': 'str',\n",
    "                 '2018 EBRW Mean SAT': 'float64',\n",
    "                 '2018 Math Mean SAT': 'float64',\n",
    "                 '2018 Overall Mean Score SAT': 'float64',\n",
    "                 '2017 EBRW Mean PSAT10': 'float64',\n",
    "                 '2017 Math Mean PSAT10': 'float64',\n",
    "                 '2017 Overall Mean Score PSAT10': 'float64',\n",
    "                 'Zip Code': 'str',\n",
    "                 'Median Family Income': 'float64',\n",
    "                 'Population': 'float64'})\n",
    "\n",
    "psat_sat['Zip Code'] = psat_sat['Zip Code'].str.strip('.0')"
   ]
  },
  {
   "cell_type": "code",
   "execution_count": 25,
   "id": "cb52a30d",
   "metadata": {
    "scrolled": true
   },
   "outputs": [
    {
     "data": {
      "text/plain": [
       "District Number                    0\n",
       "District Name                      0\n",
       "School Number                      0\n",
       "School Name                        0\n",
       "2018 EBRW Mean SAT                 0\n",
       "2018 Math Mean SAT                 0\n",
       "2018 Overall Mean Score SAT        0\n",
       "2017 EBRW Mean PSAT10              0\n",
       "2017 Math Mean PSAT10              0\n",
       "2017 Overall Mean Score PSAT10     0\n",
       "Zip Code                           0\n",
       "Median Family Income              10\n",
       "Population                        10\n",
       "dtype: int64"
      ]
     },
     "execution_count": 25,
     "metadata": {},
     "output_type": "execute_result"
    }
   ],
   "source": [
    "psat_sat.isna().sum()"
   ]
  },
  {
   "cell_type": "markdown",
   "id": "8f8817e5",
   "metadata": {},
   "source": [
    "Dropping income & population from this dataset since only comparing scores here."
   ]
  },
  {
   "cell_type": "code",
   "execution_count": 26,
   "id": "d4394e75",
   "metadata": {},
   "outputs": [],
   "source": [
    "psat_sat.drop(['Zip Code', 'Median Family Income', 'Population'],axis=1, inplace=True)"
   ]
  },
  {
   "cell_type": "markdown",
   "id": "63bc7547",
   "metadata": {},
   "source": [
    "#### Scores only data do not need to be scaled."
   ]
  },
  {
   "cell_type": "code",
   "execution_count": 27,
   "id": "e3bfff42",
   "metadata": {},
   "outputs": [
    {
     "data": {
      "text/plain": [
       "Index(['District Number', 'District Name', 'School Number', 'School Name',\n",
       "       '2018 EBRW Mean SAT', '2018 Math Mean SAT',\n",
       "       '2018 Overall Mean Score SAT', '2017 EBRW Mean PSAT10',\n",
       "       '2017 Math Mean PSAT10', '2017 Overall Mean Score PSAT10'],\n",
       "      dtype='object')"
      ]
     },
     "execution_count": 27,
     "metadata": {},
     "output_type": "execute_result"
    }
   ],
   "source": [
    "psat_sat.columns"
   ]
  },
  {
   "cell_type": "code",
   "execution_count": 28,
   "id": "c1e773b3",
   "metadata": {},
   "outputs": [],
   "source": [
    "#Train/test split & scaling\n",
    "\n",
    "# Create training & testing sets\n",
    "X = psat_sat.loc[:,['2017 EBRW Mean PSAT10','2017 Math Mean PSAT10', '2017 Overall Mean Score PSAT10']]\n",
    "y = psat_sat.loc[:,['2018 EBRW Mean SAT','2018 Math Mean SAT', '2018 Overall Mean Score SAT']]\n",
    "X_train, X_test, y_train, y_test = train_test_split(X, y, test_size=0.20, random_state=137)"
   ]
  },
  {
   "cell_type": "code",
   "execution_count": 29,
   "id": "9b1a9373",
   "metadata": {},
   "outputs": [],
   "source": [
    "# Combine X & y for the training sets and for testing sets\n",
    "training_data = y_train.join(X_train)\n",
    "\n",
    "# And the testing data\n",
    "test_data = y_test.join(X_test)"
   ]
  },
  {
   "cell_type": "code",
   "execution_count": 30,
   "id": "20e31d51",
   "metadata": {},
   "outputs": [],
   "source": [
    "#Export to csv\n",
    "training_data.to_csv('../data/psat_training_data.csv')\n",
    "test_data.to_csv('../data/psat_testing_data.csv')"
   ]
  }
 ],
 "metadata": {
  "kernelspec": {
   "display_name": "Python 3 (ipykernel)",
   "language": "python",
   "name": "python3"
  },
  "language_info": {
   "codemirror_mode": {
    "name": "ipython",
    "version": 3
   },
   "file_extension": ".py",
   "mimetype": "text/x-python",
   "name": "python",
   "nbconvert_exporter": "python",
   "pygments_lexer": "ipython3",
   "version": "3.9.12"
  }
 },
 "nbformat": 4,
 "nbformat_minor": 5
}
