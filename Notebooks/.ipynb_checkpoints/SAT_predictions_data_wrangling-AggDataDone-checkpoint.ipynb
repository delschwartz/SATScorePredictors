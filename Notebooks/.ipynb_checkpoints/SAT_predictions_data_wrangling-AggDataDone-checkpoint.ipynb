{
 "cells": [
  {
   "cell_type": "code",
   "execution_count": 161,
   "id": "9f63dfd7",
   "metadata": {},
   "outputs": [],
   "source": [
    "import pandas as pd\n",
    "import os\n",
    "from pathlib import Path\n",
    "import missingno as msno\n",
    "import matplotlib.pyplot as plt\n",
    "import itertools\n",
    "from itertools import product"
   ]
  },
  {
   "cell_type": "markdown",
   "id": "54ad11a0",
   "metadata": {},
   "source": [
    "Several data sets need to be cleaned and merged.  School mean SAT & PSAT scores for each year are in separate .xlsx files.  Scores disaggregated by desired demographic indicators are in another set .xlsx files also separated by year."
   ]
  },
  {
   "cell_type": "markdown",
   "id": "37254dd0",
   "metadata": {},
   "source": [
    "### 2018 data wrangling"
   ]
  },
  {
   "cell_type": "code",
   "execution_count": 162,
   "id": "1bddbe32",
   "metadata": {},
   "outputs": [],
   "source": [
    "# Filenames & paths\n",
    "# Just do 2018 data for now.  COVID affected other years\n",
    "\n",
    "filepath_agg = '../raw_data/aggregated/'\n",
    "filepath_disagg = '../raw_data/disaggregated/'\n",
    "\n",
    "file_2017_agg = '2017 SAT PSAT District and School Overall Results_final.xlsx'\n",
    "file_2018_agg = '2018 PSAT and SAT District and School Summary Achievement Results_FINAL.xlsx'\n",
    "\n",
    "\n",
    "file_2017_disagg = '2017 SAT PSAT10 Disaggregated Report Formatted.xlsx'\n",
    "file_2018_disagg = '2018 PSAT and SAT State Achievement Results Disaggregated by Subgroups.xlsx'"
   ]
  },
  {
   "cell_type": "code",
   "execution_count": 163,
   "id": "4a17fd08",
   "metadata": {},
   "outputs": [],
   "source": [
    "###  Longest runtime ###\n",
    "\n",
    "# Files all have different formats\n",
    "\n",
    "# Agg data is all on one sheet in xlsx file.\n",
    "df_2017_agg_raw = pd.read_excel(filepath_agg + file_2017_agg)\n",
    "df_2018_agg_raw = pd.read_excel(filepath_agg + file_2018_agg)\n",
    "\n",
    "df_2017_disagg_raw = pd.read_excel(filepath_disagg + file_2017_disagg)\n",
    "# Disaggregated data for 2018 is split into separate sheets in xlsx file.\n",
    "# Create dict of df's for each set of disagg data\n",
    "dict_2018_disagg_raw = pd.read_excel(filepath_disagg + file_2018_disagg, sheet_name=None)"
   ]
  },
  {
   "cell_type": "markdown",
   "id": "d3c55414",
   "metadata": {},
   "source": [
    "## Aggregated data only"
   ]
  },
  {
   "cell_type": "code",
   "execution_count": 164,
   "id": "4f03fbfa",
   "metadata": {},
   "outputs": [],
   "source": [
    "# Drop rows with descriptive text\n",
    "df_2017_agg = df_2017_agg_raw.drop(df_2017_agg_raw.index[0:4])\n",
    "df_2018_agg = df_2018_agg_raw.drop(df_2018_agg_raw.index[0:3])"
   ]
  },
  {
   "cell_type": "code",
   "execution_count": 165,
   "id": "f8ba95ce",
   "metadata": {
    "scrolled": true
   },
   "outputs": [],
   "source": [
    "# Set columns headers as first row containing Test, District Number, District Name, etc.\n",
    "df_2017_agg.columns = df_2017_agg.iloc[0]\n",
    "df_2018_agg.columns = df_2018_agg.iloc[0]"
   ]
  },
  {
   "cell_type": "code",
   "execution_count": 166,
   "id": "27ce88bd",
   "metadata": {},
   "outputs": [],
   "source": [
    "# Drop first row containing the column headers\n",
    "df_2017_agg = df_2017_agg.drop(df_2017_agg.index[0])\n",
    "df_2018_agg = df_2018_agg.drop(df_2018_agg.index[0])"
   ]
  },
  {
   "cell_type": "code",
   "execution_count": 167,
   "id": "3ccae758",
   "metadata": {},
   "outputs": [],
   "source": [
    "## 2017 data\n",
    "# Assign state & district results to their own dataframes respectively (if they exist)\n",
    "state_2017_agg = df_2017_agg.loc[df_2017_agg['School Name'] == 'STATE RESULTS']\n",
    "district_2017_agg = df_2017_agg.loc[df_2017_agg['School Name'] == 'DISTRICT RESULTS']\n",
    "\n",
    "# Drop those & create new dataframe of school only data\n",
    "# Note: There's something weird with the school districts here.  BOCES?\n",
    "schools_2017_agg = df_2017_agg[(df_2017_agg['School Name'] != 'STATE RESULTS') & (df_2017_agg['School Name'] != 'DISTRICT RESULTS')]\n",
    "\n",
    "\n",
    "## 2018 data\n",
    "# Assign state & district results to their own dataframes respectively (if they exist)\n",
    "state_2018_agg = df_2018_agg.loc[df_2018_agg['Level'] == 'STATE']\n",
    "district_2018_agg = df_2018_agg.loc[df_2018_agg['Level'] == 'DISTRICT']\n",
    "\n",
    "# Create dataframe with only school level scores\n",
    "schools_2018_agg = df_2018_agg.loc[df_2018_agg['Level'] == 'SCHOOL']\n",
    "\n",
    "# Drop some unneeded columns\n",
    "schools_2018_agg = schools_2018_agg.drop(['Level','Grade'], axis = 1)"
   ]
  },
  {
   "cell_type": "code",
   "execution_count": 168,
   "id": "4ce919b9",
   "metadata": {},
   "outputs": [],
   "source": [
    "# Rename and reindex 2017 and 2018 data\n",
    "\n",
    "# Rename some columns for convenience\n",
    "col_names1_long = list(schools_2017_agg.columns)\n",
    "col_names1_short = ['Test',\n",
    "                 'District Number',\n",
    "                 'District Name',\n",
    "                 'School Number',\n",
    "                 'School Name',\n",
    "                 'Total Students',\n",
    "                 '2017 Valid Scores',\n",
    "                 '2017 EBRW Mean',\n",
    "                 '2017 Math Mean',\n",
    "                 '2017 Overall Mean',\n",
    "                 '2017 Participation Percent',\n",
    "                 '2016 Valid Scores',\n",
    "                 '2016 EBRW Mean',\n",
    "                 '2016 Math Mean',\n",
    "                 '2016 Overall Mean',\n",
    "                 '2016 Participation Percent',\n",
    "                 'Mean Overall Score Change']\n",
    "schools_2017_agg = schools_2017_agg.rename(columns = dict(zip(col_names1_long, col_names1_short)))\n",
    "\n",
    "# Rename some columns for convenience\n",
    "col_names2_long = list(schools_2018_agg.columns)\n",
    "col_names2_short = ['Test',\n",
    "                 'District Number',\n",
    "                 'District Name',\n",
    "                 'School Number',\n",
    "                 'School Name',\n",
    "                 'Total Students',\n",
    "                 '2018 Valid Scores',\n",
    "                 '2018 EBRW Mean',\n",
    "                 '2018 Math Mean',\n",
    "                 '2018 Overall Mean Score',\n",
    "                 '2018 Participation Percent',\n",
    "                 '2017 Valid Scores',\n",
    "                 '2017 EBRW Mean',\n",
    "                 '2017 Math Mean',\n",
    "                 '2017 Overall Mean Score',\n",
    "                 '2017 Participation Percent',\n",
    "                 'Mean Overall Score Change']\n",
    "schools_2018_agg = schools_2018_agg.rename(columns = dict(zip(col_names2_long, col_names2_short)))\n",
    "\n",
    "# Set index to school number\n",
    "#schools_2017_agg['School Number'] = schools_2017_agg['School Number'].astype(int)\n",
    "#schools_2017_agg = schools_2017_agg.set_index('School Number')\n",
    "\n",
    "#schools_2018_agg['School Number'] = schools_2018_agg['School Number'].astype(int)\n",
    "#schools_2018_agg = schools_2018_agg.set_index('School Number')"
   ]
  },
  {
   "cell_type": "code",
   "execution_count": 169,
   "id": "e1da7bb5",
   "metadata": {},
   "outputs": [],
   "source": [
    "# Trim white space\n",
    "schools_2017_agg['Test'] = schools_2017_agg['Test'].str.strip()\n",
    "schools_2018_agg['Test'] = schools_2018_agg['Test'].str.strip()"
   ]
  },
  {
   "cell_type": "markdown",
   "id": "7c72b657",
   "metadata": {},
   "source": [
    "#### Create new dataframe aggregating all data from 2018 into a cleaner format"
   ]
  },
  {
   "cell_type": "code",
   "execution_count": 170,
   "id": "63ff37c2",
   "metadata": {},
   "outputs": [],
   "source": [
    "# Select only rows that have both 2017 and 2018 scores\n",
    "schools_2018_agg_subset = schools_2018_agg[~schools_2018_agg['Mean Overall Score Change'].isna()]\n",
    "\n",
    "# Drop rows using '*' to indicate missing data\n",
    "schools_2018_agg_subset = schools_2018_agg_subset[~(schools_2018_agg_subset['Total Students'] == '*')]"
   ]
  },
  {
   "cell_type": "code",
   "execution_count": 183,
   "id": "782dbefe",
   "metadata": {
    "scrolled": true
   },
   "outputs": [],
   "source": [
    "###  May not be necessary ###\n",
    "\n",
    "# Set appropriate names for each column\n",
    "\n",
    "score_types = ['Valid Scores',\n",
    "              'EBRW Mean',\n",
    "              'Math Mean',\n",
    "              'Overall Mean Score',\n",
    "              'Participation Percent']\n",
    "years_str = ['2017', '2018']\n",
    "test_types = ['PSAT10', 'SAT']\n",
    "\n",
    "score_cols = list(product(years_str, test_types, score_types))\n",
    "score_cols = [year + \" \" + test + \" \" + score for year, test, score in score_cols]\n",
    "\n",
    "all_cols = ['School Number', 'District Name', 'School Name'] + score_cols"
   ]
  },
  {
   "cell_type": "code",
   "execution_count": 185,
   "id": "fe4e1cfe",
   "metadata": {
    "collapsed": true
   },
   "outputs": [
    {
     "data": {
      "text/plain": [
       "['Test SAT',\n",
       " 'District Number SAT',\n",
       " 'District Name SAT',\n",
       " 'School Name SAT',\n",
       " 'Total Students SAT',\n",
       " '2018 Valid Scores SAT',\n",
       " '2018 EBRW Mean SAT',\n",
       " '2018 Math Mean SAT',\n",
       " '2018 Overall Mean Score SAT',\n",
       " '2018 Participation Percent SAT',\n",
       " '2017 Valid Scores SAT',\n",
       " '2017 EBRW Mean SAT',\n",
       " '2017 Math Mean SAT',\n",
       " '2017 Overall Mean Score SAT',\n",
       " '2017 Participation Percent SAT',\n",
       " 'Mean Overall Score Change SAT',\n",
       " 'Test PSAT10',\n",
       " 'District Number PSAT10',\n",
       " 'District Name PSAT10',\n",
       " 'School Name PSAT10',\n",
       " 'Total Students PSAT10',\n",
       " '2018 Valid Scores PSAT10',\n",
       " '2018 EBRW Mean PSAT10',\n",
       " '2018 Math Mean PSAT10',\n",
       " '2018 Overall Mean Score PSAT10',\n",
       " '2018 Participation Percent PSAT10',\n",
       " '2017 Valid Scores PSAT10',\n",
       " '2017 EBRW Mean PSAT10',\n",
       " '2017 Math Mean PSAT10',\n",
       " '2017 Overall Mean Score PSAT10',\n",
       " '2017 Participation Percent PSAT10',\n",
       " 'Mean Overall Score Change PSAT10']"
      ]
     },
     "execution_count": 185,
     "metadata": {},
     "output_type": "execute_result"
    }
   ],
   "source": [
    "schools_2018_agg_SAT = schools_2018_agg_subset.loc[schools_2018_agg_subset[\"Test\"] == \"SAT\"]\n",
    "schools_2018_agg_PSAT = schools_2018_agg_subset.loc[schools_2018_agg_subset[\"Test\"] == \"PSAT10\"]\n",
    "tests_combined_2018_agg = schools_2018_agg_SAT.merge(schools_2018_agg_PSAT, on=\"School Number\", suffixes=(' SAT', ' PSAT10'))\n",
    "#list(tests_combined_2018.columns)"
   ]
  },
  {
   "cell_type": "code",
   "execution_count": 186,
   "id": "e09045ca",
   "metadata": {
    "collapsed": true
   },
   "outputs": [
    {
     "data": {
      "text/plain": [
       "['District Number SAT',\n",
       " 'District Name SAT',\n",
       " 'School Number',\n",
       " 'School Name SAT',\n",
       " 'Total Students SAT',\n",
       " '2018 Valid Scores SAT',\n",
       " '2018 EBRW Mean SAT',\n",
       " '2018 Math Mean SAT',\n",
       " '2018 Overall Mean Score SAT',\n",
       " '2018 Participation Percent SAT',\n",
       " '2017 Valid Scores SAT',\n",
       " '2017 EBRW Mean SAT',\n",
       " '2017 Math Mean SAT',\n",
       " '2017 Overall Mean Score SAT',\n",
       " '2017 Participation Percent SAT',\n",
       " 'Total Students PSAT10',\n",
       " '2018 Valid Scores PSAT10',\n",
       " '2018 EBRW Mean PSAT10',\n",
       " '2018 Math Mean PSAT10',\n",
       " '2018 Overall Mean Score PSAT10',\n",
       " '2018 Participation Percent PSAT10',\n",
       " '2017 Valid Scores PSAT10',\n",
       " '2017 EBRW Mean PSAT10',\n",
       " '2017 Math Mean PSAT10',\n",
       " '2017 Overall Mean Score PSAT10',\n",
       " '2017 Participation Percent PSAT10']"
      ]
     },
     "execution_count": 186,
     "metadata": {},
     "output_type": "execute_result"
    }
   ],
   "source": [
    "# Drop duplicated &  unnecessary columns\n",
    "tests_combined_2018_agg = tests_combined_2018_agg.drop(['Test PSAT10',\n",
    "                                                        'Test SAT',\n",
    "                                                'District Number PSAT10',\n",
    "                                                'District Name PSAT10',\n",
    "                                                'School Name PSAT10',\n",
    "                                                        'Test PSAT10',\n",
    "                                                        'Mean Overall Score Change SAT',\n",
    "                                                        'Mean Overall Score Change PSAT10'\n",
    "                                               ], axis = 1)\n",
    "#list(tests_combined_2018_agg.columns)"
   ]
  },
  {
   "cell_type": "code",
   "execution_count": 187,
   "id": "d97029e8",
   "metadata": {},
   "outputs": [],
   "source": [
    "# Fix column names with unnecessary suffix\n",
    "tests_combined_2018_agg = tests_combined_2018_agg.rename(columns={'District Number SAT': \"District Number\", \"District Name SAT\": \"District Name\", \"School Name SAT\": \"School Name\"}, errors=\"raise\")"
   ]
  },
  {
   "cell_type": "markdown",
   "id": "ae63c076",
   "metadata": {},
   "source": [
    "## ---Done with aggregated data---"
   ]
  },
  {
   "cell_type": "markdown",
   "id": "bbb3bb52",
   "metadata": {},
   "source": [
    "# Data disaggretaed by subgroups"
   ]
  },
  {
   "cell_type": "code",
   "execution_count": null,
   "id": "358a464b",
   "metadata": {},
   "outputs": [],
   "source": []
  }
 ],
 "metadata": {
  "kernelspec": {
   "display_name": "Python 3 (ipykernel)",
   "language": "python",
   "name": "python3"
  },
  "language_info": {
   "codemirror_mode": {
    "name": "ipython",
    "version": 3
   },
   "file_extension": ".py",
   "mimetype": "text/x-python",
   "name": "python",
   "nbconvert_exporter": "python",
   "pygments_lexer": "ipython3",
   "version": "3.9.12"
  }
 },
 "nbformat": 4,
 "nbformat_minor": 5
}
