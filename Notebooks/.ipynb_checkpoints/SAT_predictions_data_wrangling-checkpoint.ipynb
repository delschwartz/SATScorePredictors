{
 "cells": [
  {
   "cell_type": "markdown",
   "id": "5f8f62b9",
   "metadata": {},
   "source": [
    "# SAT & PSAT score data wrangling"
   ]
  },
  {
   "cell_type": "markdown",
   "id": "910a1c99",
   "metadata": {},
   "source": [
    "# Import packages & data"
   ]
  },
  {
   "cell_type": "code",
   "execution_count": 1,
   "id": "9f63dfd7",
   "metadata": {},
   "outputs": [],
   "source": [
    "import pandas as pd\n",
    "import numpy as np\n",
    "import matplotlib.pyplot as plt\n",
    "import requests"
   ]
  },
  {
   "cell_type": "code",
   "execution_count": 2,
   "id": "1bddbe32",
   "metadata": {},
   "outputs": [],
   "source": [
    "# Filenames & paths\n",
    "\n",
    "filepath = '../raw_data/'\n",
    "file_2018_multicat = '2018 SAT results by subgroups.xlsx'\n",
    "file_2017_PSAT_multicat = '2017 PSAT results by subgroups.xlsx'"
   ]
  },
  {
   "cell_type": "code",
   "execution_count": 3,
   "id": "42bb7a9c",
   "metadata": {},
   "outputs": [],
   "source": [
    "df_2018_multicat_raw = pd.read_excel(filepath + file_2018_multicat)\n",
    "df_2017_PSAT_multicat_raw = pd.read_excel(filepath + file_2017_PSAT_multicat)"
   ]
  },
  {
   "cell_type": "code",
   "execution_count": 4,
   "id": "c73842c7",
   "metadata": {},
   "outputs": [
    {
     "name": "stdout",
     "output_type": "stream",
     "text": [
      "<class 'pandas.core.frame.DataFrame'>\n",
      "RangeIndex: 17910 entries, 0 to 17909\n",
      "Data columns (total 13 columns):\n",
      " #   Column       Non-Null Count  Dtype \n",
      "---  ------       --------------  ----- \n",
      " 0   Unnamed: 0   13 non-null     object\n",
      " 1   Unnamed: 1   490 non-null    object\n",
      " 2   Unnamed: 2   480 non-null    object\n",
      " 3   Unnamed: 3   959 non-null    object\n",
      " 4   Unnamed: 4   2020 non-null   object\n",
      " 5   Unnamed: 5   7073 non-null   object\n",
      " 6   Unnamed: 6   11065 non-null  object\n",
      " 7   Unnamed: 7   13943 non-null  object\n",
      " 8   Unnamed: 8   17896 non-null  object\n",
      " 9   Unnamed: 9   17893 non-null  object\n",
      " 10  Unnamed: 10  17893 non-null  object\n",
      " 11  Unnamed: 11  17896 non-null  object\n",
      " 12  Unnamed: 12  17893 non-null  object\n",
      "dtypes: object(13)\n",
      "memory usage: 1.8+ MB\n"
     ]
    }
   ],
   "source": [
    "df_2018_multicat_raw.info()"
   ]
  },
  {
   "cell_type": "code",
   "execution_count": 5,
   "id": "7b4deae0",
   "metadata": {},
   "outputs": [
    {
     "name": "stdout",
     "output_type": "stream",
     "text": [
      "<class 'pandas.core.frame.DataFrame'>\n",
      "RangeIndex: 18298 entries, 0 to 18297\n",
      "Data columns (total 13 columns):\n",
      " #   Column       Non-Null Count  Dtype \n",
      "---  ------       --------------  ----- \n",
      " 0   Unnamed: 0   13 non-null     object\n",
      " 1   Unnamed: 1   493 non-null    object\n",
      " 2   Unnamed: 2   483 non-null    object\n",
      " 3   Unnamed: 3   965 non-null    object\n",
      " 4   Unnamed: 4   1918 non-null   object\n",
      " 5   Unnamed: 5   6915 non-null   object\n",
      " 6   Unnamed: 6   10865 non-null  object\n",
      " 7   Unnamed: 7   14057 non-null  object\n",
      " 8   Unnamed: 8   18284 non-null  object\n",
      " 9   Unnamed: 9   18281 non-null  object\n",
      " 10  Unnamed: 10  18281 non-null  object\n",
      " 11  Unnamed: 11  18284 non-null  object\n",
      " 12  Unnamed: 12  18281 non-null  object\n",
      "dtypes: object(13)\n",
      "memory usage: 1.8+ MB\n"
     ]
    }
   ],
   "source": [
    "df_2017_PSAT_multicat_raw.info()"
   ]
  },
  {
   "cell_type": "markdown",
   "id": "8f7f848b",
   "metadata": {},
   "source": [
    "# Cleaning dataframe after csv import"
   ]
  },
  {
   "cell_type": "markdown",
   "id": "e05199cc",
   "metadata": {},
   "source": [
    "**Scores are arranged by multiple demographic categories**"
   ]
  },
  {
   "cell_type": "code",
   "execution_count": 6,
   "id": "61c79efb",
   "metadata": {
    "scrolled": true
   },
   "outputs": [],
   "source": [
    "# SAT data\n",
    "# Delete header rows & set column headers\n",
    "df_2018_multicat = df_2018_multicat_raw.drop(df_2018_multicat_raw.index[0:17])\n",
    "df_2018_multicat.columns = df_2018_multicat.iloc[0]\n",
    "df_2018_multicat = df_2018_multicat.drop(df_2018_multicat.index[0])\n",
    "df_2018_multicat.columns.name = 'index'\n",
    "df_2018_multicat = df_2018_multicat.reset_index().drop(['index'], axis=1)\n",
    "\n",
    "# Drop unnecessary columns\n",
    "df_2018_multicat = df_2018_multicat.drop(['Academic Year','Standard Deviation','% Participation','Score Count','Test Name'], axis=1)"
   ]
  },
  {
   "cell_type": "code",
   "execution_count": 7,
   "id": "cdab3aeb",
   "metadata": {},
   "outputs": [],
   "source": [
    "# PSAT data\n",
    "# Delete header rows & set column headers\n",
    "df_2017_PSAT_multicat = df_2017_PSAT_multicat_raw.drop(df_2017_PSAT_multicat_raw.index[0:17])\n",
    "df_2017_PSAT_multicat.columns = df_2017_PSAT_multicat.iloc[0]\n",
    "df_2017_PSAT_multicat = df_2017_PSAT_multicat.drop(df_2017_PSAT_multicat.index[0])\n",
    "df_2017_PSAT_multicat.columns.name = 'index'\n",
    "df_2017_PSAT_multicat = df_2017_PSAT_multicat.reset_index().drop(['index'], axis=1)\n",
    "\n",
    "# Drop unnecessary columns\n",
    "df_2017_PSAT_multicat = df_2017_PSAT_multicat.drop(['Academic Year','Standard Deviation','% Participation','Score Count','Test Name'], axis=1)"
   ]
  },
  {
   "cell_type": "code",
   "execution_count": 8,
   "id": "1b19dd5c",
   "metadata": {},
   "outputs": [],
   "source": [
    "# Forward fill missing data.  This works because of the format of the original xlsx document\n",
    "ffill_cols = ['State/District/School',\n",
    " 'Subject',\n",
    " 'Gender',\n",
    " 'Ethnicity',\n",
    " 'Free and Reduced Lunch',\n",
    " 'English Language Learners',\n",
    " 'IEP']\n",
    "\n",
    "df_2018_multicat[ffill_cols] = df_2018_multicat[ffill_cols].fillna(method='ffill') \n",
    "df_2017_PSAT_multicat[ffill_cols] = df_2017_PSAT_multicat[ffill_cols].fillna(method='ffill') "
   ]
  },
  {
   "cell_type": "code",
   "execution_count": 9,
   "id": "8b474b76",
   "metadata": {},
   "outputs": [],
   "source": [
    "# Drop empty scores\n",
    "schools_2018_multicat = df_2018_multicat[df_2018_multicat['Mean Scale Score'] != '-']\n",
    "schools_2017_PSAT_multicat = df_2017_PSAT_multicat[df_2017_PSAT_multicat['Mean Scale Score'] != '-']"
   ]
  },
  {
   "cell_type": "code",
   "execution_count": 10,
   "id": "a3aaa59d",
   "metadata": {},
   "outputs": [
    {
     "name": "stderr",
     "output_type": "stream",
     "text": [
      "C:\\Users\\conte\\AppData\\Local\\Temp\\ipykernel_60940\\3082007533.py:3: SettingWithCopyWarning: \n",
      "A value is trying to be set on a copy of a slice from a DataFrame.\n",
      "Try using .loc[row_indexer,col_indexer] = value instead\n",
      "\n",
      "See the caveats in the documentation: https://pandas.pydata.org/pandas-docs/stable/user_guide/indexing.html#returning-a-view-versus-a-copy\n",
      "  schools_2018_multicat[['District Name', 'School Name']] = district_and_name;\n",
      "C:\\Users\\conte\\AppData\\Local\\Temp\\ipykernel_60940\\3082007533.py:3: SettingWithCopyWarning: \n",
      "A value is trying to be set on a copy of a slice from a DataFrame.\n",
      "Try using .loc[row_indexer,col_indexer] = value instead\n",
      "\n",
      "See the caveats in the documentation: https://pandas.pydata.org/pandas-docs/stable/user_guide/indexing.html#returning-a-view-versus-a-copy\n",
      "  schools_2018_multicat[['District Name', 'School Name']] = district_and_name;\n",
      "C:\\Users\\conte\\AppData\\Local\\Temp\\ipykernel_60940\\3082007533.py:6: SettingWithCopyWarning: \n",
      "A value is trying to be set on a copy of a slice from a DataFrame.\n",
      "Try using .loc[row_indexer,col_indexer] = value instead\n",
      "\n",
      "See the caveats in the documentation: https://pandas.pydata.org/pandas-docs/stable/user_guide/indexing.html#returning-a-view-versus-a-copy\n",
      "  schools_2017_PSAT_multicat[['District Name', 'School Name']] = district_and_name;\n",
      "C:\\Users\\conte\\AppData\\Local\\Temp\\ipykernel_60940\\3082007533.py:6: SettingWithCopyWarning: \n",
      "A value is trying to be set on a copy of a slice from a DataFrame.\n",
      "Try using .loc[row_indexer,col_indexer] = value instead\n",
      "\n",
      "See the caveats in the documentation: https://pandas.pydata.org/pandas-docs/stable/user_guide/indexing.html#returning-a-view-versus-a-copy\n",
      "  schools_2017_PSAT_multicat[['District Name', 'School Name']] = district_and_name;\n"
     ]
    }
   ],
   "source": [
    "# Split 'State/District/School' col into 'District Name' and 'School Name' columns\n",
    "district_and_name = schools_2018_multicat['State/District/School'].str.split(':', expand=True).iloc[:,[0,1]];\n",
    "schools_2018_multicat[['District Name', 'School Name']] = district_and_name;\n",
    "\n",
    "district_and_name = schools_2017_PSAT_multicat['State/District/School'].str.split(':', expand=True).iloc[:,[0,1]];\n",
    "schools_2017_PSAT_multicat[['District Name', 'School Name']] = district_and_name;"
   ]
  },
  {
   "cell_type": "code",
   "execution_count": 11,
   "id": "2f79e87d",
   "metadata": {},
   "outputs": [],
   "source": [
    "# Drop 'State/District/School' column\n",
    "schools_2018_multicat = schools_2018_multicat.drop(['State/District/School'], axis=1, errors='ignore')\n",
    "schools_2017_PSAT_multicat = schools_2017_PSAT_multicat.drop(['State/District/School'], axis=1, errors='ignore')\n",
    "\n",
    "#Reorder columns with district and name as first columns\n",
    "schools_2018_multicat = schools_2018_multicat[['District Name',\n",
    "       'School Name', 'Subject', 'Gender', 'Ethnicity', 'Free and Reduced Lunch',\n",
    "       'English Language Learners', 'IEP', 'Mean Scale Score']]\n",
    "schools_2017_PSAT_multicat = schools_2017_PSAT_multicat[['District Name',\n",
    "       'School Name', 'Subject', 'Gender', 'Ethnicity', 'Free and Reduced Lunch',\n",
    "       'English Language Learners', 'IEP', 'Mean Scale Score']]"
   ]
  },
  {
   "cell_type": "code",
   "execution_count": 12,
   "id": "2d2eeb36",
   "metadata": {},
   "outputs": [],
   "source": [
    "# Create school and district number columns\n",
    "schools_2018_multicat['District Number'] = schools_2018_multicat['District Name'].str.extract('.*\\((.*)\\).*')\n",
    "schools_2018_multicat['School Number'] = schools_2018_multicat['School Name'].str.extract('.*\\((.*)\\).*')\n",
    "\n",
    "schools_2017_PSAT_multicat['District Number'] = schools_2017_PSAT_multicat['District Name'].str.extract('.*\\((.*)\\).*')\n",
    "schools_2017_PSAT_multicat['School Number'] = schools_2017_PSAT_multicat['School Name'].str.extract('.*\\((.*)\\).*')"
   ]
  },
  {
   "cell_type": "code",
   "execution_count": 13,
   "id": "3f94f49d",
   "metadata": {
    "scrolled": true
   },
   "outputs": [
    {
     "name": "stderr",
     "output_type": "stream",
     "text": [
      "C:\\Users\\conte\\AppData\\Local\\Temp\\ipykernel_60940\\3753758004.py:2: FutureWarning: The default value of regex will change from True to False in a future version.\n",
      "  schools_2018_multicat['District Name'] = schools_2018_multicat['District Name'].str.replace('\\(.*$', '')\n",
      "C:\\Users\\conte\\AppData\\Local\\Temp\\ipykernel_60940\\3753758004.py:3: FutureWarning: The default value of regex will change from True to False in a future version.\n",
      "  schools_2018_multicat['School Name'] = schools_2018_multicat['School Name'].str.replace('\\(.*$', '')\n",
      "C:\\Users\\conte\\AppData\\Local\\Temp\\ipykernel_60940\\3753758004.py:5: FutureWarning: The default value of regex will change from True to False in a future version.\n",
      "  schools_2017_PSAT_multicat['District Name'] = schools_2017_PSAT_multicat['District Name'].str.replace('\\(.*$', '')\n",
      "C:\\Users\\conte\\AppData\\Local\\Temp\\ipykernel_60940\\3753758004.py:6: FutureWarning: The default value of regex will change from True to False in a future version.\n",
      "  schools_2017_PSAT_multicat['School Name'] = schools_2017_PSAT_multicat['School Name'].str.replace('\\(.*$', '')\n"
     ]
    }
   ],
   "source": [
    "# Strip School and District names of numbers\n",
    "schools_2018_multicat['District Name'] = schools_2018_multicat['District Name'].str.replace('\\(.*$', '')\n",
    "schools_2018_multicat['School Name'] = schools_2018_multicat['School Name'].str.replace('\\(.*$', '')\n",
    "\n",
    "schools_2017_PSAT_multicat['District Name'] = schools_2017_PSAT_multicat['District Name'].str.replace('\\(.*$', '')\n",
    "schools_2017_PSAT_multicat['School Name'] = schools_2017_PSAT_multicat['School Name'].str.replace('\\(.*$', '')"
   ]
  },
  {
   "cell_type": "code",
   "execution_count": 14,
   "id": "52788494",
   "metadata": {
    "scrolled": true
   },
   "outputs": [],
   "source": [
    "# Set school & district names lowercase\n",
    "\n",
    "schools_2018_multicat['District Name'] = schools_2018_multicat.loc[:,'District Name'].str.lower()\n",
    "schools_2018_multicat['School Name'] = schools_2018_multicat.loc[:,'School Name'].str.lower()\n",
    "\n",
    "schools_2017_PSAT_multicat['District Name'] = schools_2017_PSAT_multicat.loc[:,'District Name'].str.lower()\n",
    "schools_2017_PSAT_multicat['School Name'] = schools_2017_PSAT_multicat.loc[:,'School Name'].str.lower()"
   ]
  },
  {
   "cell_type": "code",
   "execution_count": 15,
   "id": "c3b8d327",
   "metadata": {},
   "outputs": [],
   "source": [
    "# Strip whitespace\n",
    "schools_2018_multicat['District Name'] = schools_2018_multicat.loc[:,'District Name'].str.strip()\n",
    "schools_2018_multicat['School Name'] = schools_2018_multicat.loc[:,'School Name'].str.strip()\n",
    "\n",
    "schools_2017_PSAT_multicat['District Name'] = schools_2017_PSAT_multicat.loc[:,'District Name'].str.strip()\n",
    "schools_2017_PSAT_multicat['School Name'] = schools_2017_PSAT_multicat.loc[:,'School Name'].str.strip()"
   ]
  },
  {
   "cell_type": "code",
   "execution_count": 16,
   "id": "45796f20",
   "metadata": {},
   "outputs": [],
   "source": [
    "cols = list(schools_2018_multicat.columns)\n",
    "new_cols = ['District Name',\n",
    "             'School Name',\n",
    "             'Subject',\n",
    "             'Gend',\n",
    "             'Ethn',\n",
    "             'FRL',\n",
    "             'ELL',\n",
    "             'IEP',\n",
    "             'Mean Score',\n",
    "             'District Number',\n",
    "             'School Number']\n",
    "\n",
    "schools_2018_multicat.columns = new_cols\n",
    "schools_2017_PSAT_multicat.columns = new_cols"
   ]
  },
  {
   "cell_type": "code",
   "execution_count": 17,
   "id": "02141e9b",
   "metadata": {},
   "outputs": [],
   "source": [
    "# Reorder columns\n",
    "schools_2018_multicat = schools_2018_multicat[['District Number',\n",
    "                       'District Name',\n",
    "                       'School Number',\n",
    "                       'School Name',\n",
    "                       'Subject',\n",
    "                       'Gend',\n",
    "                       'Ethn',\n",
    "                       'FRL',\n",
    "                       'ELL',\n",
    "                       'IEP',\n",
    "                       'Mean Score']]\n",
    "\n",
    "schools_2017_PSAT_multicat = schools_2017_PSAT_multicat[['District Number',\n",
    "                       'District Name',\n",
    "                       'School Number',\n",
    "                       'School Name',\n",
    "                       'Subject',\n",
    "                       'Gend',\n",
    "                       'Ethn',\n",
    "                       'FRL',\n",
    "                       'ELL',\n",
    "                       'IEP',\n",
    "                       'Mean Score']]"
   ]
  },
  {
   "cell_type": "code",
   "execution_count": 18,
   "id": "1be1dee5",
   "metadata": {
    "scrolled": true
   },
   "outputs": [],
   "source": [
    "# Create new dataframe containing both scores in a single line for a given demographic group\n",
    "\n",
    "schools_2018_multicat_math = schools_2018_multicat.loc[schools_2018_multicat['Subject'] == 'Math']\n",
    "schools_2018_multicat_math = schools_2018_multicat_math.rename(columns={'Mean Score':'Mean Score SAT Math'})\n",
    "schools_2018_multicat_EBRW = schools_2018_multicat.loc[schools_2018_multicat['Subject'] == 'Evidence-Based Reading And Writing']\n",
    "schools_2018_multicat_EBRW = schools_2018_multicat_EBRW.rename(columns={'Mean Score':'Mean Score SAT EBRW'})\n",
    "schools_2018_multicat_EBRW = schools_2018_multicat_EBRW.reset_index()\n",
    "\n",
    "schools_SAT_2018_multicat_combined = schools_2018_multicat_math.reset_index()\n",
    "schools_SAT_2018_multicat_combined['Mean Score SAT EBRW'] = schools_2018_multicat_EBRW['Mean Score SAT EBRW']\n",
    "\n",
    "schools_SAT_2018_multicat_combined = schools_SAT_2018_multicat_combined.drop(['index','Subject'],axis=1)\n",
    "\n",
    "\n",
    "# Now for PSAT data\n",
    "schools_2017_PSAT_multicat_math = schools_2017_PSAT_multicat.loc[schools_2017_PSAT_multicat['Subject'] == 'Math']\n",
    "schools_2017_PSAT_multicat_math = schools_2017_PSAT_multicat_math.rename(columns={'Mean Score':'Mean Score PSAT Math'})\n",
    "schools_2017_PSAT_multicat_EBRW = schools_2017_PSAT_multicat.loc[schools_2017_PSAT_multicat['Subject'] == 'Evidence-Based Reading And Writing']\n",
    "schools_2017_PSAT_multicat_EBRW = schools_2017_PSAT_multicat_EBRW.rename(columns={'Mean Score':'Mean Score PSAT EBRW'})\n",
    "schools_2017_PSAT_multicat_EBRW = schools_2017_PSAT_multicat_EBRW.reset_index()\n",
    "\n",
    "schools_2017_PSAT_multicat_combined = schools_2017_PSAT_multicat_math.reset_index()\n",
    "schools_2017_PSAT_multicat_combined['Mean Score PSAT EBRW'] = schools_2017_PSAT_multicat_EBRW['Mean Score PSAT EBRW']\n",
    "\n",
    "schools_2017_PSAT_multicat_combined = schools_2017_PSAT_multicat_combined.drop(['index','Subject'],axis=1)"
   ]
  },
  {
   "cell_type": "markdown",
   "id": "863e75f5",
   "metadata": {},
   "source": [
    "### Check formatting of each df"
   ]
  },
  {
   "cell_type": "code",
   "execution_count": 19,
   "id": "528e3388",
   "metadata": {},
   "outputs": [
    {
     "data": {
      "text/html": [
       "<div>\n",
       "<style scoped>\n",
       "    .dataframe tbody tr th:only-of-type {\n",
       "        vertical-align: middle;\n",
       "    }\n",
       "\n",
       "    .dataframe tbody tr th {\n",
       "        vertical-align: top;\n",
       "    }\n",
       "\n",
       "    .dataframe thead th {\n",
       "        text-align: right;\n",
       "    }\n",
       "</style>\n",
       "<table border=\"1\" class=\"dataframe\">\n",
       "  <thead>\n",
       "    <tr style=\"text-align: right;\">\n",
       "      <th></th>\n",
       "      <th>District Number</th>\n",
       "      <th>District Name</th>\n",
       "      <th>School Number</th>\n",
       "      <th>School Name</th>\n",
       "      <th>Gend</th>\n",
       "      <th>Ethn</th>\n",
       "      <th>FRL</th>\n",
       "      <th>ELL</th>\n",
       "      <th>IEP</th>\n",
       "      <th>Mean Score SAT Math</th>\n",
       "      <th>Mean Score SAT EBRW</th>\n",
       "    </tr>\n",
       "  </thead>\n",
       "  <tbody>\n",
       "    <tr>\n",
       "      <th>0</th>\n",
       "      <td>1040</td>\n",
       "      <td>academy 20</td>\n",
       "      <td>0110</td>\n",
       "      <td>academy online</td>\n",
       "      <td>Male</td>\n",
       "      <td>White</td>\n",
       "      <td>Not FRL Eligible</td>\n",
       "      <td>Not English Learners</td>\n",
       "      <td>Students without IEPs</td>\n",
       "      <td>505.882353</td>\n",
       "      <td>560.588235</td>\n",
       "    </tr>\n",
       "    <tr>\n",
       "      <th>1</th>\n",
       "      <td>1040</td>\n",
       "      <td>academy 20</td>\n",
       "      <td>0076</td>\n",
       "      <td>air academy high school</td>\n",
       "      <td>Female</td>\n",
       "      <td>White</td>\n",
       "      <td>Not FRL Eligible</td>\n",
       "      <td>Not English Learners</td>\n",
       "      <td>Students without IEPs</td>\n",
       "      <td>537.757009</td>\n",
       "      <td>562.056075</td>\n",
       "    </tr>\n",
       "    <tr>\n",
       "      <th>2</th>\n",
       "      <td>1040</td>\n",
       "      <td>academy 20</td>\n",
       "      <td>0076</td>\n",
       "      <td>air academy high school</td>\n",
       "      <td>Male</td>\n",
       "      <td>White</td>\n",
       "      <td>Not FRL Eligible</td>\n",
       "      <td>Not English Learners</td>\n",
       "      <td>Students without IEPs</td>\n",
       "      <td>574.725275</td>\n",
       "      <td>564.395604</td>\n",
       "    </tr>\n",
       "    <tr>\n",
       "      <th>3</th>\n",
       "      <td>1040</td>\n",
       "      <td>academy 20</td>\n",
       "      <td>2195</td>\n",
       "      <td>discovery canyon campus high school</td>\n",
       "      <td>Female</td>\n",
       "      <td>Hispanic</td>\n",
       "      <td>Not FRL Eligible</td>\n",
       "      <td>Not English Learners</td>\n",
       "      <td>Students without IEPs</td>\n",
       "      <td>503.529412</td>\n",
       "      <td>517.058824</td>\n",
       "    </tr>\n",
       "    <tr>\n",
       "      <th>4</th>\n",
       "      <td>1040</td>\n",
       "      <td>academy 20</td>\n",
       "      <td>2195</td>\n",
       "      <td>discovery canyon campus high school</td>\n",
       "      <td>Female</td>\n",
       "      <td>White</td>\n",
       "      <td>Not FRL Eligible</td>\n",
       "      <td>Not English Learners</td>\n",
       "      <td>Students without IEPs</td>\n",
       "      <td>560.444444</td>\n",
       "      <td>579.222222</td>\n",
       "    </tr>\n",
       "  </tbody>\n",
       "</table>\n",
       "</div>"
      ],
      "text/plain": [
       "  District Number District Name School Number  \\\n",
       "0            1040    academy 20          0110   \n",
       "1            1040    academy 20          0076   \n",
       "2            1040    academy 20          0076   \n",
       "3            1040    academy 20          2195   \n",
       "4            1040    academy 20          2195   \n",
       "\n",
       "                           School Name    Gend      Ethn               FRL  \\\n",
       "0                       academy online    Male     White  Not FRL Eligible   \n",
       "1              air academy high school  Female     White  Not FRL Eligible   \n",
       "2              air academy high school    Male     White  Not FRL Eligible   \n",
       "3  discovery canyon campus high school  Female  Hispanic  Not FRL Eligible   \n",
       "4  discovery canyon campus high school  Female     White  Not FRL Eligible   \n",
       "\n",
       "                    ELL                    IEP Mean Score SAT Math  \\\n",
       "0  Not English Learners  Students without IEPs          505.882353   \n",
       "1  Not English Learners  Students without IEPs          537.757009   \n",
       "2  Not English Learners  Students without IEPs          574.725275   \n",
       "3  Not English Learners  Students without IEPs          503.529412   \n",
       "4  Not English Learners  Students without IEPs          560.444444   \n",
       "\n",
       "  Mean Score SAT EBRW  \n",
       "0          560.588235  \n",
       "1          562.056075  \n",
       "2          564.395604  \n",
       "3          517.058824  \n",
       "4          579.222222  "
      ]
     },
     "execution_count": 19,
     "metadata": {},
     "output_type": "execute_result"
    }
   ],
   "source": [
    "schools_SAT_2018_multicat_combined.head()"
   ]
  },
  {
   "cell_type": "code",
   "execution_count": 20,
   "id": "7724f672",
   "metadata": {},
   "outputs": [
    {
     "data": {
      "text/html": [
       "<div>\n",
       "<style scoped>\n",
       "    .dataframe tbody tr th:only-of-type {\n",
       "        vertical-align: middle;\n",
       "    }\n",
       "\n",
       "    .dataframe tbody tr th {\n",
       "        vertical-align: top;\n",
       "    }\n",
       "\n",
       "    .dataframe thead th {\n",
       "        text-align: right;\n",
       "    }\n",
       "</style>\n",
       "<table border=\"1\" class=\"dataframe\">\n",
       "  <thead>\n",
       "    <tr style=\"text-align: right;\">\n",
       "      <th></th>\n",
       "      <th>District Number</th>\n",
       "      <th>District Name</th>\n",
       "      <th>School Number</th>\n",
       "      <th>School Name</th>\n",
       "      <th>Gend</th>\n",
       "      <th>Ethn</th>\n",
       "      <th>FRL</th>\n",
       "      <th>ELL</th>\n",
       "      <th>IEP</th>\n",
       "      <th>Mean Score PSAT Math</th>\n",
       "      <th>Mean Score PSAT EBRW</th>\n",
       "    </tr>\n",
       "  </thead>\n",
       "  <tbody>\n",
       "    <tr>\n",
       "      <th>0</th>\n",
       "      <td>1040</td>\n",
       "      <td>academy 20</td>\n",
       "      <td>0076</td>\n",
       "      <td>air academy high school</td>\n",
       "      <td>Female</td>\n",
       "      <td>White</td>\n",
       "      <td>Not FRL Eligible</td>\n",
       "      <td>Not English Learners</td>\n",
       "      <td>Students without IEPs</td>\n",
       "      <td>501.909091</td>\n",
       "      <td>535.272727</td>\n",
       "    </tr>\n",
       "    <tr>\n",
       "      <th>1</th>\n",
       "      <td>1040</td>\n",
       "      <td>academy 20</td>\n",
       "      <td>0076</td>\n",
       "      <td>air academy high school</td>\n",
       "      <td>Male</td>\n",
       "      <td>White</td>\n",
       "      <td>Not FRL Eligible</td>\n",
       "      <td>Not English Learners</td>\n",
       "      <td>Students without IEPs</td>\n",
       "      <td>541.5625</td>\n",
       "      <td>524.583333</td>\n",
       "    </tr>\n",
       "    <tr>\n",
       "      <th>2</th>\n",
       "      <td>1040</td>\n",
       "      <td>academy 20</td>\n",
       "      <td>2195</td>\n",
       "      <td>discovery canyon campus high school</td>\n",
       "      <td>Female</td>\n",
       "      <td>White</td>\n",
       "      <td>Not FRL Eligible</td>\n",
       "      <td>Not English Learners</td>\n",
       "      <td>Students without IEPs</td>\n",
       "      <td>521.397849</td>\n",
       "      <td>542.580645</td>\n",
       "    </tr>\n",
       "    <tr>\n",
       "      <th>3</th>\n",
       "      <td>1040</td>\n",
       "      <td>academy 20</td>\n",
       "      <td>2195</td>\n",
       "      <td>discovery canyon campus high school</td>\n",
       "      <td>Male</td>\n",
       "      <td>White</td>\n",
       "      <td>Not FRL Eligible</td>\n",
       "      <td>Not English Learners</td>\n",
       "      <td>Students without IEPs</td>\n",
       "      <td>554.390244</td>\n",
       "      <td>541.219512</td>\n",
       "    </tr>\n",
       "    <tr>\n",
       "      <th>4</th>\n",
       "      <td>1040</td>\n",
       "      <td>academy 20</td>\n",
       "      <td>5126</td>\n",
       "      <td>liberty high school</td>\n",
       "      <td>Female</td>\n",
       "      <td>Hispanic</td>\n",
       "      <td>Not FRL Eligible</td>\n",
       "      <td>Not English Learners</td>\n",
       "      <td>Students without IEPs</td>\n",
       "      <td>440</td>\n",
       "      <td>466.470588</td>\n",
       "    </tr>\n",
       "  </tbody>\n",
       "</table>\n",
       "</div>"
      ],
      "text/plain": [
       "  District Number District Name School Number  \\\n",
       "0            1040    academy 20          0076   \n",
       "1            1040    academy 20          0076   \n",
       "2            1040    academy 20          2195   \n",
       "3            1040    academy 20          2195   \n",
       "4            1040    academy 20          5126   \n",
       "\n",
       "                           School Name    Gend      Ethn               FRL  \\\n",
       "0              air academy high school  Female     White  Not FRL Eligible   \n",
       "1              air academy high school    Male     White  Not FRL Eligible   \n",
       "2  discovery canyon campus high school  Female     White  Not FRL Eligible   \n",
       "3  discovery canyon campus high school    Male     White  Not FRL Eligible   \n",
       "4                  liberty high school  Female  Hispanic  Not FRL Eligible   \n",
       "\n",
       "                    ELL                    IEP Mean Score PSAT Math  \\\n",
       "0  Not English Learners  Students without IEPs           501.909091   \n",
       "1  Not English Learners  Students without IEPs             541.5625   \n",
       "2  Not English Learners  Students without IEPs           521.397849   \n",
       "3  Not English Learners  Students without IEPs           554.390244   \n",
       "4  Not English Learners  Students without IEPs                  440   \n",
       "\n",
       "  Mean Score PSAT EBRW  \n",
       "0           535.272727  \n",
       "1           524.583333  \n",
       "2           542.580645  \n",
       "3           541.219512  \n",
       "4           466.470588  "
      ]
     },
     "execution_count": 20,
     "metadata": {},
     "output_type": "execute_result"
    }
   ],
   "source": [
    "schools_2017_PSAT_multicat_combined.head()"
   ]
  },
  {
   "cell_type": "code",
   "execution_count": 21,
   "id": "fbbeefb0",
   "metadata": {},
   "outputs": [
    {
     "data": {
      "text/html": [
       "<div>\n",
       "<style scoped>\n",
       "    .dataframe tbody tr th:only-of-type {\n",
       "        vertical-align: middle;\n",
       "    }\n",
       "\n",
       "    .dataframe tbody tr th {\n",
       "        vertical-align: top;\n",
       "    }\n",
       "\n",
       "    .dataframe thead th {\n",
       "        text-align: right;\n",
       "    }\n",
       "</style>\n",
       "<table border=\"1\" class=\"dataframe\">\n",
       "  <thead>\n",
       "    <tr style=\"text-align: right;\">\n",
       "      <th></th>\n",
       "      <th>District Number</th>\n",
       "      <th>District Name</th>\n",
       "      <th>School Number</th>\n",
       "      <th>School Name</th>\n",
       "      <th>Gend</th>\n",
       "      <th>Ethn</th>\n",
       "      <th>FRL</th>\n",
       "      <th>ELL</th>\n",
       "      <th>IEP</th>\n",
       "      <th>Mean Score SAT Math</th>\n",
       "      <th>Mean Score SAT EBRW</th>\n",
       "    </tr>\n",
       "  </thead>\n",
       "  <tbody>\n",
       "    <tr>\n",
       "      <th>256</th>\n",
       "      <td>0880</td>\n",
       "      <td>denver county 1</td>\n",
       "      <td>NaN</td>\n",
       "      <td>dsst</td>\n",
       "      <td>Male</td>\n",
       "      <td>Hispanic</td>\n",
       "      <td>FRL Eligible</td>\n",
       "      <td>English Learners</td>\n",
       "      <td>Students without IEPs</td>\n",
       "      <td>546.842105</td>\n",
       "      <td>525.789474</td>\n",
       "    </tr>\n",
       "    <tr>\n",
       "      <th>257</th>\n",
       "      <td>0880</td>\n",
       "      <td>denver county 1</td>\n",
       "      <td>NaN</td>\n",
       "      <td>dsst</td>\n",
       "      <td>Male</td>\n",
       "      <td>White</td>\n",
       "      <td>Not FRL Eligible</td>\n",
       "      <td>Not English Learners</td>\n",
       "      <td>Students without IEPs</td>\n",
       "      <td>692.631579</td>\n",
       "      <td>672.105263</td>\n",
       "    </tr>\n",
       "  </tbody>\n",
       "</table>\n",
       "</div>"
      ],
      "text/plain": [
       "    District Number    District Name School Number School Name  Gend  \\\n",
       "256            0880  denver county 1           NaN        dsst  Male   \n",
       "257            0880  denver county 1           NaN        dsst  Male   \n",
       "\n",
       "         Ethn               FRL                   ELL                    IEP  \\\n",
       "256  Hispanic      FRL Eligible      English Learners  Students without IEPs   \n",
       "257     White  Not FRL Eligible  Not English Learners  Students without IEPs   \n",
       "\n",
       "    Mean Score SAT Math Mean Score SAT EBRW  \n",
       "256          546.842105          525.789474  \n",
       "257          692.631579          672.105263  "
      ]
     },
     "execution_count": 21,
     "metadata": {},
     "output_type": "execute_result"
    }
   ],
   "source": [
    "schools_SAT_2018_multicat_combined[schools_SAT_2018_multicat_combined['School Number'].isna()]"
   ]
  },
  {
   "cell_type": "code",
   "execution_count": 22,
   "id": "8bfdadb1",
   "metadata": {},
   "outputs": [
    {
     "data": {
      "text/html": [
       "<div>\n",
       "<style scoped>\n",
       "    .dataframe tbody tr th:only-of-type {\n",
       "        vertical-align: middle;\n",
       "    }\n",
       "\n",
       "    .dataframe tbody tr th {\n",
       "        vertical-align: top;\n",
       "    }\n",
       "\n",
       "    .dataframe thead th {\n",
       "        text-align: right;\n",
       "    }\n",
       "</style>\n",
       "<table border=\"1\" class=\"dataframe\">\n",
       "  <thead>\n",
       "    <tr style=\"text-align: right;\">\n",
       "      <th></th>\n",
       "      <th>District Number</th>\n",
       "      <th>District Name</th>\n",
       "      <th>School Number</th>\n",
       "      <th>School Name</th>\n",
       "      <th>Gend</th>\n",
       "      <th>Ethn</th>\n",
       "      <th>FRL</th>\n",
       "      <th>ELL</th>\n",
       "      <th>IEP</th>\n",
       "      <th>Mean Score SAT Math</th>\n",
       "      <th>Mean Score SAT EBRW</th>\n",
       "    </tr>\n",
       "  </thead>\n",
       "  <tbody>\n",
       "    <tr>\n",
       "      <th>256</th>\n",
       "      <td>0880</td>\n",
       "      <td>denver county 1</td>\n",
       "      <td>NaN</td>\n",
       "      <td>dsst</td>\n",
       "      <td>Male</td>\n",
       "      <td>Hispanic</td>\n",
       "      <td>FRL Eligible</td>\n",
       "      <td>English Learners</td>\n",
       "      <td>Students without IEPs</td>\n",
       "      <td>546.842105</td>\n",
       "      <td>525.789474</td>\n",
       "    </tr>\n",
       "    <tr>\n",
       "      <th>257</th>\n",
       "      <td>0880</td>\n",
       "      <td>denver county 1</td>\n",
       "      <td>NaN</td>\n",
       "      <td>dsst</td>\n",
       "      <td>Male</td>\n",
       "      <td>White</td>\n",
       "      <td>Not FRL Eligible</td>\n",
       "      <td>Not English Learners</td>\n",
       "      <td>Students without IEPs</td>\n",
       "      <td>692.631579</td>\n",
       "      <td>672.105263</td>\n",
       "    </tr>\n",
       "  </tbody>\n",
       "</table>\n",
       "</div>"
      ],
      "text/plain": [
       "    District Number    District Name School Number School Name  Gend  \\\n",
       "256            0880  denver county 1           NaN        dsst  Male   \n",
       "257            0880  denver county 1           NaN        dsst  Male   \n",
       "\n",
       "         Ethn               FRL                   ELL                    IEP  \\\n",
       "256  Hispanic      FRL Eligible      English Learners  Students without IEPs   \n",
       "257     White  Not FRL Eligible  Not English Learners  Students without IEPs   \n",
       "\n",
       "    Mean Score SAT Math Mean Score SAT EBRW  \n",
       "256          546.842105          525.789474  \n",
       "257          692.631579          672.105263  "
      ]
     },
     "execution_count": 22,
     "metadata": {},
     "output_type": "execute_result"
    }
   ],
   "source": [
    "schools_SAT_2018_multicat_combined[schools_SAT_2018_multicat_combined['School Name'] == 'dsst']"
   ]
  },
  {
   "cell_type": "markdown",
   "id": "ce74d423",
   "metadata": {},
   "source": [
    "# Income data & zip code data"
   ]
  },
  {
   "cell_type": "code",
   "execution_count": 23,
   "id": "ea3afaf0",
   "metadata": {
    "scrolled": true
   },
   "outputs": [],
   "source": [
    "# Get median family income by zip code\n",
    "\n",
    "url = 'http://www.usa.com/rank/colorado-state--median-family-income--zip-code-rank.htm'\n",
    "\n",
    "html = requests.get(url).content\n",
    "df_list = pd.read_html(html)\n",
    "income_zipcodes = df_list[-1]\n",
    "income_zipcodes.columns = income_zipcodes.iloc[0]\n",
    "income_zipcodes = income_zipcodes.drop(income_zipcodes.index[0])\n",
    "income_zipcodes = income_zipcodes.drop(['Rank'], axis=1, errors='ignore')"
   ]
  },
  {
   "cell_type": "code",
   "execution_count": 24,
   "id": "4e9809d8",
   "metadata": {},
   "outputs": [],
   "source": [
    "# Split 'State/District/School' col into 'District Name' and 'School Name' columns\n",
    "zip_pop = income_zipcodes['Zip / Population'].str.split('/', expand=True)\n",
    "income_zipcodes[['Zip Code', 'Population']] = zip_pop;\n",
    "income_zipcodes = income_zipcodes.drop(['Zip / Population'], axis=1, errors='ignore')"
   ]
  },
  {
   "cell_type": "code",
   "execution_count": 25,
   "id": "bdae4744",
   "metadata": {},
   "outputs": [],
   "source": [
    "# Rename silly column\n",
    "income_zipcodes = income_zipcodes.rename(columns={'Median Family Income ▼':'Median Family Income'})"
   ]
  },
  {
   "cell_type": "code",
   "execution_count": 26,
   "id": "6ca6c71f",
   "metadata": {},
   "outputs": [],
   "source": [
    "# Remove non-numeric characters\n",
    "income_zipcodes['Median Family Income'] = income_zipcodes['Median Family Income'].str.strip('$')\n",
    "income_zipcodes['Median Family Income'] = income_zipcodes['Median Family Income'].str.replace(',','')\n",
    "income_zipcodes['Population'] = income_zipcodes['Population'].str.replace(',','')"
   ]
  },
  {
   "cell_type": "code",
   "execution_count": 27,
   "id": "c3a0adbf",
   "metadata": {},
   "outputs": [],
   "source": [
    "# Load school physical addresses from spreadsheet\n",
    "\n",
    "school_addresses = pd.read_excel('../raw_data/Public School Mailing Labels 2021-2022.xlsx', sheet_name='School Physical Address')"
   ]
  },
  {
   "cell_type": "code",
   "execution_count": 28,
   "id": "de631583",
   "metadata": {},
   "outputs": [],
   "source": [
    "# Load school mailing addresses\n",
    "\n",
    "school_maddresses = pd.read_excel('../raw_data/Public School Mailing Labels 2021-2022.xlsx', sheet_name='School Mailing Address ')\n",
    "school_maddresses.columns = school_maddresses.iloc[0]\n",
    "school_maddresses = school_maddresses.drop(school_maddresses.index[0])"
   ]
  },
  {
   "cell_type": "code",
   "execution_count": 29,
   "id": "9cead363",
   "metadata": {
    "scrolled": false
   },
   "outputs": [],
   "source": [
    "# Rename columns\n",
    "school_zipcodes = school_addresses[['SCHOOL_CODE', 'PHYSICAL_ZIPCODE']]\n",
    "school_zipcodes = school_zipcodes.rename(columns={'SCHOOL_CODE': 'School Number', 'PHYSICAL_ZIPCODE':'Zip Code'})"
   ]
  },
  {
   "cell_type": "code",
   "execution_count": 30,
   "id": "883bc3c3",
   "metadata": {},
   "outputs": [],
   "source": [
    "# Rename columns\n",
    "school_mzipcodes = school_maddresses[['SCHOOL_CODE', 'MAILING_ZIPCODE']]\n",
    "school_mzipcodes = school_mzipcodes.rename(columns={'SCHOOL_CODE': 'School Number', 'MAILING_ZIPCODE':'Zip Code'})"
   ]
  },
  {
   "cell_type": "code",
   "execution_count": 31,
   "id": "f3626a88",
   "metadata": {},
   "outputs": [],
   "source": [
    "# Change column dtypes\n",
    "school_mzipcodes = school_mzipcodes.astype({'School Number': 'str', 'Zip Code': 'Int64'})\n",
    "income_zipcodes = income_zipcodes.astype({'Median Family Income': 'int', 'Zip Code': 'Int64', 'Population':'int'})"
   ]
  },
  {
   "cell_type": "code",
   "execution_count": 32,
   "id": "39e3284b",
   "metadata": {
    "scrolled": false
   },
   "outputs": [],
   "source": [
    "# Merge income/zipcode df with school/zipcode df\n",
    "\n",
    "school_inc_zip = school_mzipcodes.merge(income_zipcodes, on=\"Zip Code\", how='left')\n",
    "school_inc_zip = school_inc_zip[['School Number', 'Zip Code','Median Family Income','Population']]"
   ]
  },
  {
   "cell_type": "code",
   "execution_count": 33,
   "id": "801f5e01",
   "metadata": {
    "scrolled": true
   },
   "outputs": [],
   "source": [
    "schools_SAT_2018_multicat_inc = schools_SAT_2018_multicat_combined.merge(school_inc_zip, how='left', on='School Number')\n",
    "schools_PSAT_2017_multicat_inc = schools_2017_PSAT_multicat_combined.merge(school_inc_zip, how='left', on='School Number')"
   ]
  },
  {
   "cell_type": "markdown",
   "id": "bf295d37",
   "metadata": {},
   "source": [
    "# Final checks before export to csv"
   ]
  },
  {
   "cell_type": "code",
   "execution_count": 34,
   "id": "15b2698c",
   "metadata": {},
   "outputs": [
    {
     "data": {
      "text/plain": [
       "District Number          2\n",
       "District Name            0\n",
       "School Number            2\n",
       "School Name              0\n",
       "Gend                     0\n",
       "Ethn                     0\n",
       "FRL                      0\n",
       "ELL                      0\n",
       "IEP                      0\n",
       "Mean Score SAT Math      0\n",
       "Mean Score SAT EBRW      0\n",
       "Zip Code                 4\n",
       "Median Family Income    14\n",
       "Population              14\n",
       "dtype: int64"
      ]
     },
     "execution_count": 34,
     "metadata": {},
     "output_type": "execute_result"
    }
   ],
   "source": [
    "# Check for NaN\n",
    "schools_SAT_2018_multicat_inc.isna().sum()"
   ]
  },
  {
   "cell_type": "markdown",
   "id": "07eb43f7",
   "metadata": {},
   "source": [
    "Only 14 schools have missing income & population data.  Dropping these since they are only 14 out of 710."
   ]
  },
  {
   "cell_type": "code",
   "execution_count": 35,
   "id": "cf8ae357",
   "metadata": {},
   "outputs": [
    {
     "data": {
      "text/plain": [
       "District Number          2\n",
       "District Name            0\n",
       "School Number            5\n",
       "School Name              0\n",
       "Gend                     0\n",
       "Ethn                     0\n",
       "FRL                      0\n",
       "ELL                      0\n",
       "IEP                      0\n",
       "Mean Score PSAT Math     0\n",
       "Mean Score PSAT EBRW     0\n",
       "Zip Code                 7\n",
       "Median Family Income    19\n",
       "Population              19\n",
       "dtype: int64"
      ]
     },
     "execution_count": 35,
     "metadata": {},
     "output_type": "execute_result"
    }
   ],
   "source": [
    "# Check for NaN\n",
    "schools_PSAT_2017_multicat_inc.isna().sum()"
   ]
  },
  {
   "cell_type": "code",
   "execution_count": 36,
   "id": "24e3e21b",
   "metadata": {},
   "outputs": [
    {
     "name": "stdout",
     "output_type": "stream",
     "text": [
      "<class 'pandas.core.frame.DataFrame'>\n",
      "Int64Index: 745 entries, 0 to 744\n",
      "Data columns (total 14 columns):\n",
      " #   Column                Non-Null Count  Dtype  \n",
      "---  ------                --------------  -----  \n",
      " 0   District Number       743 non-null    object \n",
      " 1   District Name         745 non-null    object \n",
      " 2   School Number         740 non-null    object \n",
      " 3   School Name           745 non-null    object \n",
      " 4   Gend                  745 non-null    object \n",
      " 5   Ethn                  745 non-null    object \n",
      " 6   FRL                   745 non-null    object \n",
      " 7   ELL                   745 non-null    object \n",
      " 8   IEP                   745 non-null    object \n",
      " 9   Mean Score PSAT Math  745 non-null    object \n",
      " 10  Mean Score PSAT EBRW  745 non-null    object \n",
      " 11  Zip Code              738 non-null    Int64  \n",
      " 12  Median Family Income  726 non-null    float64\n",
      " 13  Population            726 non-null    float64\n",
      "dtypes: Int64(1), float64(2), object(11)\n",
      "memory usage: 88.0+ KB\n"
     ]
    }
   ],
   "source": [
    "schools_PSAT_2017_multicat_inc.info()"
   ]
  },
  {
   "cell_type": "code",
   "execution_count": 37,
   "id": "729a29ff",
   "metadata": {},
   "outputs": [
    {
     "data": {
      "text/plain": [
       "count     710.0\n",
       "unique    651.0\n",
       "top       560.0\n",
       "freq        6.0\n",
       "Name: Mean Score SAT EBRW, dtype: float64"
      ]
     },
     "execution_count": 37,
     "metadata": {},
     "output_type": "execute_result"
    }
   ],
   "source": [
    "schools_SAT_2018_multicat_inc['Mean Score SAT EBRW'].describe()"
   ]
  },
  {
   "cell_type": "markdown",
   "id": "fb3482dd",
   "metadata": {},
   "source": [
    "Only 14 schools have missing income & population data.  Dropping these since there are only 19."
   ]
  },
  {
   "cell_type": "code",
   "execution_count": 38,
   "id": "d34eeebf",
   "metadata": {
    "scrolled": true
   },
   "outputs": [],
   "source": [
    "schools_SAT_2018_multicat_inc.dropna(inplace=True)\n",
    "schools_PSAT_2017_multicat_inc.dropna(inplace=True)"
   ]
  },
  {
   "cell_type": "markdown",
   "id": "cc3c0026",
   "metadata": {},
   "source": [
    "### Merge dataframes for csv export"
   ]
  },
  {
   "cell_type": "code",
   "execution_count": 39,
   "id": "209b557f",
   "metadata": {},
   "outputs": [],
   "source": [
    "# Generate uniqueID for each score for convenient merging.\n",
    "\n",
    "schools_PSAT_2017_multicat_inc['UniqueID'] = schools_PSAT_2017_multicat_inc[['District Number', 'District Name', 'School Number', 'School Name',\n",
    "       'Gend', 'Ethn', 'FRL', 'ELL', 'IEP']].astype(str).apply(lambda x: ', '.join(x), axis = 1)\n",
    "schools_SAT_2018_multicat_inc['UniqueID'] = schools_SAT_2018_multicat_inc[['District Number', 'District Name', 'School Number', 'School Name',\n",
    "       'Gend', 'Ethn', 'FRL', 'ELL', 'IEP']].astype(str).apply(lambda x: ', '.join(x), axis = 1)"
   ]
  },
  {
   "cell_type": "code",
   "execution_count": 40,
   "id": "7591705f",
   "metadata": {},
   "outputs": [],
   "source": [
    "schools_combined_multicat = pd.merge(schools_SAT_2018_multicat_inc, schools_PSAT_2017_multicat_inc[['Mean Score PSAT Math', 'Mean Score PSAT EBRW', 'UniqueID']], how='left', on='UniqueID')\n",
    "\n",
    "schools_combined_multicat.drop('UniqueID', axis=1, inplace=True)"
   ]
  },
  {
   "cell_type": "code",
   "execution_count": 41,
   "id": "bb48b553",
   "metadata": {},
   "outputs": [],
   "source": [
    "schools_combined_multicat.to_csv('../data/SAT_PSAT_multicategories_v2.csv')"
   ]
  }
 ],
 "metadata": {
  "kernelspec": {
   "display_name": "Python 3 (ipykernel)",
   "language": "python",
   "name": "python3"
  },
  "language_info": {
   "codemirror_mode": {
    "name": "ipython",
    "version": 3
   },
   "file_extension": ".py",
   "mimetype": "text/x-python",
   "name": "python",
   "nbconvert_exporter": "python",
   "pygments_lexer": "ipython3",
   "version": "3.9.12"
  }
 },
 "nbformat": 4,
 "nbformat_minor": 5
}
