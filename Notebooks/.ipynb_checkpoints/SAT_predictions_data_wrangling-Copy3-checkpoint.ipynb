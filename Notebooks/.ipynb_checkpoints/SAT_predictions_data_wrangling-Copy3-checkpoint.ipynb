{
 "cells": [
  {
   "cell_type": "code",
   "execution_count": 1,
   "id": "9f63dfd7",
   "metadata": {},
   "outputs": [],
   "source": [
    "import pandas as pd\n",
    "import os\n",
    "from pathlib import Path\n",
    "import missingno as msno\n",
    "import matplotlib.pyplot as plt\n",
    "import itertools\n",
    "from itertools import product"
   ]
  },
  {
   "cell_type": "markdown",
   "id": "54ad11a0",
   "metadata": {},
   "source": [
    "Several data sets need to be cleaned and merged.  School mean SAT & PSAT scores for each year are in separate .xlsx files.  Scores disaggregated by desired demographic indicators are in another set .xlsx files also separated by year."
   ]
  },
  {
   "cell_type": "markdown",
   "id": "5f8f62b9",
   "metadata": {},
   "source": [
    "### 2018 data wrangling"
   ]
  },
  {
   "cell_type": "code",
   "execution_count": 2,
   "id": "1bddbe32",
   "metadata": {},
   "outputs": [],
   "source": [
    "# Filenames & paths\n",
    "# Just do 2018 data for now.  COVID affected other years\n",
    "\n",
    "filepath_agg = '../raw_data/aggregated/'\n",
    "filepath_disagg = '../raw_data/disaggregated/'\n",
    "\n",
    "file_2017_agg = '2017 SAT PSAT District and School Overall Results_final.xlsx'\n",
    "file_2018_agg = '2018 PSAT and SAT District and School Summary Achievement Results_FINAL.xlsx'\n",
    "\n",
    "\n",
    "file_2017_disagg = '2017 SAT PSAT10 Disaggregated Report Formatted.xlsx'\n",
    "file_2018_disagg = '2018 PSAT and SAT State Achievement Results Disaggregated by Subgroups.xlsx'"
   ]
  },
  {
   "cell_type": "code",
   "execution_count": 3,
   "id": "42bb7a9c",
   "metadata": {},
   "outputs": [],
   "source": [
    "###  Longest runtime ###\n",
    "\n",
    "# Files all have different formats\n",
    "\n",
    "# Agg data is all on one sheet in xlsx file.\n",
    "df_2017_agg_raw = pd.read_excel(filepath_agg + file_2017_agg)\n",
    "df_2018_agg_raw = pd.read_excel(filepath_agg + file_2018_agg)\n",
    "\n",
    "df_2017_disagg_raw = pd.read_excel(filepath_disagg + file_2017_disagg)\n",
    "# Disaggregated data for 2018 is split into separate sheets in xlsx file.\n",
    "# Create dict of df's for each set of disagg data\n",
    "dict_2018_disagg_raw = pd.read_excel(filepath_disagg + file_2018_disagg, sheet_name=None)"
   ]
  },
  {
   "cell_type": "markdown",
   "id": "43b9f5da",
   "metadata": {},
   "source": [
    "## Aggregated data only"
   ]
  },
  {
   "cell_type": "code",
   "execution_count": 4,
   "id": "b1f7ed6d",
   "metadata": {},
   "outputs": [],
   "source": [
    "# Drop rows with descriptive text\n",
    "df_2017_agg = df_2017_agg_raw.drop(df_2017_agg_raw.index[0:4])\n",
    "df_2018_agg = df_2018_agg_raw.drop(df_2018_agg_raw.index[0:3])"
   ]
  },
  {
   "cell_type": "code",
   "execution_count": 5,
   "id": "fe3c22f9",
   "metadata": {
    "scrolled": true
   },
   "outputs": [],
   "source": [
    "# Set columns headers as first row containing Test, District Number, District Name, etc.\n",
    "df_2017_agg.columns = df_2017_agg.iloc[0]\n",
    "df_2018_agg.columns = df_2018_agg.iloc[0]"
   ]
  },
  {
   "cell_type": "code",
   "execution_count": 6,
   "id": "3b7f95f8",
   "metadata": {},
   "outputs": [],
   "source": [
    "# Drop first row containing the column headers\n",
    "df_2017_agg = df_2017_agg.drop(df_2017_agg.index[0])\n",
    "df_2018_agg = df_2018_agg.drop(df_2018_agg.index[0])"
   ]
  },
  {
   "cell_type": "code",
   "execution_count": 7,
   "id": "864a0443",
   "metadata": {},
   "outputs": [],
   "source": [
    "## 2017 data\n",
    "# Assign state & district results to their own dataframes respectively (if they exist)\n",
    "state_2017_agg = df_2017_agg.loc[df_2017_agg['School Name'] == 'STATE RESULTS']\n",
    "district_2017_agg = df_2017_agg.loc[df_2017_agg['School Name'] == 'DISTRICT RESULTS']\n",
    "\n",
    "# Drop those & create new dataframe of school only data\n",
    "# Note: There's something weird with the school districts here.  BOCES?\n",
    "schools_2017_agg = df_2017_agg[(df_2017_agg['School Name'] != 'STATE RESULTS') & (df_2017_agg['School Name'] != 'DISTRICT RESULTS')]\n",
    "\n",
    "\n",
    "## 2018 data\n",
    "# Assign state & district results to their own dataframes respectively (if they exist)\n",
    "state_2018_agg = df_2018_agg.loc[df_2018_agg['Level'] == 'STATE']\n",
    "district_2018_agg = df_2018_agg.loc[df_2018_agg['Level'] == 'DISTRICT']\n",
    "\n",
    "# Create dataframe with only school level scores\n",
    "schools_2018_agg = df_2018_agg.loc[df_2018_agg['Level'] == 'SCHOOL']\n",
    "\n",
    "# Drop some unneeded columns\n",
    "schools_2018_agg = schools_2018_agg.drop(['Level','Grade'], axis = 1)"
   ]
  },
  {
   "cell_type": "code",
   "execution_count": 8,
   "id": "bda4ceaf",
   "metadata": {},
   "outputs": [],
   "source": [
    "# Rename and reindex 2017 and 2018 data\n",
    "\n",
    "# Rename some columns for convenience\n",
    "col_names1_long = list(schools_2017_agg.columns)\n",
    "col_names1_short = ['Test',\n",
    "                 'District Number',\n",
    "                 'District Name',\n",
    "                 'School Number',\n",
    "                 'School Name',\n",
    "                 'Total Students',\n",
    "                 '2017 Valid Scores',\n",
    "                 '2017 EBRW Mean',\n",
    "                 '2017 Math Mean',\n",
    "                 '2017 Overall Mean',\n",
    "                 '2017 Participation Percent',\n",
    "                 '2016 Valid Scores',\n",
    "                 '2016 EBRW Mean',\n",
    "                 '2016 Math Mean',\n",
    "                 '2016 Overall Mean',\n",
    "                 '2016 Participation Percent',\n",
    "                 'Mean Overall Score Change']\n",
    "schools_2017_agg = schools_2017_agg.rename(columns = dict(zip(col_names1_long, col_names1_short)))\n",
    "\n",
    "# Rename some columns for convenience\n",
    "col_names2_long = list(schools_2018_agg.columns)\n",
    "col_names2_short = ['Test',\n",
    "                 'District Number',\n",
    "                 'District Name',\n",
    "                 'School Number',\n",
    "                 'School Name',\n",
    "                 'Total Students',\n",
    "                 '2018 Valid Scores',\n",
    "                 '2018 EBRW Mean',\n",
    "                 '2018 Math Mean',\n",
    "                 '2018 Overall Mean Score',\n",
    "                 '2018 Participation Percent',\n",
    "                 '2017 Valid Scores',\n",
    "                 '2017 EBRW Mean',\n",
    "                 '2017 Math Mean',\n",
    "                 '2017 Overall Mean Score',\n",
    "                 '2017 Participation Percent',\n",
    "                 'Mean Overall Score Change']\n",
    "schools_2018_agg = schools_2018_agg.rename(columns = dict(zip(col_names2_long, col_names2_short)))\n",
    "\n",
    "# Set index to school number\n",
    "#schools_2017_agg['School Number'] = schools_2017_agg['School Number'].astype(int)\n",
    "#schools_2017_agg = schools_2017_agg.set_index('School Number')\n",
    "\n",
    "#schools_2018_agg['School Number'] = schools_2018_agg['School Number'].astype(int)\n",
    "#schools_2018_agg = schools_2018_agg.set_index('School Number')"
   ]
  },
  {
   "cell_type": "code",
   "execution_count": 9,
   "id": "1e683d09",
   "metadata": {},
   "outputs": [],
   "source": [
    "# Trim white space\n",
    "schools_2017_agg['Test'] = schools_2017_agg['Test'].str.strip()\n",
    "schools_2018_agg['Test'] = schools_2018_agg['Test'].str.strip()"
   ]
  },
  {
   "cell_type": "markdown",
   "id": "e9c6958a",
   "metadata": {},
   "source": [
    "#### Create new dataframe aggregating all data from 2018 into a cleaner format"
   ]
  },
  {
   "cell_type": "code",
   "execution_count": 10,
   "id": "5f2517f2",
   "metadata": {},
   "outputs": [],
   "source": [
    "# Select only rows that have both 2017 and 2018 scores\n",
    "schools_2018_agg_subset = schools_2018_agg[~schools_2018_agg['Mean Overall Score Change'].isna()]\n",
    "\n",
    "# Drop rows using '*' to indicate missing data\n",
    "schools_2018_agg_subset = schools_2018_agg_subset[~(schools_2018_agg_subset['Total Students'] == '*')]"
   ]
  },
  {
   "cell_type": "code",
   "execution_count": 11,
   "id": "cd0ce474",
   "metadata": {
    "scrolled": true
   },
   "outputs": [],
   "source": [
    "###  May not be necessary ###\n",
    "\n",
    "# Set appropriate names for each column\n",
    "\n",
    "score_types = ['Valid Scores',\n",
    "              'EBRW Mean',\n",
    "              'Math Mean',\n",
    "              'Overall Mean Score',\n",
    "              'Participation Percent']\n",
    "years_str = ['2017', '2018']\n",
    "test_types = ['PSAT10', 'SAT']\n",
    "\n",
    "score_cols = list(product(years_str, test_types, score_types))\n",
    "score_cols = [year + \" \" + test + \" \" + score for year, test, score in score_cols]\n",
    "\n",
    "all_cols = ['School Number', 'District Name', 'School Name'] + score_cols"
   ]
  },
  {
   "cell_type": "code",
   "execution_count": 12,
   "id": "ad93739f",
   "metadata": {},
   "outputs": [],
   "source": [
    "schools_2018_agg_SAT = schools_2018_agg_subset.loc[schools_2018_agg_subset[\"Test\"] == \"SAT\"]\n",
    "schools_2018_agg_PSAT = schools_2018_agg_subset.loc[schools_2018_agg_subset[\"Test\"] == \"PSAT10\"]\n",
    "tests_combined_2018_agg = schools_2018_agg_SAT.merge(schools_2018_agg_PSAT, on=\"School Number\", suffixes=(' SAT', ' PSAT10'))\n",
    "#list(tests_combined_2018.columns)"
   ]
  },
  {
   "cell_type": "code",
   "execution_count": 13,
   "id": "c3da9871",
   "metadata": {},
   "outputs": [],
   "source": [
    "# Drop duplicated &  unnecessary columns\n",
    "tests_combined_2018_agg = tests_combined_2018_agg.drop(['Test PSAT10',\n",
    "                                                        'Test SAT',\n",
    "                                                'District Number PSAT10',\n",
    "                                                'District Name PSAT10',\n",
    "                                                'School Name PSAT10',\n",
    "                                                        'Test PSAT10',\n",
    "                                                        'Mean Overall Score Change SAT',\n",
    "                                                        'Mean Overall Score Change PSAT10'\n",
    "                                               ], axis = 1)\n",
    "#list(tests_combined_2018_agg.columns)"
   ]
  },
  {
   "cell_type": "code",
   "execution_count": 14,
   "id": "dfe05cfd",
   "metadata": {},
   "outputs": [],
   "source": [
    "# Fix column names with unnecessary suffix\n",
    "tests_combined_2018_agg = tests_combined_2018_agg.rename(columns={'District Number SAT': \"District Number\", \"District Name SAT\": \"District Name\", \"School Name SAT\": \"School Name\"}, errors=\"raise\")"
   ]
  },
  {
   "cell_type": "code",
   "execution_count": 15,
   "id": "e1a0ed51",
   "metadata": {
    "scrolled": true
   },
   "outputs": [
    {
     "data": {
      "text/html": [
       "<div>\n",
       "<style scoped>\n",
       "    .dataframe tbody tr th:only-of-type {\n",
       "        vertical-align: middle;\n",
       "    }\n",
       "\n",
       "    .dataframe tbody tr th {\n",
       "        vertical-align: top;\n",
       "    }\n",
       "\n",
       "    .dataframe thead th {\n",
       "        text-align: right;\n",
       "    }\n",
       "</style>\n",
       "<table border=\"1\" class=\"dataframe\">\n",
       "  <thead>\n",
       "    <tr style=\"text-align: right;\">\n",
       "      <th>3</th>\n",
       "      <th>District Number</th>\n",
       "      <th>District Name</th>\n",
       "      <th>School Number</th>\n",
       "      <th>School Name</th>\n",
       "      <th>Total Students SAT</th>\n",
       "      <th>2018 Valid Scores SAT</th>\n",
       "      <th>2018 EBRW Mean SAT</th>\n",
       "      <th>2018 Math Mean SAT</th>\n",
       "      <th>2018 Overall Mean Score SAT</th>\n",
       "      <th>2018 Participation Percent SAT</th>\n",
       "      <th>...</th>\n",
       "      <th>2018 Valid Scores PSAT10</th>\n",
       "      <th>2018 EBRW Mean PSAT10</th>\n",
       "      <th>2018 Math Mean PSAT10</th>\n",
       "      <th>2018 Overall Mean Score PSAT10</th>\n",
       "      <th>2018 Participation Percent PSAT10</th>\n",
       "      <th>2017 Valid Scores PSAT10</th>\n",
       "      <th>2017 EBRW Mean PSAT10</th>\n",
       "      <th>2017 Math Mean PSAT10</th>\n",
       "      <th>2017 Overall Mean Score PSAT10</th>\n",
       "      <th>2017 Participation Percent PSAT10</th>\n",
       "    </tr>\n",
       "  </thead>\n",
       "  <tbody>\n",
       "    <tr>\n",
       "      <th>0</th>\n",
       "      <td>0010</td>\n",
       "      <td>MAPLETON 1</td>\n",
       "      <td>0187</td>\n",
       "      <td>MAPLETON EXPEDITIONARY SCHOOL OF THE ARTS</td>\n",
       "      <td>112</td>\n",
       "      <td>99</td>\n",
       "      <td>472</td>\n",
       "      <td>467</td>\n",
       "      <td>939</td>\n",
       "      <td>88.4</td>\n",
       "      <td>...</td>\n",
       "      <td>116</td>\n",
       "      <td>431</td>\n",
       "      <td>420</td>\n",
       "      <td>851</td>\n",
       "      <td>91.3</td>\n",
       "      <td>88</td>\n",
       "      <td>412</td>\n",
       "      <td>430</td>\n",
       "      <td>842</td>\n",
       "      <td>83.8</td>\n",
       "    </tr>\n",
       "    <tr>\n",
       "      <th>1</th>\n",
       "      <td>0010</td>\n",
       "      <td>MAPLETON 1</td>\n",
       "      <td>0212</td>\n",
       "      <td>MAPLETON EARLY COLLEGE HIGH SCHOOL</td>\n",
       "      <td>65</td>\n",
       "      <td>62</td>\n",
       "      <td>464</td>\n",
       "      <td>441</td>\n",
       "      <td>905</td>\n",
       "      <td>95.4</td>\n",
       "      <td>...</td>\n",
       "      <td>59</td>\n",
       "      <td>430</td>\n",
       "      <td>410</td>\n",
       "      <td>840</td>\n",
       "      <td>96.7</td>\n",
       "      <td>60</td>\n",
       "      <td>409</td>\n",
       "      <td>409</td>\n",
       "      <td>818</td>\n",
       "      <td>96.8</td>\n",
       "    </tr>\n",
       "    <tr>\n",
       "      <th>2</th>\n",
       "      <td>0010</td>\n",
       "      <td>MAPLETON 1</td>\n",
       "      <td>0263</td>\n",
       "      <td>GLOBAL LEADERSHIP ACADEMY</td>\n",
       "      <td>42</td>\n",
       "      <td>39</td>\n",
       "      <td>443</td>\n",
       "      <td>438</td>\n",
       "      <td>880</td>\n",
       "      <td>92.9</td>\n",
       "      <td>...</td>\n",
       "      <td>65</td>\n",
       "      <td>431</td>\n",
       "      <td>394</td>\n",
       "      <td>825</td>\n",
       "      <td>100.0</td>\n",
       "      <td>50</td>\n",
       "      <td>410</td>\n",
       "      <td>404</td>\n",
       "      <td>814</td>\n",
       "      <td>92.6</td>\n",
       "    </tr>\n",
       "    <tr>\n",
       "      <th>3</th>\n",
       "      <td>0010</td>\n",
       "      <td>MAPLETON 1</td>\n",
       "      <td>0309</td>\n",
       "      <td>ACADEMY HIGH SCHOOL</td>\n",
       "      <td>109</td>\n",
       "      <td>107</td>\n",
       "      <td>452</td>\n",
       "      <td>434</td>\n",
       "      <td>886</td>\n",
       "      <td>98.2</td>\n",
       "      <td>...</td>\n",
       "      <td>121</td>\n",
       "      <td>407</td>\n",
       "      <td>398</td>\n",
       "      <td>805</td>\n",
       "      <td>97.6</td>\n",
       "      <td>117</td>\n",
       "      <td>411</td>\n",
       "      <td>417</td>\n",
       "      <td>828</td>\n",
       "      <td>96.7</td>\n",
       "    </tr>\n",
       "    <tr>\n",
       "      <th>4</th>\n",
       "      <td>0010</td>\n",
       "      <td>MAPLETON 1</td>\n",
       "      <td>0503</td>\n",
       "      <td>YORK INTERNATIONAL</td>\n",
       "      <td>55</td>\n",
       "      <td>51</td>\n",
       "      <td>495</td>\n",
       "      <td>477</td>\n",
       "      <td>972</td>\n",
       "      <td>92.7</td>\n",
       "      <td>...</td>\n",
       "      <td>73</td>\n",
       "      <td>439</td>\n",
       "      <td>434</td>\n",
       "      <td>873</td>\n",
       "      <td>93.6</td>\n",
       "      <td>62</td>\n",
       "      <td>466</td>\n",
       "      <td>444</td>\n",
       "      <td>910</td>\n",
       "      <td>91.2</td>\n",
       "    </tr>\n",
       "  </tbody>\n",
       "</table>\n",
       "<p>5 rows × 26 columns</p>\n",
       "</div>"
      ],
      "text/plain": [
       "3 District Number District Name School Number  \\\n",
       "0            0010    MAPLETON 1          0187   \n",
       "1            0010    MAPLETON 1          0212   \n",
       "2            0010    MAPLETON 1          0263   \n",
       "3            0010    MAPLETON 1          0309   \n",
       "4            0010    MAPLETON 1          0503   \n",
       "\n",
       "3                                School Name Total Students SAT  \\\n",
       "0  MAPLETON EXPEDITIONARY SCHOOL OF THE ARTS                112   \n",
       "1         MAPLETON EARLY COLLEGE HIGH SCHOOL                 65   \n",
       "2                  GLOBAL LEADERSHIP ACADEMY                 42   \n",
       "3                        ACADEMY HIGH SCHOOL                109   \n",
       "4                         YORK INTERNATIONAL                 55   \n",
       "\n",
       "3 2018 Valid Scores SAT 2018 EBRW Mean SAT 2018 Math Mean SAT  \\\n",
       "0                    99                472                467   \n",
       "1                    62                464                441   \n",
       "2                    39                443                438   \n",
       "3                   107                452                434   \n",
       "4                    51                495                477   \n",
       "\n",
       "3 2018 Overall Mean Score SAT 2018 Participation Percent SAT  ...  \\\n",
       "0                         939                           88.4  ...   \n",
       "1                         905                           95.4  ...   \n",
       "2                         880                           92.9  ...   \n",
       "3                         886                           98.2  ...   \n",
       "4                         972                           92.7  ...   \n",
       "\n",
       "3 2018 Valid Scores PSAT10 2018 EBRW Mean PSAT10 2018 Math Mean PSAT10  \\\n",
       "0                      116                   431                   420   \n",
       "1                       59                   430                   410   \n",
       "2                       65                   431                   394   \n",
       "3                      121                   407                   398   \n",
       "4                       73                   439                   434   \n",
       "\n",
       "3 2018 Overall Mean Score PSAT10 2018 Participation Percent PSAT10  \\\n",
       "0                            851                              91.3   \n",
       "1                            840                              96.7   \n",
       "2                            825                             100.0   \n",
       "3                            805                              97.6   \n",
       "4                            873                              93.6   \n",
       "\n",
       "3 2017 Valid Scores PSAT10 2017 EBRW Mean PSAT10 2017 Math Mean PSAT10  \\\n",
       "0                       88                   412                   430   \n",
       "1                       60                   409                   409   \n",
       "2                       50                   410                   404   \n",
       "3                      117                   411                   417   \n",
       "4                       62                   466                   444   \n",
       "\n",
       "3 2017 Overall Mean Score PSAT10 2017 Participation Percent PSAT10  \n",
       "0                            842                              83.8  \n",
       "1                            818                              96.8  \n",
       "2                            814                              92.6  \n",
       "3                            828                              96.7  \n",
       "4                            910                              91.2  \n",
       "\n",
       "[5 rows x 26 columns]"
      ]
     },
     "execution_count": 15,
     "metadata": {},
     "output_type": "execute_result"
    }
   ],
   "source": [
    "tests_combined_2018_agg.head()"
   ]
  },
  {
   "cell_type": "markdown",
   "id": "6da1062c",
   "metadata": {},
   "source": [
    "Next steps?\n",
    "* Keep only 2018 SAT and 2017 PSAT scores?"
   ]
  },
  {
   "cell_type": "markdown",
   "id": "96b601b4",
   "metadata": {},
   "source": [
    "## ---Done with aggregated data---"
   ]
  },
  {
   "cell_type": "markdown",
   "id": "744a53f8",
   "metadata": {},
   "source": [
    "# Data disaggretaed by subgroups"
   ]
  },
  {
   "cell_type": "code",
   "execution_count": 52,
   "id": "bc2a5a6e",
   "metadata": {},
   "outputs": [],
   "source": [
    "disagg_categories = ['Gend', 'Ethn', 'FRM', 'GT','ELL','Migr', 'IEP']"
   ]
  },
  {
   "cell_type": "code",
   "execution_count": 78,
   "id": "facedb5a",
   "metadata": {
    "scrolled": true
   },
   "outputs": [],
   "source": [
    "# Each sheet in disagg xlsx formatted the same.\n",
    "# Create a function or loop that will handle each sheet\n",
    "\n",
    "disagg_gender_raw = dict_2018_disagg_raw['Disaggregated PSAT SAT by Gen']\n",
    "disagg_gender_raw.head(7)\n",
    "\n",
    "# Drop rows with descriptive text\n",
    "disagg_gender = disagg_gender_raw.drop(disagg_gender_raw.index[0:4])\n",
    "\n",
    "# Set columns headers as first row containing Test, District Number, District Name, etc.\n",
    "disagg_gender.columns = disagg_gender.iloc[0]\n",
    "\n",
    "# Drop first row containing the column headers\n",
    "disagg_gender = disagg_gender.drop(disagg_gender.index[0])"
   ]
  },
  {
   "cell_type": "code",
   "execution_count": 70,
   "id": "c27dc2b1",
   "metadata": {},
   "outputs": [],
   "source": [
    "# Assign state & district results to their own dataframes respectively (if they exist)\n",
    "state_disagg_gender = disagg_gender.loc[disagg_gender['Level'] == 'STATE']\n",
    "district_disagg_gender = disagg_gender.loc[disagg_gender['Level'] == 'DISTRICT']\n",
    "\n",
    "\n",
    "# Drop those & create new dataframe of school only data\n",
    "schools_disagg_gender = disagg_gender[disagg_gender['Level'] == 'SCHOOL']"
   ]
  },
  {
   "cell_type": "code",
   "execution_count": 71,
   "id": "1767772c",
   "metadata": {},
   "outputs": [],
   "source": [
    "# Rename some columns for convenience\n",
    "col_name_long = list(schools_disagg_gender.columns)\n",
    "col_names_short = ['Level',\n",
    "                 'Test',\n",
    "                 'District Number',\n",
    "                 'District Name',\n",
    "                 'School Number',\n",
    "                 'School Name',\n",
    "                 'Demographic Group',\n",
    "                 '2018 Total Records',\n",
    "                 '2018 Valid Scores',\n",
    "                 '2018 Participation Rate',\n",
    "                 '2018 EBRW Mean',\n",
    "                 '2018 Math Mean',\n",
    "                 '2018 Overall Mean Score']\n",
    "\n",
    "schools_disagg_gender = schools_disagg_gender.rename(columns = dict(zip(col_name_long, col_names_short)))"
   ]
  },
  {
   "cell_type": "code",
   "execution_count": 72,
   "id": "8cf416cb",
   "metadata": {},
   "outputs": [],
   "source": [
    "# Drop rows with missing scores\n",
    "\n",
    "schools_disagg_gender = schools_disagg_gender[schools_disagg_gender['Test'] == 'SAT']\n",
    "schools_disagg_gender = schools_disagg_gender[schools_disagg_gender['2018 Valid Scores'] != '< 16']\n",
    "schools_disagg_gender = schools_disagg_gender[schools_disagg_gender['2018 Overall Mean Score'] != '*']"
   ]
  },
  {
   "cell_type": "code",
   "execution_count": 74,
   "id": "463224a9",
   "metadata": {},
   "outputs": [
    {
     "data": {
      "text/html": [
       "<div>\n",
       "<style scoped>\n",
       "    .dataframe tbody tr th:only-of-type {\n",
       "        vertical-align: middle;\n",
       "    }\n",
       "\n",
       "    .dataframe tbody tr th {\n",
       "        vertical-align: top;\n",
       "    }\n",
       "\n",
       "    .dataframe thead th {\n",
       "        text-align: right;\n",
       "    }\n",
       "</style>\n",
       "<table border=\"1\" class=\"dataframe\">\n",
       "  <thead>\n",
       "    <tr style=\"text-align: right;\">\n",
       "      <th>4</th>\n",
       "      <th>Level</th>\n",
       "      <th>Test</th>\n",
       "      <th>District Number</th>\n",
       "      <th>District Name</th>\n",
       "      <th>School Number</th>\n",
       "      <th>School Name</th>\n",
       "      <th>Demographic Group</th>\n",
       "      <th>2018 Total Records</th>\n",
       "      <th>2018 Valid Scores</th>\n",
       "      <th>2018 Participation Rate</th>\n",
       "      <th>2018 EBRW Mean</th>\n",
       "      <th>2018 Math Mean</th>\n",
       "      <th>2018 Overall Mean Score</th>\n",
       "    </tr>\n",
       "  </thead>\n",
       "  <tbody>\n",
       "  </tbody>\n",
       "</table>\n",
       "</div>"
      ],
      "text/plain": [
       "Empty DataFrame\n",
       "Columns: [Level, Test, District Number, District Name, School Number, School Name, Demographic Group, 2018 Total Records, 2018 Valid Scores, 2018 Participation Rate, 2018 EBRW Mean, 2018 Math Mean, 2018 Overall Mean Score]\n",
       "Index: []"
      ]
     },
     "execution_count": 74,
     "metadata": {},
     "output_type": "execute_result"
    }
   ],
   "source": [
    "schools_disagg_gender[schools_disagg_gender['2018 EBRW Mean'] == '*']"
   ]
  },
  {
   "cell_type": "code",
   "execution_count": 77,
   "id": "62852ac7",
   "metadata": {},
   "outputs": [
    {
     "data": {
      "text/plain": [
       "(600, 13)"
      ]
     },
     "execution_count": 77,
     "metadata": {},
     "output_type": "execute_result"
    }
   ],
   "source": [
    "schools_disagg_gender.shape"
   ]
  }
 ],
 "metadata": {
  "kernelspec": {
   "display_name": "Python 3 (ipykernel)",
   "language": "python",
   "name": "python3"
  },
  "language_info": {
   "codemirror_mode": {
    "name": "ipython",
    "version": 3
   },
   "file_extension": ".py",
   "mimetype": "text/x-python",
   "name": "python",
   "nbconvert_exporter": "python",
   "pygments_lexer": "ipython3",
   "version": "3.9.12"
  }
 },
 "nbformat": 4,
 "nbformat_minor": 5
}
