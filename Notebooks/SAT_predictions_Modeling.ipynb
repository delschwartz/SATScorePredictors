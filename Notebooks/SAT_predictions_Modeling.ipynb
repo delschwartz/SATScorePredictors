{
 "cells": [
  {
   "cell_type": "markdown",
   "id": "51758f34",
   "metadata": {},
   "source": [
    "# Modeling"
   ]
  },
  {
   "cell_type": "markdown",
   "id": "1c72a193",
   "metadata": {},
   "source": [
    "Models used:\n",
    "\n",
    "Dummy Reg, Linear Reg, SelectKBest for LinReg, Gradient Boost Reg, RandomSearchCV, Random Forest Regressor\n",
    "\n",
    "Metrics used:\n",
    "* R2, Adj R2, MSE, RMSE, MAE, MAPE"
   ]
  },
  {
   "cell_type": "code",
   "execution_count": 1,
   "id": "57fa6aeb",
   "metadata": {},
   "outputs": [],
   "source": [
    "import pandas as pd\n",
    "import numpy as np\n",
    "import matplotlib.pyplot as plt\n",
    "from sklearn.preprocessing import StandardScaler\n",
    "from sklearn.model_selection import train_test_split\n",
    "from sklearn import __version__ as sklearn_version\n",
    "from sklearn.model_selection import cross_validate\n",
    "from sklearn.dummy import DummyRegressor\n",
    "from sklearn.linear_model import LinearRegression\n",
    "from sklearn.ensemble import GradientBoostingRegressor, RandomForestRegressor\n",
    "from sklearn.feature_selection import SelectKBest, f_regression\n",
    "from sklearn.metrics import r2_score, mean_squared_error, mean_absolute_error, mean_absolute_percentage_error\n",
    "from sklearn.inspection import permutation_importance\n",
    "from sklearn.model_selection import RandomizedSearchCV, GridSearchCV\n",
    "from sklearn.pipeline import make_pipeline"
   ]
  },
  {
   "cell_type": "code",
   "execution_count": 2,
   "id": "c8354223",
   "metadata": {},
   "outputs": [
    {
     "name": "stdout",
     "output_type": "stream",
     "text": [
      "1.1.1\n"
     ]
    }
   ],
   "source": [
    "print(sklearn_version)"
   ]
  },
  {
   "cell_type": "markdown",
   "id": "72524a80",
   "metadata": {},
   "source": [
    "### Scaling & train/test split\n",
    "\n",
    "Scaling included here to make inverse scaling possible."
   ]
  },
  {
   "cell_type": "code",
   "execution_count": 3,
   "id": "2fff7da0",
   "metadata": {},
   "outputs": [],
   "source": [
    "df_import = pd.read_csv('../data/demographic_scores_onehot.csv').drop(['Unnamed: 0'], axis=1, errors='ignore')"
   ]
  },
  {
   "cell_type": "code",
   "execution_count": 4,
   "id": "4c5e80a5",
   "metadata": {},
   "outputs": [],
   "source": [
    "#Train/test split & scaling\n",
    "\n",
    "# Create training & testing sets\n",
    "X = df_import.drop(['Mean Score Math', 'Mean Score EBRW'], axis=1)\n",
    "y = df_import[['Mean Score Math', 'Mean Score EBRW']]\n",
    "X_train, X_test, y_train, y_test = train_test_split(X, y, test_size=0.20, random_state=137)\n",
    "\n",
    "scaler_X = StandardScaler()\n",
    "\n",
    "#Fit & transform training X data\n",
    "scaler_X.fit(X_train[['Median Family Income']].values)\n",
    "X_train[['Median Family Income']] = scaler_X.transform(X_train[['Median Family Income']].values)\n",
    "\n",
    "#Transform training X data\n",
    "X_test[['Median Family Income']] = scaler_X.transform(X_test[['Median Family Income']].values)"
   ]
  },
  {
   "cell_type": "code",
   "execution_count": 5,
   "id": "406e72b0",
   "metadata": {},
   "outputs": [],
   "source": [
    "# Combine X & y for the training sets and for testing sets\n",
    "training_data = y_train.join(X_train)\n",
    "\n",
    "# And the testing data\n",
    "test_data = y_test.join(X_test)"
   ]
  },
  {
   "cell_type": "code",
   "execution_count": 6,
   "id": "446b24e9",
   "metadata": {},
   "outputs": [],
   "source": [
    "#Export to csv\n",
    "training_data.to_csv('../data/demog_training_data.csv')\n",
    "test_data.to_csv('../data/demog_testing_data.csv')"
   ]
  },
  {
   "cell_type": "code",
   "execution_count": 7,
   "id": "9ad8801a",
   "metadata": {},
   "outputs": [],
   "source": [
    "psat_sat = pd.read_csv('../data/SAT_PSAT_aggregated.csv').drop(['Unnamed: 0'], axis=1, errors='ignore')\n",
    "\n",
    "# Fix dtypes after data import\n",
    "psat_sat = psat_sat.astype({'District Number': 'str',\n",
    "                 'District Name': 'str',\n",
    "                 'School Number': 'str',\n",
    "                 'School Name': 'str',\n",
    "                 '2018 EBRW Mean SAT': 'float64',\n",
    "                 '2018 Math Mean SAT': 'float64',\n",
    "                 '2018 Overall Mean Score SAT': 'float64',\n",
    "                 '2017 EBRW Mean PSAT10': 'float64',\n",
    "                 '2017 Math Mean PSAT10': 'float64',\n",
    "                 '2017 Overall Mean Score PSAT10': 'float64',\n",
    "                 'Zip Code': 'str',\n",
    "                 'Median Family Income': 'float64',\n",
    "                 'Population': 'float64'})\n",
    "\n",
    "psat_sat['Zip Code'] = psat_sat['Zip Code'].str.strip('.0')"
   ]
  },
  {
   "cell_type": "code",
   "execution_count": 8,
   "id": "d431b3a7",
   "metadata": {},
   "outputs": [],
   "source": [
    "#Train/test split\n",
    "\n",
    "# Create training & testing sets\n",
    "X = psat_sat.loc[:,['2017 EBRW Mean PSAT10','2017 Math Mean PSAT10', '2017 Overall Mean Score PSAT10']]\n",
    "y = psat_sat.loc[:,['2018 EBRW Mean SAT','2018 Math Mean SAT', '2018 Overall Mean Score SAT']]\n",
    "X_train, X_test, y_train, y_test = train_test_split(X, y, test_size=0.20, random_state=137)"
   ]
  },
  {
   "cell_type": "code",
   "execution_count": 9,
   "id": "f39adc9e",
   "metadata": {},
   "outputs": [],
   "source": [
    "# Combine X & y for the training sets and for testing sets\n",
    "training_data = y_train.join(X_train)\n",
    "\n",
    "# And the testing data\n",
    "test_data = y_test.join(X_test)"
   ]
  },
  {
   "cell_type": "code",
   "execution_count": 10,
   "id": "89d17cd7",
   "metadata": {},
   "outputs": [],
   "source": [
    "#Export to csv\n",
    "training_data.to_csv('../data/psat_training_data.csv')\n",
    "test_data.to_csv('../data/psat_testing_data.csv')"
   ]
  },
  {
   "cell_type": "markdown",
   "id": "9ab9e8c1",
   "metadata": {},
   "source": [
    "Note: Exporting & importing data to csv's to meet project requirements"
   ]
  },
  {
   "cell_type": "markdown",
   "id": "e4c51684",
   "metadata": {},
   "source": [
    "### Modeling"
   ]
  },
  {
   "cell_type": "code",
   "execution_count": 11,
   "id": "55be5fb4",
   "metadata": {},
   "outputs": [],
   "source": [
    "#Import training & testing data\n",
    "demog_train_raw = pd.read_csv('../data/demog_training_data.csv').drop(['Unnamed: 0'], axis=1, errors='ignore')\n",
    "demog_test_raw = pd.read_csv('../data/demog_testing_data.csv').drop(['Unnamed: 0'], axis=1, errors='ignore')\n",
    "\n",
    "psat_train_raw = pd.read_csv('../data/psat_training_data.csv').drop(['Unnamed: 0'], axis=1, errors='ignore')\n",
    "psat_test_raw = pd.read_csv('../data/psat_testing_data.csv').drop(['Unnamed: 0'], axis=1, errors='ignore')"
   ]
  },
  {
   "cell_type": "code",
   "execution_count": 12,
   "id": "2a496491",
   "metadata": {},
   "outputs": [
    {
     "data": {
      "text/plain": [
       "Index(['Mean Score Math', 'Mean Score EBRW', 'Median Family Income',\n",
       "       'Gend_Female', 'Gend_Male', 'Ethn_Asian', 'Ethn_Black', 'Ethn_Hispanic',\n",
       "       'Ethn_Two or More Races', 'Ethn_White', 'FRL_FRL Eligible',\n",
       "       'FRL_Not FRL Eligible', 'ELL_English Learners',\n",
       "       'ELL_Not English Learners', 'IEP_Students with IEPs',\n",
       "       'IEP_Students without IEPs'],\n",
       "      dtype='object')"
      ]
     },
     "execution_count": 12,
     "metadata": {},
     "output_type": "execute_result"
    }
   ],
   "source": [
    "demog_train_raw.columns"
   ]
  },
  {
   "cell_type": "code",
   "execution_count": 13,
   "id": "c516bd0e",
   "metadata": {},
   "outputs": [
    {
     "data": {
      "text/plain": [
       "Index(['2018 EBRW Mean SAT', '2018 Math Mean SAT',\n",
       "       '2018 Overall Mean Score SAT', '2017 EBRW Mean PSAT10',\n",
       "       '2017 Math Mean PSAT10', '2017 Overall Mean Score PSAT10'],\n",
       "      dtype='object')"
      ]
     },
     "execution_count": 13,
     "metadata": {},
     "output_type": "execute_result"
    }
   ],
   "source": [
    "psat_train_raw.columns"
   ]
  },
  {
   "cell_type": "markdown",
   "id": "bb1a9fe4",
   "metadata": {},
   "source": [
    "#### Only look at math scores for now.  Extremely high correlation between Math and EBRW scores so results should apply to both."
   ]
  },
  {
   "cell_type": "code",
   "execution_count": 14,
   "id": "b25b9256",
   "metadata": {},
   "outputs": [],
   "source": [
    "# Drop non-math score columns\n",
    "demog_train = demog_train_raw.drop(['Mean Score EBRW'], axis=1)\n",
    "demog_test = demog_test_raw.drop(['Mean Score EBRW'], axis=1)\n",
    "psat_train = psat_train_raw.drop(['2018 EBRW Mean SAT', '2018 Overall Mean Score SAT', '2017 EBRW Mean PSAT10', '2017 Overall Mean Score PSAT10'], axis=1)\n",
    "psat_test = psat_test_raw.drop(['2018 EBRW Mean SAT', '2018 Overall Mean Score SAT', '2017 EBRW Mean PSAT10', '2017 Overall Mean Score PSAT10'], axis=1)"
   ]
  },
  {
   "cell_type": "code",
   "execution_count": 15,
   "id": "c725bf6e",
   "metadata": {},
   "outputs": [],
   "source": [
    "# Drop non-EBRW score columns\n",
    "\n",
    "demog_train_E = demog_train_raw.drop(['Mean Score Math'], axis=1)\n",
    "demog_test_E = demog_test_raw.drop(['Mean Score Math'], axis=1)\n",
    "psat_train_E = psat_train_raw.drop(['2018 Math Mean SAT', '2018 Overall Mean Score SAT', '2017 Math Mean PSAT10', '2017 Overall Mean Score PSAT10'], axis=1)\n",
    "psat_test_E = psat_test_raw.drop(['2018 Math Mean SAT', '2018 Overall Mean Score SAT', '2017 Math Mean PSAT10', '2017 Overall Mean Score PSAT10'], axis=1)"
   ]
  },
  {
   "cell_type": "code",
   "execution_count": 16,
   "id": "0f9019bf",
   "metadata": {},
   "outputs": [],
   "source": [
    "# Demographic score data\n",
    "y_col = 'Mean Score Math'\n",
    "\n",
    "demog_X_train = demog_train.drop(y_col, axis=1)\n",
    "demog_X_test = demog_test.drop(y_col, axis=1)\n",
    "demog_y_train = demog_train.loc[:,y_col]\n",
    "demog_y_test = demog_test.loc[:,y_col]\n",
    "\n",
    "\n",
    "# PSAT score data\n",
    "y_col = '2018 Math Mean SAT'\n",
    "psat_X_train = psat_train.drop(y_col, axis=1)\n",
    "psat_X_test = psat_test.drop(y_col, axis=1)\n",
    "psat_y_train = psat_train.loc[:,y_col]\n",
    "psat_y_test = psat_test.loc[:,y_col]"
   ]
  },
  {
   "cell_type": "code",
   "execution_count": 17,
   "id": "e46f7da1",
   "metadata": {},
   "outputs": [],
   "source": [
    "# Demographic score data EBRW\n",
    "y_col = 'Mean Score EBRW'\n",
    "\n",
    "demog_X_train_E = demog_train_E.drop(y_col, axis=1)\n",
    "demog_X_test_E = demog_test_E.drop(y_col, axis=1)\n",
    "demog_y_train_E = demog_train_E.loc[:,y_col]\n",
    "demog_y_test_E = demog_test_E.loc[:,y_col]\n",
    "\n",
    "\n",
    "# PSAT score data\n",
    "y_col = '2018 EBRW Mean SAT'\n",
    "psat_X_train_E = psat_train_E.drop(y_col, axis=1)\n",
    "psat_X_test_E = psat_test_E.drop(y_col, axis=1)\n",
    "psat_y_train_E = psat_train_E.loc[:,y_col]\n",
    "psat_y_test_E = psat_test_E.loc[:,y_col]"
   ]
  },
  {
   "cell_type": "markdown",
   "id": "35d1112d",
   "metadata": {},
   "source": [
    "#### Utility functions"
   ]
  },
  {
   "cell_type": "code",
   "execution_count": 18,
   "id": "ff4cc9ff",
   "metadata": {},
   "outputs": [],
   "source": [
    "def adj_r2(model, X, y):\n",
    "    r2 = model.score(X,y)\n",
    "    n = X.shape[0]\n",
    "    p = X.shape[1]\n",
    "    return 1-(1-r2)*(n-1)/(n-p-1)\n",
    "\n",
    "def print_metrics(model, X, y):\n",
    "    r_square = model.score(X, y)\n",
    "    print(\"R2: {:.4f}\".format(r_square))\n",
    "    r2_adj = adj_r2(model, X, y)\n",
    "    print(\"Adj R2: {:.4f}\".format(r2_adj))\n",
    "    return\n",
    "\n",
    "def print_better_metrics(y_true, y_pred):\n",
    "    mse = mean_squared_error(y_true, y_pred)\n",
    "    print(\"MSE: {:.4f}\".format(mse))\n",
    "    rmse = np.sqrt(mse)\n",
    "    print(\"RMSE: {:.4f}\".format(rmse))\n",
    "    mae = mean_absolute_error(y_true, y_pred)\n",
    "    print(\"MAE: {:.4f}\".format(mae))\n",
    "    mape = mean_absolute_percentage_error(y_true, y_pred)\n",
    "    print(\"MAPE: {:.4f}\".format(mape))\n",
    "    return\n",
    "\n",
    "model_metrics = pd.DataFrame(index=['linreg_dem'], columns = ['mse', 'rmse', 'mae', 'mape'])\n",
    "model_metrics_E = pd.DataFrame(index=['linreg_dem'], columns = ['mse', 'rmse', 'mae', 'mape'])\n",
    "\n",
    "def update_metrics(model, y_true, y_pred):\n",
    "    global model_metrics\n",
    "    mse = mean_squared_error(y_true, y_pred)\n",
    "    rmse = np.sqrt(mse)\n",
    "    mae = mean_absolute_error(y_true, y_pred)\n",
    "    mape = mean_absolute_percentage_error(y_true, y_pred)\n",
    "    model_metrics.loc[model] = [mse, rmse, mae, mape]\n",
    "    \n",
    "def plot_feature_importance(model, X_train, X_test, y_test):\n",
    "    feature_importance = model.feature_importances_\n",
    "    sorted_idx = np.argsort(feature_importance)\n",
    "    pos = np.arange(sorted_idx.shape[0]) + .5\n",
    "    fig = plt.figure(figsize=(8, 8))\n",
    "    plt.barh(pos, feature_importance[sorted_idx], align='center')\n",
    "    plt.yticks(pos, np.array(X_train.columns)[sorted_idx])\n",
    "    plt.title('Feature Importance')\n",
    "    result = permutation_importance(model, X_test, y_test, n_repeats=10,\n",
    "                                    random_state=42, n_jobs=2)\n",
    "    sorted_idx = result.importances_mean.argsort()\n",
    "    fig.tight_layout()\n",
    "    plt.show()\n",
    "    return\n",
    "\n",
    "def set_demog_XY():\n",
    "    global X_train, X_test, y_train, y_test\n",
    "    X_train = demog_X_train\n",
    "    X_test = demog_X_test\n",
    "    y_train = demog_y_train\n",
    "    y_test = demog_y_test\n",
    "    \n",
    "def set_psat_XY():\n",
    "    global X_train, X_test, y_train, y_test\n",
    "    X_train = psat_X_train\n",
    "    X_test = psat_X_test\n",
    "    y_train = psat_y_train\n",
    "    y_test = psat_y_test\n",
    "    \n",
    "def set_demog_E_XY():\n",
    "    global X_train, X_test, y_train, y_test\n",
    "    X_train = demog_X_train_E\n",
    "    X_test = demog_X_test_E\n",
    "    y_train = demog_y_train_E\n",
    "    y_test = demog_y_test_E\n",
    "    \n",
    "def set_psat_E_XY():\n",
    "    global X_train, X_test, y_train, y_test\n",
    "    X_train = psat_X_train_E\n",
    "    X_test = psat_X_test_E\n",
    "    y_train = psat_y_train_E\n",
    "    y_test = psat_y_test_E"
   ]
  },
  {
   "cell_type": "markdown",
   "id": "29c1fbfe",
   "metadata": {},
   "source": [
    "## Demographic data"
   ]
  },
  {
   "cell_type": "markdown",
   "id": "3fe2c20b",
   "metadata": {},
   "source": [
    "#### Dummy Regressor"
   ]
  },
  {
   "cell_type": "code",
   "execution_count": 19,
   "id": "2432a8ab",
   "metadata": {},
   "outputs": [
    {
     "data": {
      "text/plain": [
       "array([[507.0887937]])"
      ]
     },
     "execution_count": 19,
     "metadata": {},
     "output_type": "execute_result"
    }
   ],
   "source": [
    "set_demog_XY()\n",
    "\n",
    "dumreg_demog = DummyRegressor(strategy='mean')\n",
    "dumreg_demog.fit(X_train, y_train)\n",
    "dumreg_demog.constant_"
   ]
  },
  {
   "cell_type": "markdown",
   "id": "e7747374",
   "metadata": {},
   "source": [
    "#### Linear regression"
   ]
  },
  {
   "cell_type": "code",
   "execution_count": 20,
   "id": "05184de8",
   "metadata": {},
   "outputs": [
    {
     "name": "stdout",
     "output_type": "stream",
     "text": [
      "Train\n",
      "R2: 0.6867\n",
      "Adj R2: 0.6786\n",
      "\n",
      "Test\n",
      "R2: 0.6757\n",
      "Adj R2: 0.6394\n",
      "\n",
      "\n",
      "MSE: 1070.2203\n",
      "RMSE: 32.7142\n",
      "MAE: 24.8174\n",
      "MAPE: 0.0487\n"
     ]
    }
   ],
   "source": [
    "linreg_dem = LinearRegression()\n",
    "linreg_dem.fit(X_train, y_train)\n",
    "y_tr_pred = linreg_dem.predict(X_train)\n",
    "y_te_pred = linreg_dem.predict(X_test)\n",
    "\n",
    "print('Train')\n",
    "print_metrics(linreg_dem, X_train, y_train)\n",
    "print('\\nTest')\n",
    "print_metrics(linreg_dem, X_test, y_test)\n",
    "print('\\n')\n",
    "\n",
    "update_metrics('linreg_dem', y_test, y_te_pred)\n",
    "print_better_metrics(y_test, y_te_pred)"
   ]
  },
  {
   "cell_type": "code",
   "execution_count": 21,
   "id": "c3ff58c5",
   "metadata": {},
   "outputs": [
    {
     "data": {
      "text/html": [
       "<div>\n",
       "<style scoped>\n",
       "    .dataframe tbody tr th:only-of-type {\n",
       "        vertical-align: middle;\n",
       "    }\n",
       "\n",
       "    .dataframe tbody tr th {\n",
       "        vertical-align: top;\n",
       "    }\n",
       "\n",
       "    .dataframe thead th {\n",
       "        text-align: right;\n",
       "    }\n",
       "</style>\n",
       "<table border=\"1\" class=\"dataframe\">\n",
       "  <thead>\n",
       "    <tr style=\"text-align: right;\">\n",
       "      <th></th>\n",
       "      <th>mse</th>\n",
       "      <th>rmse</th>\n",
       "      <th>mae</th>\n",
       "      <th>mape</th>\n",
       "    </tr>\n",
       "  </thead>\n",
       "  <tbody>\n",
       "    <tr>\n",
       "      <th>linreg_dem</th>\n",
       "      <td>1070.220316</td>\n",
       "      <td>32.714222</td>\n",
       "      <td>24.817356</td>\n",
       "      <td>0.048672</td>\n",
       "    </tr>\n",
       "  </tbody>\n",
       "</table>\n",
       "</div>"
      ],
      "text/plain": [
       "                    mse       rmse        mae      mape\n",
       "linreg_dem  1070.220316  32.714222  24.817356  0.048672"
      ]
     },
     "execution_count": 21,
     "metadata": {},
     "output_type": "execute_result"
    }
   ],
   "source": [
    "model_metrics"
   ]
  },
  {
   "cell_type": "code",
   "execution_count": 22,
   "id": "cc90ac40",
   "metadata": {
    "scrolled": true
   },
   "outputs": [
    {
     "data": {
      "text/plain": [
       "<matplotlib.collections.PathCollection at 0x23a46c65af0>"
      ]
     },
     "execution_count": 22,
     "metadata": {},
     "output_type": "execute_result"
    },
    {
     "data": {
      "image/png": "[encoded data removed]",
      "text/plain": [
       "<Figure size 432x288 with 1 Axes>"
      ]
     },
     "metadata": {
      "needs_background": "light"
     },
     "output_type": "display_data"
    }
   ],
   "source": [
    "plt.scatter(y_test, y_te_pred)"
   ]
  },
  {
   "cell_type": "markdown",
   "id": "4ef238e4",
   "metadata": {},
   "source": [
    "### Select K Best"
   ]
  },
  {
   "cell_type": "code",
   "execution_count": 23,
   "id": "feb9fffc",
   "metadata": {
    "scrolled": false
   },
   "outputs": [
    {
     "name": "stdout",
     "output_type": "stream",
     "text": [
      "Train\n",
      "R2: 0.6867\n",
      "Adj R2: 0.6792\n",
      "\n",
      "Test\n",
      "R2: 0.6757\n",
      "Adj R2: 0.6422\n"
     ]
    }
   ],
   "source": [
    "set_demog_XY()\n",
    "\n",
    "skb = SelectKBest(f_regression, k=13)\n",
    "skb.fit(X_train, y_train)\n",
    "\n",
    "X_tr_skb = skb.transform(X_train)\n",
    "X_te_skb = skb.transform(X_test)\n",
    "\n",
    "linreg_kb_dem = LinearRegression()\n",
    "linreg_kb_dem.fit(X_tr_skb, y_train)\n",
    "\n",
    "print('Train')\n",
    "print_metrics(linreg_kb_dem, X_tr_skb, y_train)\n",
    "print('\\nTest')\n",
    "print_metrics(linreg_kb_dem, X_te_skb, y_test)\n"
   ]
  },
  {
   "cell_type": "code",
   "execution_count": 24,
   "id": "b13dd339",
   "metadata": {},
   "outputs": [],
   "source": [
    "pipe = make_pipeline(SelectKBest(f_regression),\n",
    "                    LinearRegression())"
   ]
  },
  {
   "cell_type": "code",
   "execution_count": 25,
   "id": "51398537",
   "metadata": {
    "scrolled": true
   },
   "outputs": [
    {
     "name": "stdout",
     "output_type": "stream",
     "text": [
      "R2 Train: 0.6586\n",
      "R2 Test: 0.6396\n"
     ]
    }
   ],
   "source": [
    "set_demog_XY()\n",
    "\n",
    "pipe.fit(X_train, y_train)\n",
    "\n",
    "y_tr_pred = pipe.predict(X_train)\n",
    "y_te_pred = pipe.predict(X_test)\n",
    "\n",
    "y_te_pred = pipe.predict(X_test)\n",
    "\n",
    "update_metrics('SelectKBest (pipe)', y_test, y_te_pred)\n",
    "\n",
    "\n",
    "print(\"R2 Train: {:.4f}\".format(r2_score(y_train, y_tr_pred)))\n",
    "print(\"R2 Test: {:.4f}\".format(r2_score(y_test, y_te_pred)))"
   ]
  },
  {
   "cell_type": "markdown",
   "id": "c7e28bbf",
   "metadata": {},
   "source": [
    "Worse than linear regression without SKB."
   ]
  },
  {
   "cell_type": "code",
   "execution_count": 26,
   "id": "dce3f356",
   "metadata": {},
   "outputs": [],
   "source": [
    "# Gridsearch for k in SKB\n",
    "\n",
    "set_demog_XY()\n",
    "\n",
    "k = [k+1 for k in range(len(X_train.columns))]\n",
    "grid_params = {'selectkbest__k': k}\n",
    "lr_grid_cv = GridSearchCV(pipe, param_grid=grid_params, cv=5, n_jobs=-1)\n",
    "\n",
    "lr_grid_cv.fit(X_train, y_train)\n",
    "\n",
    "\n",
    "score_mean = lr_grid_cv.cv_results_['mean_test_score']\n",
    "score_std = lr_grid_cv.cv_results_['std_test_score']\n",
    "cv_k = [k for k in lr_grid_cv.cv_results_['param_selectkbest__k']]"
   ]
  },
  {
   "cell_type": "code",
   "execution_count": 27,
   "id": "5301996a",
   "metadata": {},
   "outputs": [
    {
     "data": {
      "text/plain": [
       "{'selectkbest__k': 13}"
      ]
     },
     "execution_count": 27,
     "metadata": {},
     "output_type": "execute_result"
    }
   ],
   "source": [
    "lr_grid_cv.best_params_"
   ]
  },
  {
   "cell_type": "code",
   "execution_count": 28,
   "id": "1fa834aa",
   "metadata": {},
   "outputs": [
    {
     "data": {
      "image/png": "[encoded data removed]",
      "text/plain": [
       "<Figure size 720x360 with 1 Axes>"
      ]
     },
     "metadata": {
      "needs_background": "light"
     },
     "output_type": "display_data"
    }
   ],
   "source": [
    "best_k = lr_grid_cv.best_params_['selectkbest__k']\n",
    "plt.subplots(figsize=(10, 5))\n",
    "plt.errorbar(cv_k, score_mean, yerr=score_std)\n",
    "plt.axvline(x=best_k, c='r', ls='--', alpha=.5)\n",
    "plt.xlabel('k')\n",
    "plt.ylabel('CV score (r-squared)')\n",
    "plt.title('Pipeline mean CV score (error bars +/- 1sd)');"
   ]
  },
  {
   "cell_type": "markdown",
   "id": "5d4c3c35",
   "metadata": {},
   "source": [
    "Trivial difference in CV score between k=13 and k=14."
   ]
  },
  {
   "cell_type": "code",
   "execution_count": 29,
   "id": "68b9b630",
   "metadata": {},
   "outputs": [
    {
     "data": {
      "text/plain": [
       "Ethn_Asian                   129.634240\n",
       "IEP_Students without IEPs     72.173894\n",
       "Ethn_Two or More Races        57.268513\n",
       "Ethn_White                    52.410218\n",
       "Median Family Income          21.635503\n",
       "Ethn_Hispanic                 18.451887\n",
       "FRL_Not FRL Eligible          17.748549\n",
       "ELL_Not English Learners      17.340576\n",
       "Gend_Male                      6.935456\n",
       "Gend_Female                   -6.935456\n",
       "ELL_English Learners         -17.340576\n",
       "FRL_FRL Eligible             -17.748549\n",
       "IEP_Students with IEPs       -72.173894\n",
       "dtype: float64"
      ]
     },
     "execution_count": 29,
     "metadata": {},
     "output_type": "execute_result"
    }
   ],
   "source": [
    "selected = lr_grid_cv.best_estimator_.named_steps.selectkbest.get_support()\n",
    "coefs = lr_grid_cv.best_estimator_.named_steps.linearregression.coef_\n",
    "features = X_train.columns[selected]\n",
    "pd.Series(coefs, index=features).sort_values(ascending=False)"
   ]
  },
  {
   "cell_type": "markdown",
   "id": "4e60f313",
   "metadata": {},
   "source": [
    "Something doesn't check out here."
   ]
  },
  {
   "cell_type": "markdown",
   "id": "5f2d5d1f",
   "metadata": {},
   "source": [
    "### Gradient Boosting Regressor"
   ]
  },
  {
   "cell_type": "code",
   "execution_count": 30,
   "id": "b0d109ed",
   "metadata": {},
   "outputs": [
    {
     "name": "stdout",
     "output_type": "stream",
     "text": [
      "Train\n",
      "R2: 0.8038\n",
      "Adj R2: 0.7988\n",
      "\n",
      "Test\n",
      "R2: 0.6928\n",
      "Adj R2: 0.6584\n",
      "\n",
      "\n",
      "MSE: 1013.6018\n",
      "RMSE: 31.8371\n",
      "MAE: 23.6339\n",
      "MAPE: 0.0461\n"
     ]
    },
    {
     "data": {
      "image/png": "[encoded data removed]",
      "text/plain": [
       "<Figure size 576x576 with 1 Axes>"
      ]
     },
     "metadata": {
      "needs_background": "light"
     },
     "output_type": "display_data"
    }
   ],
   "source": [
    "set_demog_XY()\n",
    "\n",
    "params = {\n",
    "    \"n_estimators\": 500,\n",
    "    \"max_depth\": 4,\n",
    "    \"min_samples_split\": 5,\n",
    "    \"learning_rate\": 0.01,\n",
    "    \"loss\": \"squared_error\",\n",
    "}\n",
    "\n",
    "gbreg_dem = GradientBoostingRegressor(**params)\n",
    "gbreg_dem.fit(X_train, y_train)\n",
    "\n",
    "y_te_pred = gbreg_dem.predict(X_test)\n",
    "\n",
    "print('Train')\n",
    "print_metrics(gbreg_dem, X_train, y_train)\n",
    "print('\\nTest')\n",
    "print_metrics(gbreg_dem, X_test, y_test)\n",
    "\n",
    "update_metrics('gbreg_dem', y_test, y_te_pred)\n",
    "print('\\n')\n",
    "print_better_metrics(y_test, y_te_pred)\n",
    "\n",
    "plot_feature_importance(gbreg_dem, X_train, X_test, y_test)"
   ]
  },
  {
   "cell_type": "markdown",
   "id": "d2f14c49",
   "metadata": {},
   "source": [
    "#### Gradient Boost Reg - RandomSearchCV"
   ]
  },
  {
   "cell_type": "code",
   "execution_count": 31,
   "id": "3dd37c23",
   "metadata": {},
   "outputs": [],
   "source": [
    "set_demog_XY()\n",
    "\n",
    "param_distributions = {\n",
    "    \"n_estimators\": range(100,700),\n",
    "    \"max_depth\": range(2,10),\n",
    "    \"min_samples_split\": range(2,10),\n",
    "    \"learning_rate\": [0.001, 0.01, 0.1, 1]\n",
    "    }\n",
    "\n",
    "rscv = RandomizedSearchCV(gbreg_dem, param_distributions, random_state=136,\n",
    "                              n_iter = 20\n",
    "                              )\n",
    "search_gbreg_cv_dem = rscv.fit(X_train, y_train)"
   ]
  },
  {
   "cell_type": "code",
   "execution_count": 32,
   "id": "7d829e2d",
   "metadata": {},
   "outputs": [
    {
     "name": "stdout",
     "output_type": "stream",
     "text": [
      "Train\n",
      "R2: 0.8377\n",
      "Adj R2: 0.8335\n",
      "\n",
      "Test\n",
      "R2: 0.7401\n",
      "Adj R2: 0.7110\n",
      "\n",
      "\n",
      "MSE: 857.6946\n",
      "RMSE: 29.2864\n",
      "MAE: 21.6226\n",
      "MAPE: 0.0421\n"
     ]
    },
    {
     "data": {
      "image/png": "[encoded data removed]",
      "text/plain": [
       "<Figure size 576x576 with 1 Axes>"
      ]
     },
     "metadata": {
      "needs_background": "light"
     },
     "output_type": "display_data"
    }
   ],
   "source": [
    "set_demog_XY()\n",
    "\n",
    "gbreg_cv_dem = GradientBoostingRegressor(**search_gbreg_cv_dem.best_params_,  loss= \"squared_error\")\n",
    "gbreg_cv_dem.fit(X_train, y_train)\n",
    "\n",
    "y_te_pred = gbreg_cv_dem.predict(X_test)\n",
    "\n",
    "print('Train')\n",
    "print_metrics(gbreg_cv_dem, X_train, y_train)\n",
    "print('\\nTest')\n",
    "print_metrics(gbreg_cv_dem, X_test, y_test)\n",
    "\n",
    "update_metrics('gbreg_cv_dem', y_test, y_te_pred)\n",
    "print('\\n')\n",
    "print_better_metrics(y_test, y_te_pred)\n",
    "\n",
    "plot_feature_importance(gbreg_cv_dem, X_train, X_test, y_test)"
   ]
  },
  {
   "cell_type": "markdown",
   "id": "f364b3b8",
   "metadata": {},
   "source": [
    "#### Random Forest"
   ]
  },
  {
   "cell_type": "code",
   "execution_count": 33,
   "id": "8a5fa16e",
   "metadata": {},
   "outputs": [
    {
     "name": "stdout",
     "output_type": "stream",
     "text": [
      "R2 Train: 0.9233\n",
      "R2 Test: 0.6172\n"
     ]
    }
   ],
   "source": [
    "set_demog_XY()\n",
    "\n",
    "rfr_dem = RandomForestRegressor()\n",
    "rfr_dem.fit(X_train, y_train)\n",
    "\n",
    "#mse = mean_squared_error(y_test, y_pred)\n",
    "#print(\"The mean squared error (MSE) on test set: {:.4f}\".format(mse))\n",
    "\n",
    "y_tr_pred = rfr_dem.predict(X_train)\n",
    "y_te_pred = rfr_dem.predict(X_test)\n",
    "\n",
    "\n",
    "print(\"R2 Train: {:.4f}\".format(r2_score(y_train, y_tr_pred)))\n",
    "print(\"R2 Test: {:.4f}\".format(r2_score(y_test, y_te_pred)))\n"
   ]
  },
  {
   "cell_type": "code",
   "execution_count": 34,
   "id": "2649eaa3",
   "metadata": {
    "scrolled": true
   },
   "outputs": [
    {
     "name": "stdout",
     "output_type": "stream",
     "text": [
      "{'n_estimators': 680, 'max_depth': 6}\n",
      "Train\n",
      "R2: 0.9581\n",
      "Adj R2: 0.9570\n",
      "\n",
      "Test\n",
      "R2: 0.6531\n",
      "Adj R2: 0.6142\n",
      "\n",
      "\n",
      "MSE: 1144.8273\n",
      "RMSE: 33.8353\n",
      "MAE: 26.1432\n",
      "MAPE: 0.0517\n"
     ]
    }
   ],
   "source": [
    "# Random Forest Regression with Random Search CV\n",
    "\n",
    "set_demog_XY()\n",
    "\n",
    "param_distributions = {\n",
    "    \"n_estimators\": range(50,1000),\n",
    "    \"max_depth\": range(2,30)#,\n",
    "    }\n",
    "\n",
    "rscv_rfr_dem = RandomizedSearchCV(rfr_dem, param_distributions, random_state=137,\n",
    "                              n_iter = 10\n",
    "                              )\n",
    "search_rfr_dem = rscv_rfr_dem.fit(X_train, y_train)\n",
    "\n",
    "rfr_dem = GradientBoostingRegressor(**search_rfr_dem.best_params_,  loss= \"squared_error\")\n",
    "rfr_dem.fit(X_train, y_train)\n",
    "\n",
    "print(search_rfr_dem.best_params_)\n",
    "\n",
    "y_te_pred = rfr_dem.predict(X_test)\n",
    "\n",
    "print('Train')\n",
    "print_metrics(rfr_dem, X_train, y_train)\n",
    "print('\\nTest')\n",
    "print_metrics(rfr_dem, X_test, y_test)\n",
    "\n",
    "update_metrics('rfr_dem', y_test, y_te_pred)\n",
    "print('\\n')\n",
    "print_better_metrics(y_test, y_te_pred)"
   ]
  },
  {
   "cell_type": "code",
   "execution_count": 35,
   "id": "ddaaeaa1",
   "metadata": {
    "scrolled": true
   },
   "outputs": [
    {
     "data": {
      "image/png": "[encoded data removed]",
      "text/plain": [
       "<Figure size 576x576 with 1 Axes>"
      ]
     },
     "metadata": {
      "needs_background": "light"
     },
     "output_type": "display_data"
    }
   ],
   "source": [
    "plot_feature_importance(rfr_dem, X_train, X_test, y_test)"
   ]
  },
  {
   "cell_type": "code",
   "execution_count": 36,
   "id": "c5068f55",
   "metadata": {},
   "outputs": [
    {
     "data": {
      "text/html": [
       "<div>\n",
       "<style scoped>\n",
       "    .dataframe tbody tr th:only-of-type {\n",
       "        vertical-align: middle;\n",
       "    }\n",
       "\n",
       "    .dataframe tbody tr th {\n",
       "        vertical-align: top;\n",
       "    }\n",
       "\n",
       "    .dataframe thead th {\n",
       "        text-align: right;\n",
       "    }\n",
       "</style>\n",
       "<table border=\"1\" class=\"dataframe\">\n",
       "  <thead>\n",
       "    <tr style=\"text-align: right;\">\n",
       "      <th></th>\n",
       "      <th>mse</th>\n",
       "      <th>rmse</th>\n",
       "      <th>mae</th>\n",
       "      <th>mape</th>\n",
       "    </tr>\n",
       "  </thead>\n",
       "  <tbody>\n",
       "    <tr>\n",
       "      <th>linreg_dem</th>\n",
       "      <td>1070.220316</td>\n",
       "      <td>32.714222</td>\n",
       "      <td>24.817356</td>\n",
       "      <td>0.048672</td>\n",
       "    </tr>\n",
       "    <tr>\n",
       "      <th>SelectKBest (pipe)</th>\n",
       "      <td>1189.455594</td>\n",
       "      <td>34.488485</td>\n",
       "      <td>25.633965</td>\n",
       "      <td>0.050429</td>\n",
       "    </tr>\n",
       "    <tr>\n",
       "      <th>gbreg_dem</th>\n",
       "      <td>1013.601752</td>\n",
       "      <td>31.837113</td>\n",
       "      <td>23.633867</td>\n",
       "      <td>0.046103</td>\n",
       "    </tr>\n",
       "    <tr>\n",
       "      <th>gbreg_cv_dem</th>\n",
       "      <td>857.694585</td>\n",
       "      <td>29.286423</td>\n",
       "      <td>21.622648</td>\n",
       "      <td>0.042141</td>\n",
       "    </tr>\n",
       "    <tr>\n",
       "      <th>rfr_dem</th>\n",
       "      <td>1144.827274</td>\n",
       "      <td>33.835296</td>\n",
       "      <td>26.143229</td>\n",
       "      <td>0.051704</td>\n",
       "    </tr>\n",
       "  </tbody>\n",
       "</table>\n",
       "</div>"
      ],
      "text/plain": [
       "                            mse       rmse        mae      mape\n",
       "linreg_dem          1070.220316  32.714222  24.817356  0.048672\n",
       "SelectKBest (pipe)  1189.455594  34.488485  25.633965  0.050429\n",
       "gbreg_dem           1013.601752  31.837113  23.633867  0.046103\n",
       "gbreg_cv_dem         857.694585  29.286423  21.622648  0.042141\n",
       "rfr_dem             1144.827274  33.835296  26.143229  0.051704"
      ]
     },
     "execution_count": 36,
     "metadata": {},
     "output_type": "execute_result"
    }
   ],
   "source": [
    "model_metrics"
   ]
  },
  {
   "cell_type": "markdown",
   "id": "c15b0900",
   "metadata": {},
   "source": [
    "## Best model:  Gradient Boost Regression with Random Search CV"
   ]
  },
  {
   "cell_type": "markdown",
   "id": "786de2ac",
   "metadata": {},
   "source": [
    "### Now do it again with PSAT/SAT scores"
   ]
  },
  {
   "cell_type": "code",
   "execution_count": 37,
   "id": "f6ad0cf8",
   "metadata": {},
   "outputs": [
    {
     "data": {
      "text/plain": [
       "array([[488.64179104]])"
      ]
     },
     "execution_count": 37,
     "metadata": {},
     "output_type": "execute_result"
    }
   ],
   "source": [
    "set_psat_XY()\n",
    "\n",
    "dumreg_demog = DummyRegressor(strategy='mean')\n",
    "dumreg_demog.fit(X_train, y_train)\n",
    "dumreg_demog.constant_"
   ]
  },
  {
   "cell_type": "code",
   "execution_count": 38,
   "id": "ebcc4dc0",
   "metadata": {},
   "outputs": [
    {
     "name": "stdout",
     "output_type": "stream",
     "text": [
      "Train\n",
      "R2: 0.9490\n",
      "Adj R2: 0.9488\n",
      "\n",
      "Test\n",
      "R2: 0.9493\n",
      "Adj R2: 0.9486\n",
      "\n",
      "\n",
      "MSE: 134.6117\n",
      "RMSE: 11.6022\n",
      "MAE: 9.3892\n",
      "MAPE: 0.0201\n"
     ]
    }
   ],
   "source": [
    "#Linear Regression\n",
    "\n",
    "set_psat_XY()\n",
    "\n",
    "linreg_psat = LinearRegression()\n",
    "linreg_psat.fit(X_train, y_train)\n",
    "y_tr_pred = linreg_psat.predict(X_train)\n",
    "y_te_pred = linreg_psat.predict(X_test)\n",
    "\n",
    "print('Train')\n",
    "print_metrics(linreg_psat, X_train, y_train)\n",
    "print('\\nTest')\n",
    "print_metrics(linreg_psat, X_test, y_test)\n",
    "\n",
    "print('\\n')\n",
    "\n",
    "update_metrics('linreg_psat', y_test, y_te_pred)\n",
    "\n",
    "print_better_metrics(y_test, y_te_pred)"
   ]
  },
  {
   "cell_type": "code",
   "execution_count": 39,
   "id": "b014a41b",
   "metadata": {},
   "outputs": [
    {
     "name": "stdout",
     "output_type": "stream",
     "text": [
      "Train\n",
      "R2: 0.9695\n",
      "Adj R2: 0.9694\n",
      "\n",
      "Test\n",
      "R2: 0.9424\n",
      "Adj R2: 0.9415\n",
      "\n",
      "\n",
      "MSE: 153.0193\n",
      "RMSE: 12.3701\n",
      "MAE: 9.4665\n",
      "MAPE: 0.0200\n"
     ]
    }
   ],
   "source": [
    "#Gradient Boost Regression\n",
    "\n",
    "set_psat_XY()\n",
    "\n",
    "params = {\n",
    "    \"n_estimators\": 500,\n",
    "    \"max_depth\": 4,\n",
    "    \"min_samples_split\": 5,\n",
    "    \"learning_rate\": 0.01,\n",
    "    \"loss\": \"squared_error\",\n",
    "}\n",
    "\n",
    "gbreg_psat = GradientBoostingRegressor(**params)\n",
    "gbreg_psat.fit(X_train, y_train)\n",
    "\n",
    "#mse = mean_squared_error(y_test, y_pred)\n",
    "#print(\"The mean squared error (MSE) on test set: {:.4f}\".format(mse))\n",
    "\n",
    "y_te_pred = gbreg_psat.predict(X_test)\n",
    "\n",
    "update_metrics('gbreg_psat', y_test, y_te_pred)\n",
    "\n",
    "print('Train')\n",
    "print_metrics(gbreg_psat, X_train, y_train)\n",
    "print('\\nTest')\n",
    "print_metrics(gbreg_psat, X_test, y_test)\n",
    "\n",
    "print('\\n')\n",
    "print_better_metrics(y_test, y_te_pred)"
   ]
  },
  {
   "cell_type": "code",
   "execution_count": 40,
   "id": "db1fb283",
   "metadata": {},
   "outputs": [
    {
     "name": "stdout",
     "output_type": "stream",
     "text": [
      "Train\n",
      "R2: 0.9734\n",
      "Adj R2: 0.9733\n",
      "\n",
      "Test\n",
      "R2: 0.9341\n",
      "Adj R2: 0.9331\n",
      "MSE: 175.1495\n",
      "RMSE: 13.2344\n",
      "MAE: 10.0353\n",
      "MAPE: 0.0211\n"
     ]
    }
   ],
   "source": [
    "#Random Search CV for gradient boost\n",
    "\n",
    "set_psat_XY()\n",
    "\n",
    "param_distributions = {\n",
    "    \"n_estimators\": range(100,700),\n",
    "    \"max_depth\": range(2,10),\n",
    "    \"min_samples_split\": range(2,10),\n",
    "    \"learning_rate\": [0.001, 0.01, 0.1, 1]\n",
    "    }\n",
    "\n",
    "rscv = RandomizedSearchCV(gbreg_dem, param_distributions, random_state=136,\n",
    "                              n_iter = 10\n",
    "                              )\n",
    "search_gbreg_psat_cv = rscv.fit(X_train, y_train)\n",
    "\n",
    "gbreg_psat_cv = GradientBoostingRegressor(**search_gbreg_psat_cv.best_params_,  loss= \"squared_error\")\n",
    "gbreg_psat_cv.fit(X_train, y_train)\n",
    "\n",
    "y_te_pred = gbreg_psat_cv.predict(X_test)\n",
    "\n",
    "update_metrics('gbreg_cv_psat', y_test, y_te_pred)\n",
    "\n",
    "print('Train')\n",
    "print_metrics(gbreg_psat_cv, X_train, y_train)\n",
    "print('\\nTest')\n",
    "print_metrics(gbreg_psat_cv, X_test, y_test)\n",
    "\n",
    "print_better_metrics(y_test, y_te_pred)"
   ]
  },
  {
   "cell_type": "code",
   "execution_count": 41,
   "id": "4e6d3a4d",
   "metadata": {},
   "outputs": [
    {
     "data": {
      "text/html": [
       "<div>\n",
       "<style scoped>\n",
       "    .dataframe tbody tr th:only-of-type {\n",
       "        vertical-align: middle;\n",
       "    }\n",
       "\n",
       "    .dataframe tbody tr th {\n",
       "        vertical-align: top;\n",
       "    }\n",
       "\n",
       "    .dataframe thead th {\n",
       "        text-align: right;\n",
       "    }\n",
       "</style>\n",
       "<table border=\"1\" class=\"dataframe\">\n",
       "  <thead>\n",
       "    <tr style=\"text-align: right;\">\n",
       "      <th></th>\n",
       "      <th>mse</th>\n",
       "      <th>rmse</th>\n",
       "      <th>mae</th>\n",
       "      <th>mape</th>\n",
       "    </tr>\n",
       "  </thead>\n",
       "  <tbody>\n",
       "    <tr>\n",
       "      <th>linreg_dem</th>\n",
       "      <td>1070.220316</td>\n",
       "      <td>32.714222</td>\n",
       "      <td>24.817356</td>\n",
       "      <td>0.048672</td>\n",
       "    </tr>\n",
       "    <tr>\n",
       "      <th>SelectKBest (pipe)</th>\n",
       "      <td>1189.455594</td>\n",
       "      <td>34.488485</td>\n",
       "      <td>25.633965</td>\n",
       "      <td>0.050429</td>\n",
       "    </tr>\n",
       "    <tr>\n",
       "      <th>gbreg_dem</th>\n",
       "      <td>1013.601752</td>\n",
       "      <td>31.837113</td>\n",
       "      <td>23.633867</td>\n",
       "      <td>0.046103</td>\n",
       "    </tr>\n",
       "    <tr>\n",
       "      <th>gbreg_cv_dem</th>\n",
       "      <td>857.694585</td>\n",
       "      <td>29.286423</td>\n",
       "      <td>21.622648</td>\n",
       "      <td>0.042141</td>\n",
       "    </tr>\n",
       "    <tr>\n",
       "      <th>rfr_dem</th>\n",
       "      <td>1144.827274</td>\n",
       "      <td>33.835296</td>\n",
       "      <td>26.143229</td>\n",
       "      <td>0.051704</td>\n",
       "    </tr>\n",
       "    <tr>\n",
       "      <th>linreg_psat</th>\n",
       "      <td>134.611716</td>\n",
       "      <td>11.602229</td>\n",
       "      <td>9.389181</td>\n",
       "      <td>0.020059</td>\n",
       "    </tr>\n",
       "    <tr>\n",
       "      <th>gbreg_psat</th>\n",
       "      <td>153.019273</td>\n",
       "      <td>12.370096</td>\n",
       "      <td>9.466491</td>\n",
       "      <td>0.019991</td>\n",
       "    </tr>\n",
       "    <tr>\n",
       "      <th>gbreg_cv_psat</th>\n",
       "      <td>175.149453</td>\n",
       "      <td>13.234404</td>\n",
       "      <td>10.035267</td>\n",
       "      <td>0.021111</td>\n",
       "    </tr>\n",
       "  </tbody>\n",
       "</table>\n",
       "</div>"
      ],
      "text/plain": [
       "                            mse       rmse        mae      mape\n",
       "linreg_dem          1070.220316  32.714222  24.817356  0.048672\n",
       "SelectKBest (pipe)  1189.455594  34.488485  25.633965  0.050429\n",
       "gbreg_dem           1013.601752  31.837113  23.633867  0.046103\n",
       "gbreg_cv_dem         857.694585  29.286423  21.622648  0.042141\n",
       "rfr_dem             1144.827274  33.835296  26.143229  0.051704\n",
       "linreg_psat          134.611716  11.602229   9.389181  0.020059\n",
       "gbreg_psat           153.019273  12.370096   9.466491  0.019991\n",
       "gbreg_cv_psat        175.149453  13.234404  10.035267  0.021111"
      ]
     },
     "execution_count": 41,
     "metadata": {},
     "output_type": "execute_result"
    }
   ],
   "source": [
    "model_metrics"
   ]
  },
  {
   "cell_type": "markdown",
   "id": "afdeaf74",
   "metadata": {},
   "source": [
    "Best model for demographic data: gradient boost regression with cross validation.  MAPE ~ 4.2%\n",
    "\n",
    "Best model for PSAT data: linear regresion.  MAPE ~ 2.0%"
   ]
  },
  {
   "cell_type": "markdown",
   "id": "e846b850",
   "metadata": {},
   "source": [
    "### Model EBRW scores"
   ]
  },
  {
   "cell_type": "markdown",
   "id": "67ebf131",
   "metadata": {},
   "source": [
    "#### Demographic data first"
   ]
  },
  {
   "cell_type": "code",
   "execution_count": 42,
   "id": "fe7fc3bf",
   "metadata": {},
   "outputs": [],
   "source": [
    "set_demog_E_XY()\n",
    "\n",
    "# Gradient boost regression\n",
    "\n",
    "params = {\n",
    "    \"n_estimators\": 500,\n",
    "    \"max_depth\": 4,\n",
    "    \"min_samples_split\": 5,\n",
    "    \"learning_rate\": 0.01,\n",
    "    \"loss\": \"squared_error\",\n",
    "}\n",
    "\n",
    "gbreg_dem_E = GradientBoostingRegressor(**params)\n",
    "gbreg_dem_E.fit(X_train, y_train);"
   ]
  },
  {
   "cell_type": "code",
   "execution_count": 43,
   "id": "d0eb01f7",
   "metadata": {},
   "outputs": [],
   "source": [
    "# Random search CV\n",
    "param_distributions = {\n",
    "    \"n_estimators\": range(100,700),\n",
    "    \"max_depth\": range(2,10),\n",
    "    \"min_samples_split\": range(2,10),\n",
    "    \"learning_rate\": [0.001, 0.01, 0.1, 1]\n",
    "    }\n",
    "\n",
    "rscv = RandomizedSearchCV(gbreg_dem_E, param_distributions, random_state=136, n_iter = 20)\n",
    "search_gbreg_cv_dem_E = rscv.fit(X_train, y_train)\n",
    "\n",
    "gbreg_cv_dem_E = GradientBoostingRegressor(**search_gbreg_cv_dem_E.best_params_,  loss= \"squared_error\")\n",
    "gbreg_cv_dem_E.fit(X_train, y_train)\n",
    "\n",
    "y_te_pred = gbreg_cv_dem_E.predict(X_test)"
   ]
  },
  {
   "cell_type": "code",
   "execution_count": 44,
   "id": "01a7c14d",
   "metadata": {},
   "outputs": [
    {
     "name": "stdout",
     "output_type": "stream",
     "text": [
      "MSE: 625.9626\n",
      "RMSE: 25.0192\n",
      "MAE: 19.6916\n",
      "MAPE: 0.0373\n"
     ]
    },
    {
     "data": {
      "image/png": "[encoded data removed]",
      "text/plain": [
       "<Figure size 576x576 with 1 Axes>"
      ]
     },
     "metadata": {
      "needs_background": "light"
     },
     "output_type": "display_data"
    }
   ],
   "source": [
    "# Metrics\n",
    "\n",
    "mse = mean_squared_error(y_test, y_te_pred)\n",
    "rmse = np.sqrt(mse)\n",
    "mae = mean_absolute_error(y_test, y_te_pred)\n",
    "mape = mean_absolute_percentage_error(y_test, y_te_pred)\n",
    "model_metrics_E.loc['gbreg_cv_dem_E'] = [mse, rmse, mae, mape]\n",
    "\n",
    "update_metrics('gbreg_cv_dem_E',y_test,y_te_pred)\n",
    "\n",
    "print_better_metrics(y_test, y_te_pred)\n",
    "\n",
    "plot_feature_importance(gbreg_cv_dem_E, X_train, X_test, y_test)"
   ]
  },
  {
   "cell_type": "code",
   "execution_count": 45,
   "id": "39f1be92",
   "metadata": {
    "scrolled": true
   },
   "outputs": [
    {
     "data": {
      "image/png": "[encoded data removed]",
      "text/plain": [
       "<Figure size 576x576 with 1 Axes>"
      ]
     },
     "metadata": {
      "needs_background": "light"
     },
     "output_type": "display_data"
    }
   ],
   "source": [
    "# Compare important features to math score predictions\n",
    "\n",
    "set_demog_XY()\n",
    "plot_feature_importance(gbreg_cv_dem, X_train, X_test, y_test)"
   ]
  },
  {
   "cell_type": "markdown",
   "id": "91e6423f",
   "metadata": {},
   "source": [
    "Hispanic ethnicity has greater importance for EBRW scores than for Math scores."
   ]
  },
  {
   "cell_type": "markdown",
   "id": "126acc04",
   "metadata": {},
   "source": [
    "#### Now PSAT data"
   ]
  },
  {
   "cell_type": "code",
   "execution_count": 46,
   "id": "2b4976fa",
   "metadata": {},
   "outputs": [
    {
     "name": "stdout",
     "output_type": "stream",
     "text": [
      "MSE: 113.4879\n",
      "RMSE: 10.6531\n",
      "MAE: 7.9071\n",
      "MAPE: 0.0157\n"
     ]
    }
   ],
   "source": [
    "#Linear Regression\n",
    "set_psat_E_XY()\n",
    "\n",
    "linreg_psat_E = LinearRegression()\n",
    "linreg_psat_E.fit(X_train, y_train)\n",
    "y_tr_pred = linreg_psat_E.predict(X_train)\n",
    "y_te_pred = linreg_psat_E.predict(X_test)\n",
    "\n",
    "\n",
    "update_metrics('linreg_psat_E', y_test, y_te_pred)\n",
    "\n",
    "print_better_metrics(y_test, y_te_pred)"
   ]
  },
  {
   "cell_type": "code",
   "execution_count": 47,
   "id": "ca4dde71",
   "metadata": {},
   "outputs": [
    {
     "data": {
      "text/html": [
       "<div>\n",
       "<style scoped>\n",
       "    .dataframe tbody tr th:only-of-type {\n",
       "        vertical-align: middle;\n",
       "    }\n",
       "\n",
       "    .dataframe tbody tr th {\n",
       "        vertical-align: top;\n",
       "    }\n",
       "\n",
       "    .dataframe thead th {\n",
       "        text-align: right;\n",
       "    }\n",
       "</style>\n",
       "<table border=\"1\" class=\"dataframe\">\n",
       "  <thead>\n",
       "    <tr style=\"text-align: right;\">\n",
       "      <th></th>\n",
       "      <th>mse</th>\n",
       "      <th>rmse</th>\n",
       "      <th>mae</th>\n",
       "      <th>mape</th>\n",
       "    </tr>\n",
       "  </thead>\n",
       "  <tbody>\n",
       "    <tr>\n",
       "      <th>linreg_dem</th>\n",
       "      <td>1070.220316</td>\n",
       "      <td>32.714222</td>\n",
       "      <td>24.817356</td>\n",
       "      <td>0.048672</td>\n",
       "    </tr>\n",
       "    <tr>\n",
       "      <th>SelectKBest (pipe)</th>\n",
       "      <td>1189.455594</td>\n",
       "      <td>34.488485</td>\n",
       "      <td>25.633965</td>\n",
       "      <td>0.050429</td>\n",
       "    </tr>\n",
       "    <tr>\n",
       "      <th>gbreg_dem</th>\n",
       "      <td>1013.601752</td>\n",
       "      <td>31.837113</td>\n",
       "      <td>23.633867</td>\n",
       "      <td>0.046103</td>\n",
       "    </tr>\n",
       "    <tr>\n",
       "      <th>gbreg_cv_dem</th>\n",
       "      <td>857.694585</td>\n",
       "      <td>29.286423</td>\n",
       "      <td>21.622648</td>\n",
       "      <td>0.042141</td>\n",
       "    </tr>\n",
       "    <tr>\n",
       "      <th>rfr_dem</th>\n",
       "      <td>1144.827274</td>\n",
       "      <td>33.835296</td>\n",
       "      <td>26.143229</td>\n",
       "      <td>0.051704</td>\n",
       "    </tr>\n",
       "    <tr>\n",
       "      <th>linreg_psat</th>\n",
       "      <td>134.611716</td>\n",
       "      <td>11.602229</td>\n",
       "      <td>9.389181</td>\n",
       "      <td>0.020059</td>\n",
       "    </tr>\n",
       "    <tr>\n",
       "      <th>gbreg_psat</th>\n",
       "      <td>153.019273</td>\n",
       "      <td>12.370096</td>\n",
       "      <td>9.466491</td>\n",
       "      <td>0.019991</td>\n",
       "    </tr>\n",
       "    <tr>\n",
       "      <th>gbreg_cv_psat</th>\n",
       "      <td>175.149453</td>\n",
       "      <td>13.234404</td>\n",
       "      <td>10.035267</td>\n",
       "      <td>0.021111</td>\n",
       "    </tr>\n",
       "    <tr>\n",
       "      <th>gbreg_cv_dem_E</th>\n",
       "      <td>625.962575</td>\n",
       "      <td>25.019244</td>\n",
       "      <td>19.691558</td>\n",
       "      <td>0.03734</td>\n",
       "    </tr>\n",
       "    <tr>\n",
       "      <th>linreg_psat_E</th>\n",
       "      <td>113.487902</td>\n",
       "      <td>10.65307</td>\n",
       "      <td>7.907126</td>\n",
       "      <td>0.01569</td>\n",
       "    </tr>\n",
       "  </tbody>\n",
       "</table>\n",
       "</div>"
      ],
      "text/plain": [
       "                            mse       rmse        mae      mape\n",
       "linreg_dem          1070.220316  32.714222  24.817356  0.048672\n",
       "SelectKBest (pipe)  1189.455594  34.488485  25.633965  0.050429\n",
       "gbreg_dem           1013.601752  31.837113  23.633867  0.046103\n",
       "gbreg_cv_dem         857.694585  29.286423  21.622648  0.042141\n",
       "rfr_dem             1144.827274  33.835296  26.143229  0.051704\n",
       "linreg_psat          134.611716  11.602229   9.389181  0.020059\n",
       "gbreg_psat           153.019273  12.370096   9.466491  0.019991\n",
       "gbreg_cv_psat        175.149453  13.234404  10.035267  0.021111\n",
       "gbreg_cv_dem_E       625.962575  25.019244  19.691558   0.03734\n",
       "linreg_psat_E        113.487902   10.65307   7.907126   0.01569"
      ]
     },
     "execution_count": 47,
     "metadata": {},
     "output_type": "execute_result"
    }
   ],
   "source": [
    "model_metrics"
   ]
  },
  {
   "cell_type": "markdown",
   "id": "41d0be04",
   "metadata": {},
   "source": [
    "MAPE for demographic data EBRW score: ~3.7%\n",
    "\n",
    "MAPE for PSAT data EBRW score: ~1.6%\n",
    "\n",
    "EBRW predictions slightly more accurate.\n",
    "\n",
    "Demographic data produces predictions with twice the error as PSAT data."
   ]
  },
  {
   "cell_type": "markdown",
   "id": "f7f60a92",
   "metadata": {},
   "source": [
    "**Bonus conclusion:**  Using SAT scores to evaluate a school's academic performance is meaningless if SAT scores can be predicted before considering anything academic.\n",
    "\n",
    "However using demographics-based predictions can be used to determine if a school is performing better or worse than expected."
   ]
  }
 ],
 "metadata": {
  "kernelspec": {
   "display_name": "Python 3 (ipykernel)",
   "language": "python",
   "name": "python3"
  },
  "language_info": {
   "codemirror_mode": {
    "name": "ipython",
    "version": 3
   },
   "file_extension": ".py",
   "mimetype": "text/x-python",
   "name": "python",
   "nbconvert_exporter": "python",
   "pygments_lexer": "ipython3",
   "version": "3.9.12"
  }
 },
 "nbformat": 4,
 "nbformat_minor": 5
}
