{
 "cells": [
  {
   "cell_type": "markdown",
   "id": "cd47f051",
   "metadata": {},
   "source": [
    "# Modeling of PSAT vs SAT demographic predictors of SAT scores"
   ]
  },
  {
   "cell_type": "markdown",
   "id": "37f22f94",
   "metadata": {},
   "source": [
    "# Import packages & data"
   ]
  },
  {
   "cell_type": "code",
   "execution_count": 1,
   "id": "0b5a5ae1",
   "metadata": {},
   "outputs": [],
   "source": [
    "import pandas as pd\n",
    "import numpy as np\n",
    "import scipy.stats\n",
    "import matplotlib.pyplot as plt\n",
    "from sklearn.preprocessing import StandardScaler\n",
    "from sklearn.model_selection import train_test_split\n",
    "from sklearn import __version__ as sklearn_version\n",
    "from sklearn.model_selection import cross_validate\n",
    "from sklearn.dummy import DummyRegressor\n",
    "from sklearn.linear_model import LinearRegression\n",
    "from sklearn.ensemble import GradientBoostingRegressor, RandomForestRegressor\n",
    "from sklearn.feature_selection import SelectKBest, f_regression\n",
    "from sklearn.metrics import r2_score, mean_squared_error, mean_absolute_error, mean_absolute_percentage_error\n",
    "from sklearn.inspection import permutation_importance\n",
    "from sklearn.model_selection import RandomizedSearchCV, GridSearchCV\n",
    "from sklearn.pipeline import make_pipeline"
   ]
  },
  {
   "cell_type": "code",
   "execution_count": 2,
   "id": "c8fc4376",
   "metadata": {},
   "outputs": [],
   "source": [
    "df_import = pd.read_csv('../data/scores_onehot.csv').drop(['Unnamed: 0'], axis=1, errors='ignore')"
   ]
  },
  {
   "cell_type": "code",
   "execution_count": 3,
   "id": "ab1309df",
   "metadata": {
    "scrolled": false
   },
   "outputs": [
    {
     "data": {
      "text/html": [
       "<div>\n",
       "<style scoped>\n",
       "    .dataframe tbody tr th:only-of-type {\n",
       "        vertical-align: middle;\n",
       "    }\n",
       "\n",
       "    .dataframe tbody tr th {\n",
       "        vertical-align: top;\n",
       "    }\n",
       "\n",
       "    .dataframe thead th {\n",
       "        text-align: right;\n",
       "    }\n",
       "</style>\n",
       "<table border=\"1\" class=\"dataframe\">\n",
       "  <thead>\n",
       "    <tr style=\"text-align: right;\">\n",
       "      <th></th>\n",
       "      <th>SAT Math</th>\n",
       "      <th>SAT EBRW</th>\n",
       "      <th>PSAT Math</th>\n",
       "      <th>PSAT EBRW</th>\n",
       "      <th>Median Family Income</th>\n",
       "      <th>Gend_Female</th>\n",
       "      <th>Gend_Male</th>\n",
       "      <th>Ethn_Asian</th>\n",
       "      <th>Ethn_Black</th>\n",
       "      <th>Ethn_Hispanic</th>\n",
       "      <th>Ethn_Two or More Races</th>\n",
       "      <th>Ethn_White</th>\n",
       "      <th>FRL_FRL Eligible</th>\n",
       "      <th>FRL_Not FRL Eligible</th>\n",
       "      <th>ELL_English Learners</th>\n",
       "      <th>ELL_Not English Learners</th>\n",
       "      <th>IEP_Students with IEPs</th>\n",
       "      <th>IEP_Students without IEPs</th>\n",
       "    </tr>\n",
       "  </thead>\n",
       "  <tbody>\n",
       "    <tr>\n",
       "      <th>0</th>\n",
       "      <td>505.882353</td>\n",
       "      <td>560.588235</td>\n",
       "      <td>NaN</td>\n",
       "      <td>NaN</td>\n",
       "      <td>118620.0</td>\n",
       "      <td>0.0</td>\n",
       "      <td>1.0</td>\n",
       "      <td>0.0</td>\n",
       "      <td>0.0</td>\n",
       "      <td>0.0</td>\n",
       "      <td>0.0</td>\n",
       "      <td>1.0</td>\n",
       "      <td>0.0</td>\n",
       "      <td>1.0</td>\n",
       "      <td>0.0</td>\n",
       "      <td>1.0</td>\n",
       "      <td>0.0</td>\n",
       "      <td>1.0</td>\n",
       "    </tr>\n",
       "    <tr>\n",
       "      <th>1</th>\n",
       "      <td>537.757009</td>\n",
       "      <td>562.056075</td>\n",
       "      <td>501.909091</td>\n",
       "      <td>535.272727</td>\n",
       "      <td>68454.0</td>\n",
       "      <td>1.0</td>\n",
       "      <td>0.0</td>\n",
       "      <td>0.0</td>\n",
       "      <td>0.0</td>\n",
       "      <td>0.0</td>\n",
       "      <td>0.0</td>\n",
       "      <td>1.0</td>\n",
       "      <td>0.0</td>\n",
       "      <td>1.0</td>\n",
       "      <td>0.0</td>\n",
       "      <td>1.0</td>\n",
       "      <td>0.0</td>\n",
       "      <td>1.0</td>\n",
       "    </tr>\n",
       "    <tr>\n",
       "      <th>2</th>\n",
       "      <td>574.725275</td>\n",
       "      <td>564.395604</td>\n",
       "      <td>541.562500</td>\n",
       "      <td>524.583333</td>\n",
       "      <td>68454.0</td>\n",
       "      <td>0.0</td>\n",
       "      <td>1.0</td>\n",
       "      <td>0.0</td>\n",
       "      <td>0.0</td>\n",
       "      <td>0.0</td>\n",
       "      <td>0.0</td>\n",
       "      <td>1.0</td>\n",
       "      <td>0.0</td>\n",
       "      <td>1.0</td>\n",
       "      <td>0.0</td>\n",
       "      <td>1.0</td>\n",
       "      <td>0.0</td>\n",
       "      <td>1.0</td>\n",
       "    </tr>\n",
       "    <tr>\n",
       "      <th>3</th>\n",
       "      <td>503.529412</td>\n",
       "      <td>517.058824</td>\n",
       "      <td>NaN</td>\n",
       "      <td>NaN</td>\n",
       "      <td>121412.0</td>\n",
       "      <td>1.0</td>\n",
       "      <td>0.0</td>\n",
       "      <td>0.0</td>\n",
       "      <td>0.0</td>\n",
       "      <td>1.0</td>\n",
       "      <td>0.0</td>\n",
       "      <td>0.0</td>\n",
       "      <td>0.0</td>\n",
       "      <td>1.0</td>\n",
       "      <td>0.0</td>\n",
       "      <td>1.0</td>\n",
       "      <td>0.0</td>\n",
       "      <td>1.0</td>\n",
       "    </tr>\n",
       "    <tr>\n",
       "      <th>4</th>\n",
       "      <td>560.444444</td>\n",
       "      <td>579.222222</td>\n",
       "      <td>521.397849</td>\n",
       "      <td>542.580645</td>\n",
       "      <td>121412.0</td>\n",
       "      <td>1.0</td>\n",
       "      <td>0.0</td>\n",
       "      <td>0.0</td>\n",
       "      <td>0.0</td>\n",
       "      <td>0.0</td>\n",
       "      <td>0.0</td>\n",
       "      <td>1.0</td>\n",
       "      <td>0.0</td>\n",
       "      <td>1.0</td>\n",
       "      <td>0.0</td>\n",
       "      <td>1.0</td>\n",
       "      <td>0.0</td>\n",
       "      <td>1.0</td>\n",
       "    </tr>\n",
       "  </tbody>\n",
       "</table>\n",
       "</div>"
      ],
      "text/plain": [
       "     SAT Math    SAT EBRW   PSAT Math   PSAT EBRW  Median Family Income  \\\n",
       "0  505.882353  560.588235         NaN         NaN              118620.0   \n",
       "1  537.757009  562.056075  501.909091  535.272727               68454.0   \n",
       "2  574.725275  564.395604  541.562500  524.583333               68454.0   \n",
       "3  503.529412  517.058824         NaN         NaN              121412.0   \n",
       "4  560.444444  579.222222  521.397849  542.580645              121412.0   \n",
       "\n",
       "   Gend_Female  Gend_Male  Ethn_Asian  Ethn_Black  Ethn_Hispanic  \\\n",
       "0          0.0        1.0         0.0         0.0            0.0   \n",
       "1          1.0        0.0         0.0         0.0            0.0   \n",
       "2          0.0        1.0         0.0         0.0            0.0   \n",
       "3          1.0        0.0         0.0         0.0            1.0   \n",
       "4          1.0        0.0         0.0         0.0            0.0   \n",
       "\n",
       "   Ethn_Two or More Races  Ethn_White  FRL_FRL Eligible  FRL_Not FRL Eligible  \\\n",
       "0                     0.0         1.0               0.0                   1.0   \n",
       "1                     0.0         1.0               0.0                   1.0   \n",
       "2                     0.0         1.0               0.0                   1.0   \n",
       "3                     0.0         0.0               0.0                   1.0   \n",
       "4                     0.0         1.0               0.0                   1.0   \n",
       "\n",
       "   ELL_English Learners  ELL_Not English Learners  IEP_Students with IEPs  \\\n",
       "0                   0.0                       1.0                     0.0   \n",
       "1                   0.0                       1.0                     0.0   \n",
       "2                   0.0                       1.0                     0.0   \n",
       "3                   0.0                       1.0                     0.0   \n",
       "4                   0.0                       1.0                     0.0   \n",
       "\n",
       "   IEP_Students without IEPs  \n",
       "0                        1.0  \n",
       "1                        1.0  \n",
       "2                        1.0  \n",
       "3                        1.0  \n",
       "4                        1.0  "
      ]
     },
     "execution_count": 3,
     "metadata": {},
     "output_type": "execute_result"
    }
   ],
   "source": [
    "df_import.head()"
   ]
  },
  {
   "cell_type": "markdown",
   "id": "aac41de0",
   "metadata": {},
   "source": [
    "**Utility functions**"
   ]
  },
  {
   "cell_type": "code",
   "execution_count": 4,
   "id": "63898859",
   "metadata": {},
   "outputs": [],
   "source": [
    "def adj_r2(model, X, y):\n",
    "    r2 = model.score(X,y)\n",
    "    n = X.shape[0]\n",
    "    p = X.shape[1]\n",
    "    return 1-(1-r2)*(n-1)/(n-p-1)\n",
    "\n",
    "def print_basic_metrics(model, X, y):\n",
    "    r_square = model.score(X, y)\n",
    "    print(\"R2: {:.4f}\".format(r_square))\n",
    "    r2_adj = adj_r2(model, X, y)\n",
    "    print(\"Adj R2: {:.4f}\".format(r2_adj))\n",
    "    return\n",
    "\n",
    "def print_better_metrics(y_true, y_pred):\n",
    "    mse = mean_squared_error(y_true, y_pred)\n",
    "    print(\"MSE: {:.4f}\".format(mse))\n",
    "    rmse = np.sqrt(mse)\n",
    "    print(\"RMSE: {:.4f}\".format(rmse))\n",
    "    mae = mean_absolute_error(y_true, y_pred)\n",
    "    print(\"MAE: {:.4f}\".format(mae))\n",
    "    mape = mean_absolute_percentage_error(y_true, y_pred)\n",
    "    print(\"MAPE: {:.4f}\".format(mape))\n",
    "    return\n",
    "\n",
    "model_metrics = pd.DataFrame(columns = ['model', 'subject', 'mse', 'rmse', 'mae', 'mape'])\n",
    "\n",
    "def update_metrics(model, subject, y_true, y_pred):\n",
    "    global model_metrics\n",
    "    mse = mean_squared_error(y_true, y_pred)\n",
    "    rmse = np.sqrt(mse)\n",
    "    mae = mean_absolute_error(y_true, y_pred)\n",
    "    mape = mean_absolute_percentage_error(y_true, y_pred)\n",
    "    #model_metrics = model_metrics.append(pd.Series([model, subject, mse, rmse, mae, mape]), ignore_index=True)\n",
    "    #model_metrics.loc[model] = [subject, mse, rmse, mae, mape]\n",
    "    new_metrics = pd.DataFrame({'model':[model],\n",
    "                                 'subject':[subject],\n",
    "                                 'mse':[mse],\n",
    "                                 'rmse':[rmse],\n",
    "                                 'mae':[mae],\n",
    "                                 'mape':[mape]})\n",
    "    model_metrics = pd.concat([model_metrics, new_metrics], ignore_index=True)\n",
    "    \n",
    "def plot_feature_importance(model, X_train, X_test, y_test):\n",
    "    feature_importance = model.feature_importances_\n",
    "    sorted_idx = np.argsort(feature_importance)\n",
    "    pos = np.arange(sorted_idx.shape[0]) + .5\n",
    "    fig = plt.figure(figsize=(8, 8))\n",
    "    plt.barh(pos, feature_importance[sorted_idx], align='center')\n",
    "    plt.yticks(pos, np.array(X_train.columns)[sorted_idx])\n",
    "    plt.title('Feature Importance')\n",
    "    result = permutation_importance(model, X_test, y_test, n_repeats=10,\n",
    "                                    random_state=42, n_jobs=2)\n",
    "    sorted_idx = result.importances_mean.argsort()\n",
    "    fig.tight_layout()\n",
    "    plt.show()\n",
    "    return"
   ]
  },
  {
   "cell_type": "markdown",
   "id": "2d91c3f8",
   "metadata": {},
   "source": [
    "## Pre-processing"
   ]
  },
  {
   "cell_type": "code",
   "execution_count": 5,
   "id": "ead38939",
   "metadata": {},
   "outputs": [],
   "source": [
    "# Train/test split\n",
    "\n",
    "X = df_import.drop(['SAT Math', 'SAT EBRW'], axis=1)\n",
    "y = df_import[['SAT Math', 'SAT EBRW']]\n",
    "\n",
    "X_train, X_test, y_train, y_test = train_test_split(X, y, test_size=0.20, random_state=137)\n",
    "\n",
    "X_dem_train = X_train.drop(['PSAT Math', 'PSAT EBRW'], axis=1)\n",
    "y_dem_train = y_train[['SAT Math', 'SAT EBRW']]\n",
    "\n",
    "X_dem_test = X_test.drop(['PSAT Math', 'PSAT EBRW'], axis=1)\n",
    "y_dem_test = y_test[['SAT Math', 'SAT EBRW']]\n",
    "\n",
    "# Rejoin X & y to drop rows missing PSAT scores\n",
    "psat_train = pd.concat([X_train, y_train], axis=1).dropna()\n",
    "psat_test = pd.concat([X_test, y_test], axis=1).dropna()\n",
    "\n",
    "# Split into X & y again\n",
    "X_psat_train = psat_train[['PSAT Math', 'PSAT EBRW']]\n",
    "y_psat_train = psat_train[['SAT Math', 'SAT EBRW']]\n",
    "\n",
    "X_psat_test = psat_test[['PSAT Math', 'PSAT EBRW']]\n",
    "y_psat_test = psat_test[['SAT Math', 'SAT EBRW']]"
   ]
  },
  {
   "cell_type": "code",
   "execution_count": 6,
   "id": "e74d01b8",
   "metadata": {},
   "outputs": [],
   "source": [
    "scaler_X = StandardScaler()\n",
    "#Fit & transform training X data\n",
    "scaler_X.fit(X_dem_train[['Median Family Income']].values)\n",
    "X_dem_train[['Median Family Income']] = scaler_X.transform(X_dem_train[['Median Family Income']].values)\n",
    "\n",
    "#Transform training X data\n",
    "X_dem_test[['Median Family Income']] = scaler_X.transform(X_dem_test[['Median Family Income']].values)"
   ]
  },
  {
   "cell_type": "markdown",
   "id": "e5e3ea3d",
   "metadata": {},
   "source": [
    "# Models"
   ]
  },
  {
   "cell_type": "markdown",
   "id": "4bc1878d",
   "metadata": {},
   "source": [
    "## PSAT based predictions"
   ]
  },
  {
   "cell_type": "markdown",
   "id": "fa6d9df3",
   "metadata": {},
   "source": [
    "### Linear Regression"
   ]
  },
  {
   "cell_type": "code",
   "execution_count": 7,
   "id": "509ed040",
   "metadata": {
    "scrolled": false
   },
   "outputs": [
    {
     "name": "stdout",
     "output_type": "stream",
     "text": [
      "PSAT Math\n",
      "Train\n",
      "R2: 0.9117\n",
      "Adj R2: 0.9115\n",
      "\n",
      "Test\n",
      "R2: 0.9035\n",
      "Adj R2: 0.9027\n",
      "\n",
      "\n",
      "PSAT EBRW\n",
      "Train\n",
      "R2: 0.9023\n",
      "Adj R2: 0.9021\n",
      "\n",
      "Test\n",
      "R2: 0.9106\n",
      "Adj R2: 0.9098\n",
      "\n",
      "\n"
     ]
    },
    {
     "data": {
      "text/html": [
       "<div>\n",
       "<style scoped>\n",
       "    .dataframe tbody tr th:only-of-type {\n",
       "        vertical-align: middle;\n",
       "    }\n",
       "\n",
       "    .dataframe tbody tr th {\n",
       "        vertical-align: top;\n",
       "    }\n",
       "\n",
       "    .dataframe thead th {\n",
       "        text-align: right;\n",
       "    }\n",
       "</style>\n",
       "<table border=\"1\" class=\"dataframe\">\n",
       "  <thead>\n",
       "    <tr style=\"text-align: right;\">\n",
       "      <th></th>\n",
       "      <th>model</th>\n",
       "      <th>subject</th>\n",
       "      <th>mse</th>\n",
       "      <th>rmse</th>\n",
       "      <th>mae</th>\n",
       "      <th>mape</th>\n",
       "    </tr>\n",
       "  </thead>\n",
       "  <tbody>\n",
       "    <tr>\n",
       "      <th>0</th>\n",
       "      <td>linreg_psat</td>\n",
       "      <td>PSAT Math</td>\n",
       "      <td>308.496700</td>\n",
       "      <td>17.564074</td>\n",
       "      <td>13.318104</td>\n",
       "      <td>0.027065</td>\n",
       "    </tr>\n",
       "    <tr>\n",
       "      <th>1</th>\n",
       "      <td>linreg_psat</td>\n",
       "      <td>PSAT EBRW</td>\n",
       "      <td>267.512839</td>\n",
       "      <td>16.355820</td>\n",
       "      <td>12.884870</td>\n",
       "      <td>0.024953</td>\n",
       "    </tr>\n",
       "  </tbody>\n",
       "</table>\n",
       "</div>"
      ],
      "text/plain": [
       "         model    subject         mse       rmse        mae      mape\n",
       "0  linreg_psat  PSAT Math  308.496700  17.564074  13.318104  0.027065\n",
       "1  linreg_psat  PSAT EBRW  267.512839  16.355820  12.884870  0.024953"
      ]
     },
     "execution_count": 7,
     "metadata": {},
     "output_type": "execute_result"
    }
   ],
   "source": [
    "def linreg_psat_model(x_col, y_col):\n",
    "    linreg_psat = LinearRegression()\n",
    "    linreg_psat.fit(X_psat_train[[x_col]], y_psat_train[[y_col]])\n",
    "    y_tr_pred = linreg_psat.predict(X_psat_train[[x_col]])\n",
    "    y_te_pred = linreg_psat.predict(X_psat_test[[x_col]])\n",
    "\n",
    "    print(x_col)\n",
    "    print('Train')\n",
    "    print_basic_metrics(linreg_psat, X_psat_train[[x_col]], y_psat_train[[y_col]])\n",
    "    print('\\nTest')\n",
    "    print_basic_metrics(linreg_psat, X_psat_test[[x_col]], y_psat_test[[y_col]])\n",
    "    print('\\n')\n",
    "\n",
    "    update_metrics('linreg_psat', x_col, y_psat_test[[y_col]], y_te_pred)\n",
    "    \n",
    "    #return y_tr_pred, y_te_pred\n",
    "    \n",
    "#psat_tr_pred, psat_te_pred = linreg_psat_model('PSAT Math', 'SAT Math')\n",
    "\n",
    "linreg_psat_model('PSAT Math', 'SAT Math')\n",
    "linreg_psat_model('PSAT EBRW', 'SAT EBRW')\n",
    "\n",
    "model_metrics"
   ]
  },
  {
   "cell_type": "markdown",
   "id": "3f1a6013",
   "metadata": {},
   "source": [
    "### Gradient boost regression"
   ]
  },
  {
   "cell_type": "code",
   "execution_count": 8,
   "id": "1a2e9b58",
   "metadata": {},
   "outputs": [
    {
     "data": {
      "text/html": [
       "<div>\n",
       "<style scoped>\n",
       "    .dataframe tbody tr th:only-of-type {\n",
       "        vertical-align: middle;\n",
       "    }\n",
       "\n",
       "    .dataframe tbody tr th {\n",
       "        vertical-align: top;\n",
       "    }\n",
       "\n",
       "    .dataframe thead th {\n",
       "        text-align: right;\n",
       "    }\n",
       "</style>\n",
       "<table border=\"1\" class=\"dataframe\">\n",
       "  <thead>\n",
       "    <tr style=\"text-align: right;\">\n",
       "      <th></th>\n",
       "      <th>model</th>\n",
       "      <th>subject</th>\n",
       "      <th>mse</th>\n",
       "      <th>rmse</th>\n",
       "      <th>mae</th>\n",
       "      <th>mape</th>\n",
       "    </tr>\n",
       "  </thead>\n",
       "  <tbody>\n",
       "    <tr>\n",
       "      <th>0</th>\n",
       "      <td>linreg_psat</td>\n",
       "      <td>PSAT Math</td>\n",
       "      <td>308.496700</td>\n",
       "      <td>17.564074</td>\n",
       "      <td>13.318104</td>\n",
       "      <td>0.027065</td>\n",
       "    </tr>\n",
       "    <tr>\n",
       "      <th>1</th>\n",
       "      <td>linreg_psat</td>\n",
       "      <td>PSAT EBRW</td>\n",
       "      <td>267.512839</td>\n",
       "      <td>16.355820</td>\n",
       "      <td>12.884870</td>\n",
       "      <td>0.024953</td>\n",
       "    </tr>\n",
       "    <tr>\n",
       "      <th>2</th>\n",
       "      <td>gbreg_psat</td>\n",
       "      <td>PSAT Math</td>\n",
       "      <td>365.235495</td>\n",
       "      <td>19.111135</td>\n",
       "      <td>14.265360</td>\n",
       "      <td>0.028889</td>\n",
       "    </tr>\n",
       "    <tr>\n",
       "      <th>3</th>\n",
       "      <td>gbreg_psat</td>\n",
       "      <td>PSAT EBRW</td>\n",
       "      <td>287.494806</td>\n",
       "      <td>16.955672</td>\n",
       "      <td>13.718363</td>\n",
       "      <td>0.026483</td>\n",
       "    </tr>\n",
       "  </tbody>\n",
       "</table>\n",
       "</div>"
      ],
      "text/plain": [
       "         model    subject         mse       rmse        mae      mape\n",
       "0  linreg_psat  PSAT Math  308.496700  17.564074  13.318104  0.027065\n",
       "1  linreg_psat  PSAT EBRW  267.512839  16.355820  12.884870  0.024953\n",
       "2   gbreg_psat  PSAT Math  365.235495  19.111135  14.265360  0.028889\n",
       "3   gbreg_psat  PSAT EBRW  287.494806  16.955672  13.718363  0.026483"
      ]
     },
     "execution_count": 8,
     "metadata": {},
     "output_type": "execute_result"
    }
   ],
   "source": [
    "params = {\n",
    "    \"n_estimators\": 500,\n",
    "    \"max_depth\": 4,\n",
    "    \"min_samples_split\": 5,\n",
    "    \"learning_rate\": 0.01,\n",
    "    \"loss\": \"squared_error\",\n",
    "}\n",
    "\n",
    "def gbreg_psat_model(x_col, y_col):\n",
    "    global gbreg_psat\n",
    "    gbreg_psat = GradientBoostingRegressor(**params)\n",
    "    gbreg_psat.fit(X_psat_train[[x_col]], y_psat_train[[y_col]].values.ravel())\n",
    "\n",
    "    y_te_pred = gbreg_psat.predict(X_psat_test[[x_col]])\n",
    "\n",
    "    update_metrics('gbreg_psat', x_col, y_psat_test[[y_col]], y_te_pred)\n",
    "    \n",
    "gbreg_psat_model('PSAT Math', 'SAT Math')\n",
    "gbreg_psat_model('PSAT EBRW', 'SAT EBRW')\n",
    "\n",
    "model_metrics"
   ]
  },
  {
   "cell_type": "code",
   "execution_count": 9,
   "id": "4759f2c5",
   "metadata": {
    "scrolled": true
   },
   "outputs": [],
   "source": [
    "#Random Search CV for gradient boost\n",
    "\n",
    "param_distributions = {\n",
    "    \"n_estimators\": range(100,700),\n",
    "    \"max_depth\": range(2,10),\n",
    "    \"min_samples_split\": range(2,10),\n",
    "    \"learning_rate\": [0.001, 0.01, 0.1, 1]\n",
    "    }\n",
    "\n",
    "def gb_reg_cv_psat_model(x_col, y_col):\n",
    "    rscv = RandomizedSearchCV(gbreg_psat, param_distributions, random_state=136,\n",
    "                                  n_iter = 10)\n",
    "    search_gbreg_cv_psat = rscv.fit(X_psat_train[[x_col]], y_psat_train[[y_col]].values.ravel())\n",
    "\n",
    "    gbreg_cv_psat = GradientBoostingRegressor(**search_gbreg_cv_psat.best_params_,  loss= \"squared_error\")\n",
    "    gbreg_cv_psat.fit(X_psat_train[[x_col]], y_psat_train[[y_col]].values.ravel())\n",
    "\n",
    "    y_te_pred = gbreg_cv_psat.predict(X_psat_test[[x_col]])\n",
    "    \n",
    "    update_metrics('gbreg_cv_psat', x_col, y_psat_test[[y_col]], y_te_pred)\n",
    "    \n",
    "gb_reg_cv_psat_model('PSAT Math', 'SAT Math')\n",
    "gb_reg_cv_psat_model('PSAT EBRW', 'SAT EBRW')"
   ]
  },
  {
   "cell_type": "markdown",
   "id": "460e38b1",
   "metadata": {},
   "source": [
    "**Model metrics so far**"
   ]
  },
  {
   "cell_type": "code",
   "execution_count": 10,
   "id": "b90bbb27",
   "metadata": {},
   "outputs": [
    {
     "data": {
      "text/html": [
       "<div>\n",
       "<style scoped>\n",
       "    .dataframe tbody tr th:only-of-type {\n",
       "        vertical-align: middle;\n",
       "    }\n",
       "\n",
       "    .dataframe tbody tr th {\n",
       "        vertical-align: top;\n",
       "    }\n",
       "\n",
       "    .dataframe thead th {\n",
       "        text-align: right;\n",
       "    }\n",
       "</style>\n",
       "<table border=\"1\" class=\"dataframe\">\n",
       "  <thead>\n",
       "    <tr style=\"text-align: right;\">\n",
       "      <th></th>\n",
       "      <th>model</th>\n",
       "      <th>subject</th>\n",
       "      <th>mse</th>\n",
       "      <th>rmse</th>\n",
       "      <th>mae</th>\n",
       "      <th>mape</th>\n",
       "    </tr>\n",
       "  </thead>\n",
       "  <tbody>\n",
       "    <tr>\n",
       "      <th>0</th>\n",
       "      <td>linreg_psat</td>\n",
       "      <td>PSAT Math</td>\n",
       "      <td>308.496700</td>\n",
       "      <td>17.564074</td>\n",
       "      <td>13.318104</td>\n",
       "      <td>0.027065</td>\n",
       "    </tr>\n",
       "    <tr>\n",
       "      <th>1</th>\n",
       "      <td>linreg_psat</td>\n",
       "      <td>PSAT EBRW</td>\n",
       "      <td>267.512839</td>\n",
       "      <td>16.355820</td>\n",
       "      <td>12.884870</td>\n",
       "      <td>0.024953</td>\n",
       "    </tr>\n",
       "    <tr>\n",
       "      <th>2</th>\n",
       "      <td>gbreg_psat</td>\n",
       "      <td>PSAT Math</td>\n",
       "      <td>365.235495</td>\n",
       "      <td>19.111135</td>\n",
       "      <td>14.265360</td>\n",
       "      <td>0.028889</td>\n",
       "    </tr>\n",
       "    <tr>\n",
       "      <th>3</th>\n",
       "      <td>gbreg_psat</td>\n",
       "      <td>PSAT EBRW</td>\n",
       "      <td>287.494806</td>\n",
       "      <td>16.955672</td>\n",
       "      <td>13.718363</td>\n",
       "      <td>0.026483</td>\n",
       "    </tr>\n",
       "    <tr>\n",
       "      <th>4</th>\n",
       "      <td>gbreg_cv_psat</td>\n",
       "      <td>PSAT Math</td>\n",
       "      <td>469.203411</td>\n",
       "      <td>21.661104</td>\n",
       "      <td>15.381481</td>\n",
       "      <td>0.031379</td>\n",
       "    </tr>\n",
       "    <tr>\n",
       "      <th>5</th>\n",
       "      <td>gbreg_cv_psat</td>\n",
       "      <td>PSAT EBRW</td>\n",
       "      <td>319.634505</td>\n",
       "      <td>17.878325</td>\n",
       "      <td>14.443870</td>\n",
       "      <td>0.028164</td>\n",
       "    </tr>\n",
       "  </tbody>\n",
       "</table>\n",
       "</div>"
      ],
      "text/plain": [
       "           model    subject         mse       rmse        mae      mape\n",
       "0    linreg_psat  PSAT Math  308.496700  17.564074  13.318104  0.027065\n",
       "1    linreg_psat  PSAT EBRW  267.512839  16.355820  12.884870  0.024953\n",
       "2     gbreg_psat  PSAT Math  365.235495  19.111135  14.265360  0.028889\n",
       "3     gbreg_psat  PSAT EBRW  287.494806  16.955672  13.718363  0.026483\n",
       "4  gbreg_cv_psat  PSAT Math  469.203411  21.661104  15.381481  0.031379\n",
       "5  gbreg_cv_psat  PSAT EBRW  319.634505  17.878325  14.443870  0.028164"
      ]
     },
     "execution_count": 10,
     "metadata": {},
     "output_type": "execute_result"
    }
   ],
   "source": [
    "model_metrics"
   ]
  },
  {
   "cell_type": "markdown",
   "id": "49328178",
   "metadata": {},
   "source": [
    "**Best PSAT based model:  Linear regression**"
   ]
  },
  {
   "cell_type": "markdown",
   "id": "722c4c82",
   "metadata": {},
   "source": [
    "## Demographic based predictions"
   ]
  },
  {
   "cell_type": "markdown",
   "id": "d280fd10",
   "metadata": {},
   "source": [
    "### Linear regression"
   ]
  },
  {
   "cell_type": "code",
   "execution_count": 11,
   "id": "71888cfb",
   "metadata": {
    "scrolled": true
   },
   "outputs": [
    {
     "name": "stdout",
     "output_type": "stream",
     "text": [
      "SAT Math\n",
      "Train\n",
      "R2: 0.6867\n",
      "Adj R2: 0.6786\n",
      "\n",
      "Test\n",
      "R2: 0.6757\n",
      "Adj R2: 0.6394\n",
      "\n",
      "\n",
      "SAT EBRW\n",
      "Train\n",
      "R2: 0.7266\n",
      "Adj R2: 0.7195\n",
      "\n",
      "Test\n",
      "R2: 0.7031\n",
      "Adj R2: 0.6698\n",
      "\n",
      "\n"
     ]
    },
    {
     "data": {
      "text/html": [
       "<div>\n",
       "<style scoped>\n",
       "    .dataframe tbody tr th:only-of-type {\n",
       "        vertical-align: middle;\n",
       "    }\n",
       "\n",
       "    .dataframe tbody tr th {\n",
       "        vertical-align: top;\n",
       "    }\n",
       "\n",
       "    .dataframe thead th {\n",
       "        text-align: right;\n",
       "    }\n",
       "</style>\n",
       "<table border=\"1\" class=\"dataframe\">\n",
       "  <thead>\n",
       "    <tr style=\"text-align: right;\">\n",
       "      <th></th>\n",
       "      <th>model</th>\n",
       "      <th>subject</th>\n",
       "      <th>mse</th>\n",
       "      <th>rmse</th>\n",
       "      <th>mae</th>\n",
       "      <th>mape</th>\n",
       "    </tr>\n",
       "  </thead>\n",
       "  <tbody>\n",
       "    <tr>\n",
       "      <th>0</th>\n",
       "      <td>linreg_psat</td>\n",
       "      <td>PSAT Math</td>\n",
       "      <td>308.496700</td>\n",
       "      <td>17.564074</td>\n",
       "      <td>13.318104</td>\n",
       "      <td>0.027065</td>\n",
       "    </tr>\n",
       "    <tr>\n",
       "      <th>1</th>\n",
       "      <td>linreg_psat</td>\n",
       "      <td>PSAT EBRW</td>\n",
       "      <td>267.512839</td>\n",
       "      <td>16.355820</td>\n",
       "      <td>12.884870</td>\n",
       "      <td>0.024953</td>\n",
       "    </tr>\n",
       "    <tr>\n",
       "      <th>2</th>\n",
       "      <td>gbreg_psat</td>\n",
       "      <td>PSAT Math</td>\n",
       "      <td>365.235495</td>\n",
       "      <td>19.111135</td>\n",
       "      <td>14.265360</td>\n",
       "      <td>0.028889</td>\n",
       "    </tr>\n",
       "    <tr>\n",
       "      <th>3</th>\n",
       "      <td>gbreg_psat</td>\n",
       "      <td>PSAT EBRW</td>\n",
       "      <td>287.494806</td>\n",
       "      <td>16.955672</td>\n",
       "      <td>13.718363</td>\n",
       "      <td>0.026483</td>\n",
       "    </tr>\n",
       "    <tr>\n",
       "      <th>4</th>\n",
       "      <td>gbreg_cv_psat</td>\n",
       "      <td>PSAT Math</td>\n",
       "      <td>469.203411</td>\n",
       "      <td>21.661104</td>\n",
       "      <td>15.381481</td>\n",
       "      <td>0.031379</td>\n",
       "    </tr>\n",
       "    <tr>\n",
       "      <th>5</th>\n",
       "      <td>gbreg_cv_psat</td>\n",
       "      <td>PSAT EBRW</td>\n",
       "      <td>319.634505</td>\n",
       "      <td>17.878325</td>\n",
       "      <td>14.443870</td>\n",
       "      <td>0.028164</td>\n",
       "    </tr>\n",
       "    <tr>\n",
       "      <th>6</th>\n",
       "      <td>linreg_dem</td>\n",
       "      <td>SAT Math</td>\n",
       "      <td>1070.220316</td>\n",
       "      <td>32.714222</td>\n",
       "      <td>24.817356</td>\n",
       "      <td>0.048672</td>\n",
       "    </tr>\n",
       "    <tr>\n",
       "      <th>7</th>\n",
       "      <td>linreg_dem</td>\n",
       "      <td>SAT EBRW</td>\n",
       "      <td>883.829306</td>\n",
       "      <td>29.729267</td>\n",
       "      <td>23.780954</td>\n",
       "      <td>0.045424</td>\n",
       "    </tr>\n",
       "  </tbody>\n",
       "</table>\n",
       "</div>"
      ],
      "text/plain": [
       "           model    subject          mse       rmse        mae      mape\n",
       "0    linreg_psat  PSAT Math   308.496700  17.564074  13.318104  0.027065\n",
       "1    linreg_psat  PSAT EBRW   267.512839  16.355820  12.884870  0.024953\n",
       "2     gbreg_psat  PSAT Math   365.235495  19.111135  14.265360  0.028889\n",
       "3     gbreg_psat  PSAT EBRW   287.494806  16.955672  13.718363  0.026483\n",
       "4  gbreg_cv_psat  PSAT Math   469.203411  21.661104  15.381481  0.031379\n",
       "5  gbreg_cv_psat  PSAT EBRW   319.634505  17.878325  14.443870  0.028164\n",
       "6     linreg_dem   SAT Math  1070.220316  32.714222  24.817356  0.048672\n",
       "7     linreg_dem   SAT EBRW   883.829306  29.729267  23.780954  0.045424"
      ]
     },
     "execution_count": 11,
     "metadata": {},
     "output_type": "execute_result"
    }
   ],
   "source": [
    "def linreg_dem_model(y_col):\n",
    "    linreg_dem = LinearRegression()\n",
    "    linreg_dem.fit(X_dem_train, y_dem_train[[y_col]])\n",
    "    y_tr_pred = linreg_dem.predict(X_dem_train)\n",
    "    y_te_pred = linreg_dem.predict(X_dem_test)\n",
    "\n",
    "    print(y_col)\n",
    "    print('Train')\n",
    "    print_basic_metrics(linreg_dem, X_dem_train, y_dem_train[[y_col]])\n",
    "    print('\\nTest')\n",
    "    print_basic_metrics(linreg_dem, X_dem_test, y_dem_test[[y_col]])\n",
    "    print('\\n')\n",
    "\n",
    "    update_metrics('linreg_dem', y_col, y_dem_test[[y_col]], y_te_pred)\n",
    "    \n",
    "linreg_dem_model('SAT Math')\n",
    "linreg_dem_model('SAT EBRW')\n",
    "model_metrics"
   ]
  },
  {
   "cell_type": "markdown",
   "id": "736ddd3f",
   "metadata": {},
   "source": [
    "### Gradient boosting regressor"
   ]
  },
  {
   "cell_type": "code",
   "execution_count": 12,
   "id": "450ce938",
   "metadata": {
    "scrolled": true
   },
   "outputs": [],
   "source": [
    "params = {\n",
    "    \"n_estimators\": 500,\n",
    "    \"max_depth\": 4,\n",
    "    \"min_samples_split\": 5,\n",
    "    \"learning_rate\": 0.01,\n",
    "    \"loss\": \"squared_error\",\n",
    "}\n",
    "\n",
    "def gbreg_dem_model(y_col):\n",
    "    X_train = X_dem_train\n",
    "    X_test = X_dem_test\n",
    "    y_train = y_dem_train[[y_col]]\n",
    "    y_test = y_dem_test[[y_col]]\n",
    "    \n",
    "    gbreg_dem = GradientBoostingRegressor(**params)\n",
    "    gbreg_dem.fit(X_train, y_train.values.ravel())\n",
    "\n",
    "    y_te_pred = gbreg_dem.predict(X_test)\n",
    "\n",
    "    print('Train')\n",
    "    print_basic_metrics(gbreg_dem, X_train, y_train)\n",
    "    print('\\nTest')\n",
    "    print_basic_metrics(gbreg_dem, X_test, y_test)\n",
    "\n",
    "    update_metrics('gbreg_dem', y_col, y_test, y_te_pred)\n",
    "    print('\\n')\n",
    "    print_better_metrics(y_test, y_te_pred)\n",
    "\n",
    "    plot_feature_importance(gbreg_dem, X_train, X_test, y_test)"
   ]
  },
  {
   "cell_type": "markdown",
   "id": "d5e06136",
   "metadata": {},
   "source": [
    "**SAT Math: Metrics & important features**"
   ]
  },
  {
   "cell_type": "code",
   "execution_count": 13,
   "id": "dcd9fc96",
   "metadata": {},
   "outputs": [
    {
     "name": "stdout",
     "output_type": "stream",
     "text": [
      "Train\n",
      "R2: 0.8038\n",
      "Adj R2: 0.7988\n",
      "\n",
      "Test\n",
      "R2: 0.6928\n",
      "Adj R2: 0.6584\n",
      "\n",
      "\n",
      "MSE: 1013.6018\n",
      "RMSE: 31.8371\n",
      "MAE: 23.6339\n",
      "MAPE: 0.0461\n"
     ]
    },
    {
     "data": {
      "image/png": "[encoded data removed]",
      "text/plain": [
       "<Figure size 576x576 with 1 Axes>"
      ]
     },
     "metadata": {
      "needs_background": "light"
     },
     "output_type": "display_data"
    }
   ],
   "source": [
    "gbreg_dem_model('SAT Math')"
   ]
  },
  {
   "cell_type": "markdown",
   "id": "609f87c4",
   "metadata": {},
   "source": [
    "**SAT EBRW: Metrics & important features**"
   ]
  },
  {
   "cell_type": "code",
   "execution_count": 14,
   "id": "98f165c4",
   "metadata": {},
   "outputs": [
    {
     "name": "stdout",
     "output_type": "stream",
     "text": [
      "Train\n",
      "R2: 0.8286\n",
      "Adj R2: 0.8241\n",
      "\n",
      "Test\n",
      "R2: 0.7435\n",
      "Adj R2: 0.7148\n",
      "\n",
      "\n",
      "MSE: 763.5456\n",
      "RMSE: 27.6323\n",
      "MAE: 21.7897\n",
      "MAPE: 0.0413\n"
     ]
    },
    {
     "data": {
      "image/png": "[encoded data removed]",
      "text/plain": [
       "<Figure size 576x576 with 1 Axes>"
      ]
     },
     "metadata": {
      "needs_background": "light"
     },
     "output_type": "display_data"
    }
   ],
   "source": [
    "gbreg_dem_model('SAT EBRW')"
   ]
  },
  {
   "cell_type": "markdown",
   "id": "70f5ff4e",
   "metadata": {},
   "source": [
    "**Metric summary so far**"
   ]
  },
  {
   "cell_type": "code",
   "execution_count": 15,
   "id": "8c71f3ce",
   "metadata": {
    "scrolled": true
   },
   "outputs": [
    {
     "data": {
      "text/html": [
       "<div>\n",
       "<style scoped>\n",
       "    .dataframe tbody tr th:only-of-type {\n",
       "        vertical-align: middle;\n",
       "    }\n",
       "\n",
       "    .dataframe tbody tr th {\n",
       "        vertical-align: top;\n",
       "    }\n",
       "\n",
       "    .dataframe thead th {\n",
       "        text-align: right;\n",
       "    }\n",
       "</style>\n",
       "<table border=\"1\" class=\"dataframe\">\n",
       "  <thead>\n",
       "    <tr style=\"text-align: right;\">\n",
       "      <th></th>\n",
       "      <th>model</th>\n",
       "      <th>subject</th>\n",
       "      <th>mse</th>\n",
       "      <th>rmse</th>\n",
       "      <th>mae</th>\n",
       "      <th>mape</th>\n",
       "    </tr>\n",
       "  </thead>\n",
       "  <tbody>\n",
       "    <tr>\n",
       "      <th>0</th>\n",
       "      <td>linreg_psat</td>\n",
       "      <td>PSAT Math</td>\n",
       "      <td>308.496700</td>\n",
       "      <td>17.564074</td>\n",
       "      <td>13.318104</td>\n",
       "      <td>0.027065</td>\n",
       "    </tr>\n",
       "    <tr>\n",
       "      <th>1</th>\n",
       "      <td>linreg_psat</td>\n",
       "      <td>PSAT EBRW</td>\n",
       "      <td>267.512839</td>\n",
       "      <td>16.355820</td>\n",
       "      <td>12.884870</td>\n",
       "      <td>0.024953</td>\n",
       "    </tr>\n",
       "    <tr>\n",
       "      <th>2</th>\n",
       "      <td>gbreg_psat</td>\n",
       "      <td>PSAT Math</td>\n",
       "      <td>365.235495</td>\n",
       "      <td>19.111135</td>\n",
       "      <td>14.265360</td>\n",
       "      <td>0.028889</td>\n",
       "    </tr>\n",
       "    <tr>\n",
       "      <th>3</th>\n",
       "      <td>gbreg_psat</td>\n",
       "      <td>PSAT EBRW</td>\n",
       "      <td>287.494806</td>\n",
       "      <td>16.955672</td>\n",
       "      <td>13.718363</td>\n",
       "      <td>0.026483</td>\n",
       "    </tr>\n",
       "    <tr>\n",
       "      <th>4</th>\n",
       "      <td>gbreg_cv_psat</td>\n",
       "      <td>PSAT Math</td>\n",
       "      <td>469.203411</td>\n",
       "      <td>21.661104</td>\n",
       "      <td>15.381481</td>\n",
       "      <td>0.031379</td>\n",
       "    </tr>\n",
       "    <tr>\n",
       "      <th>5</th>\n",
       "      <td>gbreg_cv_psat</td>\n",
       "      <td>PSAT EBRW</td>\n",
       "      <td>319.634505</td>\n",
       "      <td>17.878325</td>\n",
       "      <td>14.443870</td>\n",
       "      <td>0.028164</td>\n",
       "    </tr>\n",
       "    <tr>\n",
       "      <th>6</th>\n",
       "      <td>linreg_dem</td>\n",
       "      <td>SAT Math</td>\n",
       "      <td>1070.220316</td>\n",
       "      <td>32.714222</td>\n",
       "      <td>24.817356</td>\n",
       "      <td>0.048672</td>\n",
       "    </tr>\n",
       "    <tr>\n",
       "      <th>7</th>\n",
       "      <td>linreg_dem</td>\n",
       "      <td>SAT EBRW</td>\n",
       "      <td>883.829306</td>\n",
       "      <td>29.729267</td>\n",
       "      <td>23.780954</td>\n",
       "      <td>0.045424</td>\n",
       "    </tr>\n",
       "    <tr>\n",
       "      <th>8</th>\n",
       "      <td>gbreg_dem</td>\n",
       "      <td>SAT Math</td>\n",
       "      <td>1013.601752</td>\n",
       "      <td>31.837113</td>\n",
       "      <td>23.633867</td>\n",
       "      <td>0.046103</td>\n",
       "    </tr>\n",
       "    <tr>\n",
       "      <th>9</th>\n",
       "      <td>gbreg_dem</td>\n",
       "      <td>SAT EBRW</td>\n",
       "      <td>763.545583</td>\n",
       "      <td>27.632329</td>\n",
       "      <td>21.789676</td>\n",
       "      <td>0.041332</td>\n",
       "    </tr>\n",
       "  </tbody>\n",
       "</table>\n",
       "</div>"
      ],
      "text/plain": [
       "           model    subject          mse       rmse        mae      mape\n",
       "0    linreg_psat  PSAT Math   308.496700  17.564074  13.318104  0.027065\n",
       "1    linreg_psat  PSAT EBRW   267.512839  16.355820  12.884870  0.024953\n",
       "2     gbreg_psat  PSAT Math   365.235495  19.111135  14.265360  0.028889\n",
       "3     gbreg_psat  PSAT EBRW   287.494806  16.955672  13.718363  0.026483\n",
       "4  gbreg_cv_psat  PSAT Math   469.203411  21.661104  15.381481  0.031379\n",
       "5  gbreg_cv_psat  PSAT EBRW   319.634505  17.878325  14.443870  0.028164\n",
       "6     linreg_dem   SAT Math  1070.220316  32.714222  24.817356  0.048672\n",
       "7     linreg_dem   SAT EBRW   883.829306  29.729267  23.780954  0.045424\n",
       "8      gbreg_dem   SAT Math  1013.601752  31.837113  23.633867  0.046103\n",
       "9      gbreg_dem   SAT EBRW   763.545583  27.632329  21.789676  0.041332"
      ]
     },
     "execution_count": 15,
     "metadata": {},
     "output_type": "execute_result"
    }
   ],
   "source": [
    "model_metrics"
   ]
  },
  {
   "cell_type": "markdown",
   "id": "ce1a9385",
   "metadata": {},
   "source": [
    "## GBReg with cross validation"
   ]
  },
  {
   "cell_type": "code",
   "execution_count": 16,
   "id": "1a417f21",
   "metadata": {},
   "outputs": [],
   "source": [
    "params = {\n",
    "    \"n_estimators\": 500,\n",
    "    \"max_depth\": 4,\n",
    "    \"min_samples_split\": 5,\n",
    "    \"learning_rate\": 0.01,\n",
    "    \"loss\": \"squared_error\",\n",
    "}\n",
    "\n",
    "param_distributions = {\n",
    "    \"n_estimators\": range(100,700),\n",
    "    \"max_depth\": range(2,10),\n",
    "    \"min_samples_split\": range(2,10),\n",
    "    \"learning_rate\": [0.001, 0.01, 0.1, 1]\n",
    "    }\n",
    "\n",
    "def gbreg_cv_dem_model(y_col):\n",
    "    X_train = X_dem_train\n",
    "    X_test = X_dem_test\n",
    "    y_train = y_dem_train[[y_col]]\n",
    "    y_test = y_dem_test[[y_col]]\n",
    "    \n",
    "    gbreg_dem = GradientBoostingRegressor(**params)\n",
    "    gbreg_dem.fit(X_train, y_train.values.ravel())\n",
    "    \n",
    "    rscv = RandomizedSearchCV(gbreg_dem, param_distributions, random_state=136,\n",
    "                              n_iter = 20)\n",
    "    search_gbreg_cv_dem = rscv.fit(X_train, y_train.values.ravel())\n",
    "    \n",
    "    gbreg_cv_dem = GradientBoostingRegressor(**search_gbreg_cv_dem.best_params_,  loss= \"squared_error\")\n",
    "    gbreg_cv_dem.fit(X_train, y_train.values.ravel())\n",
    "\n",
    "    y_te_pred = gbreg_cv_dem.predict(X_test)\n",
    "\n",
    "    print('Train')\n",
    "    print_basic_metrics(gbreg_cv_dem, X_train, y_train)\n",
    "    print('\\nTest')\n",
    "    print_basic_metrics(gbreg_cv_dem, X_test, y_test)\n",
    "\n",
    "    update_metrics('gbreg_cv_dem', y_col, y_test, y_te_pred)\n",
    "    print('\\n')\n",
    "    print_better_metrics(y_test, y_te_pred)\n",
    "\n",
    "    plot_feature_importance(gbreg_cv_dem, X_train, X_test, y_test)"
   ]
  },
  {
   "cell_type": "markdown",
   "id": "f6774379",
   "metadata": {},
   "source": [
    "**SAT Math: Metrics & important features**"
   ]
  },
  {
   "cell_type": "code",
   "execution_count": null,
   "id": "501aa363",
   "metadata": {},
   "outputs": [],
   "source": [
    "gbreg_cv_dem_model('SAT Math')"
   ]
  },
  {
   "cell_type": "markdown",
   "id": "a0574b53",
   "metadata": {},
   "source": [
    "**SAT EBRW: Metrics & important features**"
   ]
  },
  {
   "cell_type": "code",
   "execution_count": null,
   "id": "dd6fbae6",
   "metadata": {},
   "outputs": [],
   "source": [
    "gbreg_cv_dem_model('SAT EBRW')"
   ]
  },
  {
   "cell_type": "markdown",
   "id": "a04f1faf",
   "metadata": {},
   "source": [
    "**Model summary so far**"
   ]
  },
  {
   "cell_type": "code",
   "execution_count": null,
   "id": "ce39c6b8",
   "metadata": {
    "scrolled": false
   },
   "outputs": [],
   "source": [
    "model_metrics"
   ]
  },
  {
   "cell_type": "markdown",
   "id": "2756bafb",
   "metadata": {},
   "source": [
    "### Random forest regression with random search cv"
   ]
  },
  {
   "cell_type": "code",
   "execution_count": null,
   "id": "cef1ee53",
   "metadata": {},
   "outputs": [],
   "source": [
    "# Random Forest Regression with Random Search CV\n",
    "\n",
    "def rfr_cv_dem_model(y_col):\n",
    "    X_train = X_dem_train\n",
    "    X_test = X_dem_test\n",
    "    y_train = y_dem_train[[y_col]]\n",
    "    y_test = y_dem_test[[y_col]]\n",
    "\n",
    "    param_distributions = {\n",
    "        \"n_estimators\": range(50,1000),\n",
    "        \"max_depth\": range(2,30)\n",
    "        }\n",
    "\n",
    "    rfr_dem = RandomForestRegressor()\n",
    "    rfr_dem.fit(X_train, y_train.values.ravel())\n",
    "\n",
    "    rscv_rfr_dem = RandomizedSearchCV(rfr_dem, param_distributions, random_state=137,\n",
    "                                  n_iter = 10)\n",
    "    search_rfr_dem = rscv_rfr_dem.fit(X_train, y_train.values.ravel())\n",
    "\n",
    "    rfr_dem = GradientBoostingRegressor(**search_rfr_dem.best_params_,  loss= \"squared_error\")\n",
    "    rfr_dem.fit(X_train, y_train.values.ravel())\n",
    "\n",
    "    y_te_pred = rfr_dem.predict(X_test)\n",
    "\n",
    "    print('Train')\n",
    "    print_basic_metrics(rfr_dem, X_train, y_train)\n",
    "    print('\\nTest')\n",
    "    print_basic_metrics(rfr_dem, X_test, y_test)\n",
    "\n",
    "    update_metrics('rfr_cv_dem', y_col, y_test, y_te_pred)\n",
    "    print('\\n')\n",
    "    print_better_metrics(y_test, y_te_pred)"
   ]
  },
  {
   "cell_type": "code",
   "execution_count": null,
   "id": "4a287571",
   "metadata": {},
   "outputs": [],
   "source": [
    "rfr_cv_dem_model('SAT Math')"
   ]
  },
  {
   "cell_type": "code",
   "execution_count": null,
   "id": "994e3035",
   "metadata": {},
   "outputs": [],
   "source": [
    "rfr_cv_dem_model('SAT EBRW')"
   ]
  },
  {
   "cell_type": "code",
   "execution_count": null,
   "id": "989e2e5b",
   "metadata": {},
   "outputs": [],
   "source": [
    "model_metrics.columns = ['Model', 'Subject', 'MSE', 'RMSE', 'MAE', 'MAPE']"
   ]
  },
  {
   "cell_type": "markdown",
   "id": "6eeecb68",
   "metadata": {},
   "source": [
    "## All model metrics"
   ]
  },
  {
   "cell_type": "code",
   "execution_count": null,
   "id": "b3c63c4b",
   "metadata": {},
   "outputs": [],
   "source": [
    "model_metrics"
   ]
  },
  {
   "cell_type": "markdown",
   "id": "5e30acca",
   "metadata": {},
   "source": [
    "### Metrics: PSAT for SAT (Math)"
   ]
  },
  {
   "cell_type": "code",
   "execution_count": null,
   "id": "6cf13dc2",
   "metadata": {
    "scrolled": true
   },
   "outputs": [],
   "source": [
    "model_metrics[model_metrics['Subject']=='PSAT Math']"
   ]
  },
  {
   "cell_type": "markdown",
   "id": "0d45d2f7",
   "metadata": {},
   "source": [
    "### Metrics: PSAT for SAT (EBRW)"
   ]
  },
  {
   "cell_type": "code",
   "execution_count": null,
   "id": "e4e8c33a",
   "metadata": {},
   "outputs": [],
   "source": [
    "model_metrics[model_metrics['Subject']=='PSAT EBRW']"
   ]
  },
  {
   "cell_type": "markdown",
   "id": "ed16b555",
   "metadata": {},
   "source": [
    "### Metrics: Demographics for SAT (Math)"
   ]
  },
  {
   "cell_type": "code",
   "execution_count": null,
   "id": "fad0b93d",
   "metadata": {},
   "outputs": [],
   "source": [
    "model_metrics[model_metrics['Subject']=='SAT Math']"
   ]
  },
  {
   "cell_type": "markdown",
   "id": "429c916e",
   "metadata": {},
   "source": [
    "### Metrics: Demographics for SAT (EBRW)"
   ]
  },
  {
   "cell_type": "code",
   "execution_count": null,
   "id": "a794ec60",
   "metadata": {},
   "outputs": [],
   "source": [
    "model_metrics[model_metrics['Subject']=='SAT EBRW']"
   ]
  },
  {
   "cell_type": "markdown",
   "id": "9a38677a",
   "metadata": {},
   "source": [
    "# Best demographic model: Gradient boost regression (with cross validation)"
   ]
  },
  {
   "cell_type": "code",
   "execution_count": null,
   "id": "42530686",
   "metadata": {
    "scrolled": true
   },
   "outputs": [],
   "source": [
    "param_distributions = {\n",
    "    \"n_estimators\": range(100,700),\n",
    "    \"max_depth\": range(2,10),\n",
    "    \"min_samples_split\": range(2,10),\n",
    "    \"learning_rate\": [0.001, 0.01, 0.1, 1]\n",
    "    }\n",
    "\n",
    "X_train = X_dem_train\n",
    "X_test = X_dem_test\n",
    "y_train = y_dem_train[['SAT Math']]\n",
    "y_test = y_dem_test[['SAT Math']]\n",
    "\n",
    "gbreg_dem = GradientBoostingRegressor()\n",
    "gbreg_dem.fit(X_train, y_train.values.ravel())\n",
    "\n",
    "rscv = RandomizedSearchCV(gbreg_dem, param_distributions, random_state=136,\n",
    "                          n_iter = 20)\n",
    "search_gbreg_cv_dem = rscv.fit(X_train, y_train.values.ravel())\n",
    "\n",
    "gbreg_cv_dem = GradientBoostingRegressor(**search_gbreg_cv_dem.best_params_,  loss= \"squared_error\")\n",
    "gbreg_cv_dem.fit(X_train, y_train.values.ravel())\n",
    "\n",
    "y_te_pred = gbreg_cv_dem.predict(X_test)"
   ]
  },
  {
   "cell_type": "code",
   "execution_count": null,
   "id": "b3f7caba",
   "metadata": {},
   "outputs": [],
   "source": [
    "print_basic_metrics(gbreg_cv_dem, X_test, y_test)"
   ]
  },
  {
   "cell_type": "code",
   "execution_count": null,
   "id": "69911580",
   "metadata": {},
   "outputs": [],
   "source": [
    "print_better_metrics(y_test, y_te_pred)"
   ]
  },
  {
   "cell_type": "code",
   "execution_count": null,
   "id": "14d71261",
   "metadata": {},
   "outputs": [],
   "source": [
    "# Best parameters\n",
    "search_gbreg_cv_dem.best_params_"
   ]
  }
 ],
 "metadata": {
  "kernelspec": {
   "display_name": "Python 3 (ipykernel)",
   "language": "python",
   "name": "python3"
  },
  "language_info": {
   "codemirror_mode": {
    "name": "ipython",
    "version": 3
   },
   "file_extension": ".py",
   "mimetype": "text/x-python",
   "name": "python",
   "nbconvert_exporter": "python",
   "pygments_lexer": "ipython3",
   "version": "3.9.12"
  }
 },
 "nbformat": 4,
 "nbformat_minor": 5
}
