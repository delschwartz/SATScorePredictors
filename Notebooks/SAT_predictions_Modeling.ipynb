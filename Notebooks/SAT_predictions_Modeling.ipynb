{
 "cells": [
  {
   "cell_type": "markdown",
   "id": "51758f34",
   "metadata": {},
   "source": [
    "# Modeling"
   ]
  },
  {
   "cell_type": "markdown",
   "id": "1c72a193",
   "metadata": {},
   "source": [
    "Completed:\n",
    "\n",
    "Dummy Reg, Linear Reg, SelectKBest for LinReg, Gradient Boost Reg, RandomSearchCV, Random Forest Regressor"
   ]
  },
  {
   "cell_type": "code",
   "execution_count": 1,
   "id": "57fa6aeb",
   "metadata": {},
   "outputs": [],
   "source": [
    "import pandas as pd\n",
    "import numpy as np\n",
    "import os\n",
    "import matplotlib.pyplot as plt\n",
    "import seaborn as sns\n",
    "from sklearn import __version__ as sklearn_version\n",
    "from sklearn.model_selection import cross_validate\n",
    "from sklearn.decomposition import PCA\n",
    "from sklearn.dummy import DummyRegressor\n",
    "from sklearn.linear_model import LinearRegression\n",
    "from sklearn.ensemble import GradientBoostingRegressor, RandomForestRegressor\n",
    "from sklearn.feature_selection import SelectKBest, f_regression\n",
    "from sklearn.metrics import r2_score, mean_squared_error, mean_absolute_error\n",
    "from sklearn.inspection import permutation_importance\n",
    "from sklearn.model_selection import RandomizedSearchCV, GridSearchCV\n",
    "from sklearn.pipeline import make_pipeline"
   ]
  },
  {
   "cell_type": "code",
   "execution_count": 2,
   "id": "55be5fb4",
   "metadata": {},
   "outputs": [],
   "source": [
    "demog_train = pd.read_csv('../data/demog_training_data.csv').drop(['Unnamed: 0'], axis=1, errors='ignore')\n",
    "demog_test = pd.read_csv('../data/demog_testing_data.csv').drop(['Unnamed: 0'], axis=1, errors='ignore')\n",
    "\n",
    "psat_train = pd.read_csv('../data/psat_training_data.csv').drop(['Unnamed: 0'], axis=1, errors='ignore')\n",
    "psat_test = pd.read_csv('../data/psat_testing_data.csv').drop(['Unnamed: 0'], axis=1, errors='ignore')"
   ]
  },
  {
   "cell_type": "code",
   "execution_count": 3,
   "id": "2a496491",
   "metadata": {},
   "outputs": [
    {
     "data": {
      "text/plain": [
       "Index(['Mean Score Math', 'Mean Score EBRW', 'Median Family Income',\n",
       "       'Gend_Female', 'Gend_Male', 'Ethn_Asian', 'Ethn_Black', 'Ethn_Hispanic',\n",
       "       'Ethn_Two or More Races', 'Ethn_White', 'FRL_FRL Eligible',\n",
       "       'FRL_Not FRL Eligible', 'ELL_English Learners',\n",
       "       'ELL_Not English Learners', 'IEP_Students with IEPs',\n",
       "       'IEP_Students without IEPs'],\n",
       "      dtype='object')"
      ]
     },
     "execution_count": 3,
     "metadata": {},
     "output_type": "execute_result"
    }
   ],
   "source": [
    "demog_train.columns"
   ]
  },
  {
   "cell_type": "code",
   "execution_count": 4,
   "id": "c516bd0e",
   "metadata": {},
   "outputs": [
    {
     "data": {
      "text/plain": [
       "Index(['2018 EBRW Mean SAT', '2018 Math Mean SAT',\n",
       "       '2018 Overall Mean Score SAT', '2017 EBRW Mean PSAT10',\n",
       "       '2017 Math Mean PSAT10', '2017 Overall Mean Score PSAT10'],\n",
       "      dtype='object')"
      ]
     },
     "execution_count": 4,
     "metadata": {},
     "output_type": "execute_result"
    }
   ],
   "source": [
    "psat_train.columns"
   ]
  },
  {
   "cell_type": "markdown",
   "id": "bb1a9fe4",
   "metadata": {},
   "source": [
    "#### Only look at math scores for now.  Extremely high correlation between Math and EBRW scores so results should apply to both."
   ]
  },
  {
   "cell_type": "code",
   "execution_count": 5,
   "id": "b25b9256",
   "metadata": {},
   "outputs": [],
   "source": [
    "# Drop non-math score columns\n",
    "demog_train.drop(['Mean Score EBRW'], axis=1, inplace=True)\n",
    "demog_test.drop(['Mean Score EBRW'], axis=1, inplace=True)\n",
    "psat_train.drop(['2018 EBRW Mean SAT', '2018 Overall Mean Score SAT', '2017 EBRW Mean PSAT10', '2017 Overall Mean Score PSAT10'], axis=1, inplace=True)\n",
    "psat_test.drop(['2018 EBRW Mean SAT', '2018 Overall Mean Score SAT', '2017 EBRW Mean PSAT10', '2017 Overall Mean Score PSAT10'], axis=1, inplace=True)"
   ]
  },
  {
   "cell_type": "code",
   "execution_count": 6,
   "id": "0f9019bf",
   "metadata": {},
   "outputs": [],
   "source": [
    "# Demographic score data\n",
    "y_col = 'Mean Score Math'\n",
    "\n",
    "demog_X_train = demog_train.drop(y_col, axis=1)\n",
    "demog_X_test = demog_test.drop(y_col, axis=1)\n",
    "demog_y_train = demog_train.loc[:,y_col]\n",
    "demog_y_test = demog_test.loc[:,y_col]\n",
    "\n",
    "\n",
    "# PSAT score data\n",
    "y_col = '2018 Math Mean SAT'\n",
    "psat_X_train = psat_train.drop(y_col, axis=1)\n",
    "psat_X_test = psat_test.drop(y_col, axis=1)\n",
    "psat_y_train = psat_train.loc[:,y_col]\n",
    "psat_y_test = psat_test.loc[:,y_col]"
   ]
  },
  {
   "cell_type": "markdown",
   "id": "35d1112d",
   "metadata": {},
   "source": [
    "#### Utility functions"
   ]
  },
  {
   "cell_type": "code",
   "execution_count": 7,
   "id": "ff4cc9ff",
   "metadata": {},
   "outputs": [],
   "source": [
    "def adj_r2(model, X, y):\n",
    "    r2 = model.score(X,y)\n",
    "    n = X.shape[0]\n",
    "    p = X.shape[1]\n",
    "    return 1-(1-r2)*(n-1)/(n-p-1)\n",
    "\n",
    "def print_metrics(model, X, y):\n",
    "    r_square = model.score(X, y)\n",
    "    print(\"R2: {:.4f}\".format(r_square))\n",
    "    r2_adj = adj_r2(model, X, y)\n",
    "    print(\"Adj R2: {:.4f}\".format(r2_adj))\n",
    "    return\n",
    "    \n",
    "def plot_feature_importance(model, X_train, X_test, y_test):\n",
    "    feature_importance = model.feature_importances_\n",
    "    sorted_idx = np.argsort(feature_importance)\n",
    "    pos = np.arange(sorted_idx.shape[0]) + .5\n",
    "    fig = plt.figure(figsize=(8, 8))\n",
    "    plt.barh(pos, feature_importance[sorted_idx], align='center')\n",
    "    plt.yticks(pos, np.array(X_train.columns)[sorted_idx])\n",
    "    plt.title('Feature Importance')\n",
    "    result = permutation_importance(model, X_test, y_test, n_repeats=10,\n",
    "                                    random_state=42, n_jobs=2)\n",
    "    sorted_idx = result.importances_mean.argsort()\n",
    "    fig.tight_layout()\n",
    "    plt.show()\n",
    "    return\n",
    "\n",
    "def set_demog_XY():\n",
    "    global X_train, X_test, y_train, y_test\n",
    "    X_train = demog_X_train\n",
    "    X_test = demog_X_test\n",
    "    y_train = demog_y_train\n",
    "    y_test = demog_y_test\n",
    "    \n",
    "def set_psat_XY():\n",
    "    global X_train, X_test, y_train, y_test\n",
    "    X_train = psat_X_train\n",
    "    X_test = psat_X_test\n",
    "    y_train = psat_y_train\n",
    "    y_test = psat_y_test"
   ]
  },
  {
   "cell_type": "markdown",
   "id": "29c1fbfe",
   "metadata": {},
   "source": [
    "## Demographic data"
   ]
  },
  {
   "cell_type": "markdown",
   "id": "3fe2c20b",
   "metadata": {},
   "source": [
    "#### Dummy Regressor"
   ]
  },
  {
   "cell_type": "code",
   "execution_count": 8,
   "id": "2432a8ab",
   "metadata": {},
   "outputs": [
    {
     "data": {
      "text/plain": [
       "array([[507.0887937]])"
      ]
     },
     "execution_count": 8,
     "metadata": {},
     "output_type": "execute_result"
    }
   ],
   "source": [
    "set_demog_XY()\n",
    "\n",
    "dumreg_demog = DummyRegressor(strategy='mean')\n",
    "dumreg_demog.fit(X_train, y_train)\n",
    "dumreg_demog.constant_"
   ]
  },
  {
   "cell_type": "markdown",
   "id": "e7747374",
   "metadata": {},
   "source": [
    "#### Linear regression"
   ]
  },
  {
   "cell_type": "code",
   "execution_count": 9,
   "id": "05184de8",
   "metadata": {},
   "outputs": [
    {
     "name": "stdout",
     "output_type": "stream",
     "text": [
      "Train\n",
      "R2: 0.6867\n",
      "Adj R2: 0.6786\n",
      "\n",
      "Test\n",
      "R2: 0.6757\n",
      "Adj R2: 0.6394\n"
     ]
    }
   ],
   "source": [
    "linreg_dem = LinearRegression()\n",
    "linreg_dem.fit(X_train, y_train)\n",
    "y_tr_pred = linreg_dem.predict(X_train)\n",
    "y_te_pred = linreg_dem.predict(X_test)\n",
    "\n",
    "print('Train')\n",
    "print_metrics(linreg_dem, X_train, y_train)\n",
    "print('\\nTest')\n",
    "print_metrics(linreg_dem, X_test, y_test)"
   ]
  },
  {
   "cell_type": "code",
   "execution_count": 10,
   "id": "cc90ac40",
   "metadata": {
    "scrolled": true
   },
   "outputs": [
    {
     "data": {
      "text/plain": [
       "<matplotlib.collections.PathCollection at 0x1b9467cc490>"
      ]
     },
     "execution_count": 10,
     "metadata": {},
     "output_type": "execute_result"
    },
    {
     "data": {
      "image/png": "[encoded data removed]",
      "text/plain": [
       "<Figure size 432x288 with 1 Axes>"
      ]
     },
     "metadata": {
      "needs_background": "light"
     },
     "output_type": "display_data"
    }
   ],
   "source": [
    "plt.scatter(y_test, y_te_pred)"
   ]
  },
  {
   "cell_type": "markdown",
   "id": "4ef238e4",
   "metadata": {},
   "source": [
    "### Select K Best"
   ]
  },
  {
   "cell_type": "code",
   "execution_count": 11,
   "id": "feb9fffc",
   "metadata": {
    "scrolled": false
   },
   "outputs": [
    {
     "name": "stdout",
     "output_type": "stream",
     "text": [
      "Train\n",
      "R2: 0.6867\n",
      "Adj R2: 0.6792\n",
      "\n",
      "Test\n",
      "R2: 0.6757\n",
      "Adj R2: 0.6422\n"
     ]
    }
   ],
   "source": [
    "set_demog_XY()\n",
    "\n",
    "skb = SelectKBest(f_regression, k=13)\n",
    "skb.fit(X_train, y_train)\n",
    "\n",
    "X_tr_skb = skb.transform(X_train)\n",
    "X_te_skb = skb.transform(X_test)\n",
    "\n",
    "linreg_kb_dem = LinearRegression()\n",
    "linreg_kb_dem.fit(X_tr_skb, y_train)\n",
    "\n",
    "print('Train')\n",
    "print_metrics(linreg_kb_dem, X_tr_skb, y_train)\n",
    "print('\\nTest')\n",
    "print_metrics(linreg_kb_dem, X_te_skb, y_test)"
   ]
  },
  {
   "cell_type": "code",
   "execution_count": 12,
   "id": "b13dd339",
   "metadata": {},
   "outputs": [],
   "source": [
    "pipe = make_pipeline(SelectKBest(f_regression),\n",
    "                    LinearRegression())"
   ]
  },
  {
   "cell_type": "code",
   "execution_count": 13,
   "id": "51398537",
   "metadata": {},
   "outputs": [
    {
     "name": "stdout",
     "output_type": "stream",
     "text": [
      "R2 Train: 0.6586\n",
      "R2 Test: 0.6396\n"
     ]
    }
   ],
   "source": [
    "set_demog_XY()\n",
    "\n",
    "pipe.fit(X_train, y_train)\n",
    "\n",
    "y_tr_pred = pipe.predict(X_train)\n",
    "y_te_pred = pipe.predict(X_test)\n",
    "\n",
    "\n",
    "print(\"R2 Train: {:.4f}\".format(r2_score(y_train, y_tr_pred)))\n",
    "print(\"R2 Test: {:.4f}\".format(r2_score(y_test, y_te_pred)))"
   ]
  },
  {
   "cell_type": "markdown",
   "id": "c7e28bbf",
   "metadata": {},
   "source": [
    "Worse than linear regression without SKB."
   ]
  },
  {
   "cell_type": "code",
   "execution_count": 14,
   "id": "dce3f356",
   "metadata": {},
   "outputs": [],
   "source": [
    "# Gridsearch for k in SKB\n",
    "\n",
    "X_train = demog_X_train\n",
    "X_test = demog_X_test\n",
    "y_train = demog_y_train\n",
    "y_test = demog_y_test\n",
    "\n",
    "k = [k+1 for k in range(len(X_train.columns))]\n",
    "grid_params = {'selectkbest__k': k}\n",
    "lr_grid_cv = GridSearchCV(pipe, param_grid=grid_params, cv=5, n_jobs=-1)\n",
    "\n",
    "lr_grid_cv.fit(X_train, y_train)\n",
    "\n",
    "score_mean = lr_grid_cv.cv_results_['mean_test_score']\n",
    "score_std = lr_grid_cv.cv_results_['std_test_score']\n",
    "cv_k = [k for k in lr_grid_cv.cv_results_['param_selectkbest__k']]"
   ]
  },
  {
   "cell_type": "code",
   "execution_count": 15,
   "id": "5301996a",
   "metadata": {},
   "outputs": [
    {
     "data": {
      "text/plain": [
       "{'selectkbest__k': 13}"
      ]
     },
     "execution_count": 15,
     "metadata": {},
     "output_type": "execute_result"
    }
   ],
   "source": [
    "lr_grid_cv.best_params_"
   ]
  },
  {
   "cell_type": "code",
   "execution_count": 16,
   "id": "1fa834aa",
   "metadata": {},
   "outputs": [
    {
     "data": {
      "image/png": "[encoded data removed]",
      "text/plain": [
       "<Figure size 720x360 with 1 Axes>"
      ]
     },
     "metadata": {
      "needs_background": "light"
     },
     "output_type": "display_data"
    }
   ],
   "source": [
    "best_k = lr_grid_cv.best_params_['selectkbest__k']\n",
    "plt.subplots(figsize=(10, 5))\n",
    "plt.errorbar(cv_k, score_mean, yerr=score_std)\n",
    "plt.axvline(x=best_k, c='r', ls='--', alpha=.5)\n",
    "plt.xlabel('k')\n",
    "plt.ylabel('CV score (r-squared)')\n",
    "plt.title('Pipeline mean CV score (error bars +/- 1sd)');"
   ]
  },
  {
   "cell_type": "markdown",
   "id": "5d4c3c35",
   "metadata": {},
   "source": [
    "Trivial difference in CV score between k=13 and k=14."
   ]
  },
  {
   "cell_type": "code",
   "execution_count": 17,
   "id": "68b9b630",
   "metadata": {},
   "outputs": [
    {
     "data": {
      "text/plain": [
       "Ethn_Asian                   129.634240\n",
       "IEP_Students without IEPs     72.173894\n",
       "Ethn_Two or More Races        57.268513\n",
       "Ethn_White                    52.410218\n",
       "Median Family Income          21.635503\n",
       "Ethn_Hispanic                 18.451887\n",
       "FRL_Not FRL Eligible          17.748549\n",
       "ELL_Not English Learners      17.340576\n",
       "Gend_Male                      6.935456\n",
       "Gend_Female                   -6.935456\n",
       "ELL_English Learners         -17.340576\n",
       "FRL_FRL Eligible             -17.748549\n",
       "IEP_Students with IEPs       -72.173894\n",
       "dtype: float64"
      ]
     },
     "execution_count": 17,
     "metadata": {},
     "output_type": "execute_result"
    }
   ],
   "source": [
    "selected = lr_grid_cv.best_estimator_.named_steps.selectkbest.get_support()\n",
    "coefs = lr_grid_cv.best_estimator_.named_steps.linearregression.coef_\n",
    "features = X_train.columns[selected]\n",
    "pd.Series(coefs, index=features).sort_values(ascending=False)"
   ]
  },
  {
   "cell_type": "markdown",
   "id": "4e60f313",
   "metadata": {},
   "source": [
    "Something doesn't check out here."
   ]
  },
  {
   "cell_type": "markdown",
   "id": "5f2d5d1f",
   "metadata": {},
   "source": [
    "### Gradient Boosting Regressor"
   ]
  },
  {
   "cell_type": "code",
   "execution_count": 18,
   "id": "b0d109ed",
   "metadata": {},
   "outputs": [
    {
     "name": "stdout",
     "output_type": "stream",
     "text": [
      "Train\n",
      "R2: 0.8038\n",
      "Adj R2: 0.7988\n",
      "\n",
      "Test\n",
      "R2: 0.6928\n",
      "Adj R2: 0.6584\n"
     ]
    },
    {
     "data": {
      "image/png": "[encoded data removed]",
      "text/plain": [
       "<Figure size 576x576 with 1 Axes>"
      ]
     },
     "metadata": {
      "needs_background": "light"
     },
     "output_type": "display_data"
    }
   ],
   "source": [
    "set_demog_XY()\n",
    "\n",
    "params = {\n",
    "    \"n_estimators\": 500,\n",
    "    \"max_depth\": 4,\n",
    "    \"min_samples_split\": 5,\n",
    "    \"learning_rate\": 0.01,\n",
    "    \"loss\": \"squared_error\",\n",
    "}\n",
    "\n",
    "gbreg_dem = GradientBoostingRegressor(**params)\n",
    "gbreg_dem.fit(X_train, y_train)\n",
    "\n",
    "\n",
    "print('Train')\n",
    "print_metrics(gbreg_dem, X_train, y_train)\n",
    "print('\\nTest')\n",
    "print_metrics(gbreg_dem, X_test, y_test)\n",
    "\n",
    "plot_feature_importance(gbreg_dem, X_train, X_test, y_test)"
   ]
  },
  {
   "cell_type": "markdown",
   "id": "d2f14c49",
   "metadata": {},
   "source": [
    "#### Gradient Boost Reg - RandomSearchCV"
   ]
  },
  {
   "cell_type": "code",
   "execution_count": 19,
   "id": "3dd37c23",
   "metadata": {},
   "outputs": [],
   "source": [
    "set_demog_XY()\n",
    "\n",
    "param_distributions = {\n",
    "    \"n_estimators\": range(100,700),\n",
    "    \"max_depth\": range(2,10),\n",
    "    \"min_samples_split\": range(2,10),\n",
    "    \"learning_rate\": [0.001, 0.01, 0.1, 1]\n",
    "    }\n",
    "\n",
    "rscv = RandomizedSearchCV(gbreg_dem, param_distributions, random_state=136,\n",
    "                              n_iter = 20\n",
    "                              )\n",
    "search = rscv.fit(X_train, y_train)"
   ]
  },
  {
   "cell_type": "code",
   "execution_count": 20,
   "id": "7d829e2d",
   "metadata": {},
   "outputs": [
    {
     "name": "stdout",
     "output_type": "stream",
     "text": [
      "Train\n",
      "R2: 0.8377\n",
      "Adj R2: 0.8335\n",
      "\n",
      "Test\n",
      "R2: 0.7401\n",
      "Adj R2: 0.7110\n"
     ]
    },
    {
     "data": {
      "image/png": "[encoded data removed]",
      "text/plain": [
       "<Figure size 576x576 with 1 Axes>"
      ]
     },
     "metadata": {
      "needs_background": "light"
     },
     "output_type": "display_data"
    }
   ],
   "source": [
    "gbreg_dem = GradientBoostingRegressor(**search.best_params_,  loss= \"squared_error\")\n",
    "gbreg_dem.fit(X_train, y_train)\n",
    "\n",
    "\n",
    "print('Train')\n",
    "print_metrics(gbreg_dem, X_train, y_train)\n",
    "print('\\nTest')\n",
    "print_metrics(gbreg_dem, X_test, y_test)\n",
    "\n",
    "plot_feature_importance(gbreg_dem, X_train, X_test, y_test)"
   ]
  },
  {
   "cell_type": "markdown",
   "id": "f364b3b8",
   "metadata": {},
   "source": [
    "#### Random Forest"
   ]
  },
  {
   "cell_type": "code",
   "execution_count": 21,
   "id": "8a5fa16e",
   "metadata": {},
   "outputs": [
    {
     "name": "stdout",
     "output_type": "stream",
     "text": [
      "R2 Train: 0.9229\n",
      "R2 Test: 0.6128\n"
     ]
    }
   ],
   "source": [
    "set_demog_XY()\n",
    "\n",
    "rfr_dem = RandomForestRegressor()\n",
    "rfr_dem.fit(X_train, y_train)\n",
    "\n",
    "#mse = mean_squared_error(y_test, y_pred)\n",
    "#print(\"The mean squared error (MSE) on test set: {:.4f}\".format(mse))\n",
    "\n",
    "y_tr_pred = rfr_dem.predict(X_train)\n",
    "y_te_pred = rfr_dem.predict(X_test)\n",
    "\n",
    "\n",
    "print(\"R2 Train: {:.4f}\".format(r2_score(y_train, y_tr_pred)))\n",
    "print(\"R2 Test: {:.4f}\".format(r2_score(y_test, y_te_pred)))\n"
   ]
  },
  {
   "cell_type": "code",
   "execution_count": 22,
   "id": "2649eaa3",
   "metadata": {
    "scrolled": true
   },
   "outputs": [
    {
     "name": "stdout",
     "output_type": "stream",
     "text": [
      "{'n_estimators': 680, 'max_depth': 6}\n",
      "Train\n",
      "R2: 0.9581\n",
      "Adj R2: 0.9570\n",
      "\n",
      "Test\n",
      "R2: 0.6498\n",
      "Adj R2: 0.6106\n"
     ]
    }
   ],
   "source": [
    "# Random Forest Regression with Random Search CV\n",
    "\n",
    "set_demog_XY()\n",
    "\n",
    "param_distributions = {\n",
    "    \"n_estimators\": range(50,1000),\n",
    "    \"max_depth\": range(2,30)#,\n",
    "    #\"min_samples_split\": range(2,10)\n",
    "    }\n",
    "\n",
    "rscv = RandomizedSearchCV(rfr_dem, param_distributions, random_state=137,\n",
    "                              n_iter = 10\n",
    "                              )\n",
    "search = rscv.fit(X_train, y_train)\n",
    "\n",
    "rfr_dem = GradientBoostingRegressor(**search.best_params_,  loss= \"squared_error\")\n",
    "rfr_dem.fit(X_train, y_train)\n",
    "\n",
    "print(search.best_params_)\n",
    "\n",
    "print('Train')\n",
    "print_metrics(rfr_dem, X_train, y_train)\n",
    "print('\\nTest')\n",
    "print_metrics(rfr_dem, X_test, y_test)"
   ]
  },
  {
   "cell_type": "code",
   "execution_count": 23,
   "id": "ddaaeaa1",
   "metadata": {},
   "outputs": [
    {
     "data": {
      "image/png": "[encoded data removed]",
      "text/plain": [
       "<Figure size 576x576 with 1 Axes>"
      ]
     },
     "metadata": {
      "needs_background": "light"
     },
     "output_type": "display_data"
    }
   ],
   "source": [
    "plot_feature_importance(rfr_dem, X_train, X_test, y_test)"
   ]
  },
  {
   "cell_type": "markdown",
   "id": "c15b0900",
   "metadata": {},
   "source": [
    "## Best model:  Gradient Boost Regression with Random Search CV"
   ]
  },
  {
   "cell_type": "markdown",
   "id": "786de2ac",
   "metadata": {},
   "source": [
    "### Now do it again with PSAT/SAT scores"
   ]
  },
  {
   "cell_type": "code",
   "execution_count": 24,
   "id": "f6ad0cf8",
   "metadata": {},
   "outputs": [
    {
     "data": {
      "text/plain": [
       "array([[488.64179104]])"
      ]
     },
     "execution_count": 24,
     "metadata": {},
     "output_type": "execute_result"
    }
   ],
   "source": [
    "set_psat_XY()\n",
    "\n",
    "dumreg_demog = DummyRegressor(strategy='mean')\n",
    "dumreg_demog.fit(X_train, y_train)\n",
    "dumreg_demog.constant_"
   ]
  },
  {
   "cell_type": "code",
   "execution_count": 25,
   "id": "ebcc4dc0",
   "metadata": {},
   "outputs": [
    {
     "name": "stdout",
     "output_type": "stream",
     "text": [
      "Train\n",
      "R2: 0.9490\n",
      "Adj R2: 0.9488\n",
      "\n",
      "Test\n",
      "R2: 0.9493\n",
      "Adj R2: 0.9486\n"
     ]
    }
   ],
   "source": [
    "#Linear Regression\n",
    "\n",
    "set_psat_XY()\n",
    "\n",
    "linreg_psat = LinearRegression()\n",
    "linreg_psat.fit(X_train, y_train)\n",
    "y_pred = linreg_psat.predict(X_train)\n",
    "\n",
    "print('Train')\n",
    "print_metrics(linreg_psat, X_train, y_train)\n",
    "print('\\nTest')\n",
    "print_metrics(linreg_psat, X_test, y_test)"
   ]
  },
  {
   "cell_type": "code",
   "execution_count": 26,
   "id": "b014a41b",
   "metadata": {},
   "outputs": [
    {
     "name": "stdout",
     "output_type": "stream",
     "text": [
      "Train\n",
      "R2: 0.9695\n",
      "Adj R2: 0.9694\n",
      "\n",
      "Test\n",
      "R2: 0.9424\n",
      "Adj R2: 0.9415\n"
     ]
    }
   ],
   "source": [
    "#Gradient Boost Regression\n",
    "\n",
    "set_psat_XY()\n",
    "\n",
    "params = {\n",
    "    \"n_estimators\": 500,\n",
    "    \"max_depth\": 4,\n",
    "    \"min_samples_split\": 5,\n",
    "    \"learning_rate\": 0.01,\n",
    "    \"loss\": \"squared_error\",\n",
    "}\n",
    "\n",
    "gbreg_psat = GradientBoostingRegressor(**params)\n",
    "gbreg_psat.fit(X_train, y_train)\n",
    "\n",
    "#mse = mean_squared_error(y_test, y_pred)\n",
    "#print(\"The mean squared error (MSE) on test set: {:.4f}\".format(mse))\n",
    "\n",
    "print('Train')\n",
    "print_metrics(gbreg_psat, X_train, y_train)\n",
    "print('\\nTest')\n",
    "print_metrics(gbreg_psat, X_test, y_test)"
   ]
  },
  {
   "cell_type": "code",
   "execution_count": 27,
   "id": "db1fb283",
   "metadata": {},
   "outputs": [
    {
     "name": "stdout",
     "output_type": "stream",
     "text": [
      "Train\n",
      "R2: 0.9734\n",
      "Adj R2: 0.9733\n",
      "\n",
      "Test\n",
      "R2: 0.9341\n",
      "Adj R2: 0.9331\n"
     ]
    }
   ],
   "source": [
    "#Random Search CV for gradient boost\n",
    "\n",
    "set_psat_XY()\n",
    "\n",
    "param_distributions = {\n",
    "    \"n_estimators\": range(100,700),\n",
    "    \"max_depth\": range(2,10),\n",
    "    \"min_samples_split\": range(2,10),\n",
    "    \"learning_rate\": [0.001, 0.01, 0.1, 1]\n",
    "    }\n",
    "\n",
    "rscv = RandomizedSearchCV(gbreg_dem, param_distributions, random_state=136,\n",
    "                              n_iter = 10\n",
    "                              )\n",
    "search = rscv.fit(X_train, y_train)\n",
    "\n",
    "gbreg_psat = GradientBoostingRegressor(**search.best_params_,  loss= \"squared_error\")\n",
    "gbreg_psat.fit(X_train, y_train)\n",
    "\n",
    "print('Train')\n",
    "print_metrics(gbreg_psat, X_train, y_train)\n",
    "print('\\nTest')\n",
    "print_metrics(gbreg_psat, X_test, y_test)"
   ]
  }
 ],
 "metadata": {
  "kernelspec": {
   "display_name": "Python 3 (ipykernel)",
   "language": "python",
   "name": "python3"
  },
  "language_info": {
   "codemirror_mode": {
    "name": "ipython",
    "version": 3
   },
   "file_extension": ".py",
   "mimetype": "text/x-python",
   "name": "python",
   "nbconvert_exporter": "python",
   "pygments_lexer": "ipython3",
   "version": "3.9.12"
  }
 },
 "nbformat": 4,
 "nbformat_minor": 5
}
