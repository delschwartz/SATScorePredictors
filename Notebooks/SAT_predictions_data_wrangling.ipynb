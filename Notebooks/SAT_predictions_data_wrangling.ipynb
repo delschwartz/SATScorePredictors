{
 "cells": [
  {
   "cell_type": "code",
   "execution_count": 1,
   "id": "9f63dfd7",
   "metadata": {},
   "outputs": [],
   "source": [
    "import pandas as pd\n",
    "import os\n",
    "from pathlib import Path\n",
    "import missingno as msno\n",
    "import matplotlib.pyplot as plt\n",
    "import itertools\n",
    "from itertools import product\n",
    "import re\n",
    "import urllib.request as ul\n",
    "from bs4 import BeautifulSoup as soup\n",
    "import requests\n",
    "import numpy as np"
   ]
  },
  {
   "cell_type": "markdown",
   "id": "54ad11a0",
   "metadata": {},
   "source": [
    "Several data sets need to be cleaned and merged.  School mean SAT & PSAT scores for each year are in separate .xlsx files.  Scores disaggregated by desired demographic indicators are in another set .xlsx files also separated by year. A third data set with scores grouped by multiple categories is also prepared."
   ]
  },
  {
   "cell_type": "markdown",
   "id": "5f8f62b9",
   "metadata": {},
   "source": [
    "### 2018 data wrangling"
   ]
  },
  {
   "cell_type": "code",
   "execution_count": 2,
   "id": "1bddbe32",
   "metadata": {},
   "outputs": [],
   "source": [
    "# Filenames & paths\n",
    "\n",
    "filepath_agg = '../raw_data/aggregated/'\n",
    "filepath_disagg = '../raw_data/disaggregated/'\n",
    "\n",
    "file_2017_agg = '2017 SAT PSAT District and School Overall Results_final.xlsx'\n",
    "file_2018_agg = '2018 PSAT and SAT District and School Summary Achievement Results_FINAL.xlsx'\n",
    "\n",
    "\n",
    "file_2018_disagg = '2018 PSAT and SAT State Achievement Results Disaggregated by Subgroups.xlsx'\n",
    "file_2018_multicat = '2018 SAT results by subgroups.xlsx'"
   ]
  },
  {
   "cell_type": "code",
   "execution_count": 3,
   "id": "42bb7a9c",
   "metadata": {},
   "outputs": [],
   "source": [
    "# Files all have different formats\n",
    "\n",
    "# Agg data is all on one sheet in xlsx file.\n",
    "df_2017_agg_raw = pd.read_excel(filepath_agg + file_2017_agg)\n",
    "df_2018_agg_raw = pd.read_excel(filepath_agg + file_2018_agg)\n",
    "\n",
    "# Disaggregated data for 2018 is split into separate sheets in xlsx file.\n",
    "# Create dict of df's for each set of disagg data\n",
    "dict_2018_disagg_raw = pd.read_excel(filepath_disagg + file_2018_disagg, sheet_name=None)\n",
    "\n",
    "df_2018_multicat_raw = pd.read_excel(filepath_disagg + file_2018_multicat)"
   ]
  },
  {
   "cell_type": "markdown",
   "id": "43b9f5da",
   "metadata": {},
   "source": [
    "## Aggregated data only"
   ]
  },
  {
   "cell_type": "code",
   "execution_count": 4,
   "id": "e464cab9",
   "metadata": {},
   "outputs": [
    {
     "data": {
      "text/html": [
       "<div>\n",
       "<style scoped>\n",
       "    .dataframe tbody tr th:only-of-type {\n",
       "        vertical-align: middle;\n",
       "    }\n",
       "\n",
       "    .dataframe tbody tr th {\n",
       "        vertical-align: top;\n",
       "    }\n",
       "\n",
       "    .dataframe thead th {\n",
       "        text-align: right;\n",
       "    }\n",
       "</style>\n",
       "<table border=\"1\" class=\"dataframe\">\n",
       "  <thead>\n",
       "    <tr style=\"text-align: right;\">\n",
       "      <th></th>\n",
       "      <th>2017 SAT and PSAT10 District and School Results  - EMBARGOED UNTIL 10:00 A.M. ON AUGUST 17TH</th>\n",
       "      <th>Unnamed: 1</th>\n",
       "      <th>Unnamed: 2</th>\n",
       "      <th>Unnamed: 3</th>\n",
       "      <th>Unnamed: 4</th>\n",
       "      <th>Unnamed: 5</th>\n",
       "      <th>Unnamed: 6</th>\n",
       "      <th>Unnamed: 7</th>\n",
       "      <th>Unnamed: 8</th>\n",
       "      <th>Unnamed: 9</th>\n",
       "      <th>Unnamed: 10</th>\n",
       "      <th>Unnamed: 11</th>\n",
       "      <th>Unnamed: 12</th>\n",
       "      <th>Unnamed: 13</th>\n",
       "      <th>Unnamed: 14</th>\n",
       "      <th>Unnamed: 15</th>\n",
       "      <th>Unnamed: 16</th>\n",
       "    </tr>\n",
       "  </thead>\n",
       "  <tbody>\n",
       "    <tr>\n",
       "      <th>0</th>\n",
       "      <td>NaN</td>\n",
       "      <td>NaN</td>\n",
       "      <td>NaN</td>\n",
       "      <td>NaN</td>\n",
       "      <td>NaN</td>\n",
       "      <td>NaN</td>\n",
       "      <td>NaN</td>\n",
       "      <td>NaN</td>\n",
       "      <td>NaN</td>\n",
       "      <td>NaN</td>\n",
       "      <td>NaN</td>\n",
       "      <td>NaN</td>\n",
       "      <td>NaN</td>\n",
       "      <td>NaN</td>\n",
       "      <td>NaN</td>\n",
       "      <td>NaN</td>\n",
       "      <td>NaN</td>\n",
       "    </tr>\n",
       "    <tr>\n",
       "      <th>1</th>\n",
       "      <td>Means are calculated using only valid scores i...</td>\n",
       "      <td>NaN</td>\n",
       "      <td>NaN</td>\n",
       "      <td>NaN</td>\n",
       "      <td>NaN</td>\n",
       "      <td>NaN</td>\n",
       "      <td>NaN</td>\n",
       "      <td>NaN</td>\n",
       "      <td>NaN</td>\n",
       "      <td>NaN</td>\n",
       "      <td>NaN</td>\n",
       "      <td>NaN</td>\n",
       "      <td>NaN</td>\n",
       "      <td>NaN</td>\n",
       "      <td>NaN</td>\n",
       "      <td>NaN</td>\n",
       "      <td>NaN</td>\n",
       "    </tr>\n",
       "    <tr>\n",
       "      <th>2</th>\n",
       "      <td>* Values suppressed to protect student privacy.</td>\n",
       "      <td>NaN</td>\n",
       "      <td>NaN</td>\n",
       "      <td>NaN</td>\n",
       "      <td>NaN</td>\n",
       "      <td>NaN</td>\n",
       "      <td>NaN</td>\n",
       "      <td>NaN</td>\n",
       "      <td>NaN</td>\n",
       "      <td>NaN</td>\n",
       "      <td>NaN</td>\n",
       "      <td>NaN</td>\n",
       "      <td>NaN</td>\n",
       "      <td>NaN</td>\n",
       "      <td>NaN</td>\n",
       "      <td>NaN</td>\n",
       "      <td>NaN</td>\n",
       "    </tr>\n",
       "    <tr>\n",
       "      <th>3</th>\n",
       "      <td>NaN</td>\n",
       "      <td>NaN</td>\n",
       "      <td>NaN</td>\n",
       "      <td>NaN</td>\n",
       "      <td>NaN</td>\n",
       "      <td>NaN</td>\n",
       "      <td>NaN</td>\n",
       "      <td>NaN</td>\n",
       "      <td>NaN</td>\n",
       "      <td>NaN</td>\n",
       "      <td>NaN</td>\n",
       "      <td>NaN</td>\n",
       "      <td>NaN</td>\n",
       "      <td>NaN</td>\n",
       "      <td>NaN</td>\n",
       "      <td>NaN</td>\n",
       "      <td>NaN</td>\n",
       "    </tr>\n",
       "    <tr>\n",
       "      <th>4</th>\n",
       "      <td>Test</td>\n",
       "      <td>District Number</td>\n",
       "      <td>District Name</td>\n",
       "      <td>School Number</td>\n",
       "      <td>School Name</td>\n",
       "      <td>Total Students</td>\n",
       "      <td>Valid Scores</td>\n",
       "      <td>Evidence Based Reading and Writing Mean Score</td>\n",
       "      <td>Math Mean Score</td>\n",
       "      <td>Overall Mean Score</td>\n",
       "      <td>Participation Percent</td>\n",
       "      <td>2016 Valid Scores</td>\n",
       "      <td>2016 Evidence Based Reading and Writing Mean S...</td>\n",
       "      <td>2016 Math Mean Score</td>\n",
       "      <td>2016 Overall Mean Score</td>\n",
       "      <td>2016 Participation Percent</td>\n",
       "      <td>Mean Overall Score Change</td>\n",
       "    </tr>\n",
       "    <tr>\n",
       "      <th>5</th>\n",
       "      <td>PSAT</td>\n",
       "      <td>0000</td>\n",
       "      <td>STATE RESULTS</td>\n",
       "      <td>0000</td>\n",
       "      <td>STATE RESULTS</td>\n",
       "      <td>63901</td>\n",
       "      <td>58701</td>\n",
       "      <td>478.0</td>\n",
       "      <td>469.0</td>\n",
       "      <td>947.0</td>\n",
       "      <td>91.9</td>\n",
       "      <td>56753</td>\n",
       "      <td>475.6</td>\n",
       "      <td>468.4</td>\n",
       "      <td>944</td>\n",
       "      <td>88.3</td>\n",
       "      <td>3</td>\n",
       "    </tr>\n",
       "    <tr>\n",
       "      <th>6</th>\n",
       "      <td>PSAT</td>\n",
       "      <td>0010</td>\n",
       "      <td>MAPLETON 1</td>\n",
       "      <td>0000</td>\n",
       "      <td>DISTRICT RESULTS</td>\n",
       "      <td>729</td>\n",
       "      <td>634</td>\n",
       "      <td>437.0</td>\n",
       "      <td>428.8</td>\n",
       "      <td>865.7</td>\n",
       "      <td>87.0</td>\n",
       "      <td>549</td>\n",
       "      <td>450.3</td>\n",
       "      <td>434.2</td>\n",
       "      <td>884.4</td>\n",
       "      <td>84.7</td>\n",
       "      <td>-18.7</td>\n",
       "    </tr>\n",
       "    <tr>\n",
       "      <th>7</th>\n",
       "      <td>PSAT</td>\n",
       "      <td>0010</td>\n",
       "      <td>MAPLETON 1</td>\n",
       "      <td>0187</td>\n",
       "      <td>MAPLETON EXPEDITIONARY SCHOOL OF THE ARTS</td>\n",
       "      <td>105</td>\n",
       "      <td>88</td>\n",
       "      <td>411.7</td>\n",
       "      <td>429.9</td>\n",
       "      <td>841.6</td>\n",
       "      <td>83.8</td>\n",
       "      <td>95</td>\n",
       "      <td>427.9</td>\n",
       "      <td>421.2</td>\n",
       "      <td>849.1</td>\n",
       "      <td>87.2</td>\n",
       "      <td>-7.5</td>\n",
       "    </tr>\n",
       "    <tr>\n",
       "      <th>8</th>\n",
       "      <td>PSAT</td>\n",
       "      <td>0010</td>\n",
       "      <td>MAPLETON 1</td>\n",
       "      <td>0212</td>\n",
       "      <td>MAPLETON EARLY COLLEGE HIGH SCHOOL</td>\n",
       "      <td>62</td>\n",
       "      <td>60</td>\n",
       "      <td>409.2</td>\n",
       "      <td>408.8</td>\n",
       "      <td>818.0</td>\n",
       "      <td>96.8</td>\n",
       "      <td>57</td>\n",
       "      <td>421.9</td>\n",
       "      <td>409.6</td>\n",
       "      <td>831.6</td>\n",
       "      <td>91.9</td>\n",
       "      <td>-13.6</td>\n",
       "    </tr>\n",
       "    <tr>\n",
       "      <th>9</th>\n",
       "      <td>PSAT</td>\n",
       "      <td>0010</td>\n",
       "      <td>MAPLETON 1</td>\n",
       "      <td>0263</td>\n",
       "      <td>GLOBAL LEADERSHIP ACADEMY</td>\n",
       "      <td>54</td>\n",
       "      <td>50</td>\n",
       "      <td>410.0</td>\n",
       "      <td>404.2</td>\n",
       "      <td>814.2</td>\n",
       "      <td>92.6</td>\n",
       "      <td>40</td>\n",
       "      <td>403.8</td>\n",
       "      <td>424.5</td>\n",
       "      <td>828.3</td>\n",
       "      <td>93</td>\n",
       "      <td>-14.1</td>\n",
       "    </tr>\n",
       "  </tbody>\n",
       "</table>\n",
       "</div>"
      ],
      "text/plain": [
       "  2017 SAT and PSAT10 District and School Results  - EMBARGOED UNTIL 10:00 A.M. ON AUGUST 17TH   \\\n",
       "0                                                NaN                                              \n",
       "1  Means are calculated using only valid scores i...                                              \n",
       "2    * Values suppressed to protect student privacy.                                              \n",
       "3                                                NaN                                              \n",
       "4                                               Test                                              \n",
       "5                                             PSAT                                                \n",
       "6                                             PSAT                                                \n",
       "7                                             PSAT                                                \n",
       "8                                             PSAT                                                \n",
       "9                                             PSAT                                                \n",
       "\n",
       "        Unnamed: 1     Unnamed: 2     Unnamed: 3  \\\n",
       "0              NaN            NaN            NaN   \n",
       "1              NaN            NaN            NaN   \n",
       "2              NaN            NaN            NaN   \n",
       "3              NaN            NaN            NaN   \n",
       "4  District Number  District Name  School Number   \n",
       "5             0000  STATE RESULTS           0000   \n",
       "6             0010     MAPLETON 1           0000   \n",
       "7             0010     MAPLETON 1           0187   \n",
       "8             0010     MAPLETON 1           0212   \n",
       "9             0010     MAPLETON 1           0263   \n",
       "\n",
       "                                  Unnamed: 4      Unnamed: 5    Unnamed: 6  \\\n",
       "0                                        NaN             NaN           NaN   \n",
       "1                                        NaN             NaN           NaN   \n",
       "2                                        NaN             NaN           NaN   \n",
       "3                                        NaN             NaN           NaN   \n",
       "4                                School Name  Total Students  Valid Scores   \n",
       "5                              STATE RESULTS           63901         58701   \n",
       "6                           DISTRICT RESULTS             729           634   \n",
       "7  MAPLETON EXPEDITIONARY SCHOOL OF THE ARTS             105            88   \n",
       "8         MAPLETON EARLY COLLEGE HIGH SCHOOL              62            60   \n",
       "9                  GLOBAL LEADERSHIP ACADEMY              54            50   \n",
       "\n",
       "                                      Unnamed: 7       Unnamed: 8  \\\n",
       "0                                            NaN              NaN   \n",
       "1                                            NaN              NaN   \n",
       "2                                            NaN              NaN   \n",
       "3                                            NaN              NaN   \n",
       "4  Evidence Based Reading and Writing Mean Score  Math Mean Score   \n",
       "5                                          478.0            469.0   \n",
       "6                                          437.0            428.8   \n",
       "7                                          411.7            429.9   \n",
       "8                                          409.2            408.8   \n",
       "9                                          410.0            404.2   \n",
       "\n",
       "           Unnamed: 9            Unnamed: 10        Unnamed: 11  \\\n",
       "0                 NaN                    NaN                NaN   \n",
       "1                 NaN                    NaN                NaN   \n",
       "2                 NaN                    NaN                NaN   \n",
       "3                 NaN                    NaN                NaN   \n",
       "4  Overall Mean Score  Participation Percent  2016 Valid Scores   \n",
       "5               947.0                   91.9              56753   \n",
       "6               865.7                   87.0                549   \n",
       "7               841.6                   83.8                 95   \n",
       "8               818.0                   96.8                 57   \n",
       "9               814.2                   92.6                 40   \n",
       "\n",
       "                                         Unnamed: 12           Unnamed: 13  \\\n",
       "0                                                NaN                   NaN   \n",
       "1                                                NaN                   NaN   \n",
       "2                                                NaN                   NaN   \n",
       "3                                                NaN                   NaN   \n",
       "4  2016 Evidence Based Reading and Writing Mean S...  2016 Math Mean Score   \n",
       "5                                              475.6                 468.4   \n",
       "6                                              450.3                 434.2   \n",
       "7                                              427.9                 421.2   \n",
       "8                                              421.9                 409.6   \n",
       "9                                              403.8                 424.5   \n",
       "\n",
       "               Unnamed: 14                 Unnamed: 15  \\\n",
       "0                      NaN                         NaN   \n",
       "1                      NaN                         NaN   \n",
       "2                      NaN                         NaN   \n",
       "3                      NaN                         NaN   \n",
       "4  2016 Overall Mean Score  2016 Participation Percent   \n",
       "5                      944                        88.3   \n",
       "6                    884.4                        84.7   \n",
       "7                    849.1                        87.2   \n",
       "8                    831.6                        91.9   \n",
       "9                    828.3                          93   \n",
       "\n",
       "                 Unnamed: 16  \n",
       "0                        NaN  \n",
       "1                        NaN  \n",
       "2                        NaN  \n",
       "3                        NaN  \n",
       "4  Mean Overall Score Change  \n",
       "5                          3  \n",
       "6                      -18.7  \n",
       "7                       -7.5  \n",
       "8                      -13.6  \n",
       "9                      -14.1  "
      ]
     },
     "execution_count": 4,
     "metadata": {},
     "output_type": "execute_result"
    }
   ],
   "source": [
    "df_2017_agg_raw.head(10)"
   ]
  },
  {
   "cell_type": "code",
   "execution_count": 5,
   "id": "b1f7ed6d",
   "metadata": {},
   "outputs": [],
   "source": [
    "# Drop rows with descriptive text\n",
    "df_2017_agg = df_2017_agg_raw.drop(df_2017_agg_raw.index[0:4])\n",
    "df_2018_agg = df_2018_agg_raw.drop(df_2018_agg_raw.index[0:3])"
   ]
  },
  {
   "cell_type": "code",
   "execution_count": 6,
   "id": "fe3c22f9",
   "metadata": {
    "scrolled": true
   },
   "outputs": [],
   "source": [
    "# Set columns headers as first row containing Test, District Number, District Name, etc.\n",
    "df_2017_agg.columns = df_2017_agg.iloc[0]\n",
    "df_2018_agg.columns = df_2018_agg.iloc[0]"
   ]
  },
  {
   "cell_type": "code",
   "execution_count": 7,
   "id": "3b7f95f8",
   "metadata": {},
   "outputs": [],
   "source": [
    "# Drop first row containing the column headers\n",
    "df_2017_agg = df_2017_agg.drop(df_2017_agg.index[0])\n",
    "df_2018_agg = df_2018_agg.drop(df_2018_agg.index[0])"
   ]
  },
  {
   "cell_type": "code",
   "execution_count": 8,
   "id": "864a0443",
   "metadata": {},
   "outputs": [],
   "source": [
    "## 2017 data\n",
    "# Assign state & district results to their own dataframes respectively (if they exist)\n",
    "state_2017_agg = df_2017_agg.loc[df_2017_agg['School Name'] == 'STATE RESULTS']\n",
    "district_2017_agg = df_2017_agg.loc[df_2017_agg['School Name'] == 'DISTRICT RESULTS']\n",
    "\n",
    "# Drop those & create new dataframe of school only data\n",
    "# Note: There's something weird with the school districts here.  BOCES?\n",
    "schools_2017_agg = df_2017_agg[(df_2017_agg['School Name'] != 'STATE RESULTS') & (df_2017_agg['School Name'] != 'DISTRICT RESULTS')]\n",
    "\n",
    "\n",
    "## 2018 data\n",
    "# Assign state & district results to their own dataframes respectively (if they exist)\n",
    "state_2018_agg = df_2018_agg.loc[df_2018_agg['Level'] == 'STATE']\n",
    "district_2018_agg = df_2018_agg.loc[df_2018_agg['Level'] == 'DISTRICT']\n",
    "\n",
    "# Create dataframe with only school level scores\n",
    "schools_2018_agg = df_2018_agg.loc[df_2018_agg['Level'] == 'SCHOOL']\n",
    "\n",
    "# Drop some unneeded columns\n",
    "schools_2018_agg = schools_2018_agg.drop(['Level','Grade'], axis = 1)"
   ]
  },
  {
   "cell_type": "code",
   "execution_count": 9,
   "id": "bda4ceaf",
   "metadata": {},
   "outputs": [],
   "source": [
    "# Rename some columns for convenience\n",
    "col_names1_long = list(schools_2017_agg.columns)\n",
    "col_names1_short = ['Test',\n",
    "                 'District Number',\n",
    "                 'District Name',\n",
    "                 'School Number',\n",
    "                 'School Name',\n",
    "                 'Total Students',\n",
    "                 '2017 Valid Scores',\n",
    "                 '2017 EBRW Mean',\n",
    "                 '2017 Math Mean',\n",
    "                 '2017 Overall Mean',\n",
    "                 '2017 Participation Percent',\n",
    "                 '2016 Valid Scores',\n",
    "                 '2016 EBRW Mean',\n",
    "                 '2016 Math Mean',\n",
    "                 '2016 Overall Mean',\n",
    "                 '2016 Participation Percent',\n",
    "                 'Mean Overall Score Change']\n",
    "schools_2017_agg.columns = col_names1_short\n",
    "\n",
    "# Rename some columns for convenience\n",
    "col_names2_long = list(schools_2018_agg.columns)\n",
    "col_names2_short = ['Test',\n",
    "                 'District Number',\n",
    "                 'District Name',\n",
    "                 'School Number',\n",
    "                 'School Name',\n",
    "                 'Total Students',\n",
    "                 '2018 Valid Scores',\n",
    "                 '2018 EBRW Mean',\n",
    "                 '2018 Math Mean',\n",
    "                 '2018 Overall Mean Score',\n",
    "                 '2018 Participation Percent',\n",
    "                 '2017 Valid Scores',\n",
    "                 '2017 EBRW Mean',\n",
    "                 '2017 Math Mean',\n",
    "                 '2017 Overall Mean Score',\n",
    "                 '2017 Participation Percent',\n",
    "                 'Mean Overall Score Change']\n",
    "schools_2018_agg.columns = col_names2_short"
   ]
  },
  {
   "cell_type": "code",
   "execution_count": 10,
   "id": "1e683d09",
   "metadata": {},
   "outputs": [
    {
     "name": "stderr",
     "output_type": "stream",
     "text": [
      "C:\\Users\\conte\\AppData\\Local\\Temp\\ipykernel_46320\\42680476.py:2: SettingWithCopyWarning: \n",
      "A value is trying to be set on a copy of a slice from a DataFrame\n",
      "\n",
      "See the caveats in the documentation: https://pandas.pydata.org/pandas-docs/stable/user_guide/indexing.html#returning-a-view-versus-a-copy\n",
      "  schools_2017_agg.loc['Test'] = schools_2017_agg['Test'].str.strip()\n"
     ]
    }
   ],
   "source": [
    "# Trim white space\n",
    "schools_2017_agg.loc['Test'] = schools_2017_agg['Test'].str.strip()\n",
    "schools_2018_agg.loc['Test'] = schools_2018_agg['Test'].str.strip()"
   ]
  },
  {
   "cell_type": "markdown",
   "id": "e9c6958a",
   "metadata": {},
   "source": [
    "#### Create new dataframe aggregating all data from 2018 into a cleaner format"
   ]
  },
  {
   "cell_type": "code",
   "execution_count": 11,
   "id": "5f2517f2",
   "metadata": {},
   "outputs": [],
   "source": [
    "# Select only rows that have both 2017 and 2018 scores\n",
    "schools_2018_agg_subset = schools_2018_agg[~schools_2018_agg['Mean Overall Score Change'].isna()]\n",
    "\n",
    "# Drop rows using '*' to indicate missing data\n",
    "schools_2018_agg_subset = schools_2018_agg_subset[~(schools_2018_agg_subset['Total Students'] == '*')]"
   ]
  },
  {
   "cell_type": "code",
   "execution_count": 12,
   "id": "ecdda2da",
   "metadata": {},
   "outputs": [
    {
     "data": {
      "text/plain": [
       "Test                          object\n",
       "District Number               object\n",
       "District Name                 object\n",
       "School Number                 object\n",
       "School Name                   object\n",
       "Total Students                object\n",
       "2018 Valid Scores             object\n",
       "2018 EBRW Mean                object\n",
       "2018 Math Mean                object\n",
       "2018 Overall Mean Score       object\n",
       "2018 Participation Percent    object\n",
       "2017 Valid Scores             object\n",
       "2017 EBRW Mean                object\n",
       "2017 Math Mean                object\n",
       "2017 Overall Mean Score       object\n",
       "2017 Participation Percent    object\n",
       "Mean Overall Score Change     object\n",
       "dtype: object"
      ]
     },
     "execution_count": 12,
     "metadata": {},
     "output_type": "execute_result"
    }
   ],
   "source": [
    "schools_2018_agg_subset.dtypes"
   ]
  },
  {
   "cell_type": "code",
   "execution_count": 13,
   "id": "ad93739f",
   "metadata": {},
   "outputs": [],
   "source": [
    "schools_2018_agg_SAT = schools_2018_agg_subset.loc[schools_2018_agg_subset[\"Test\"] == \"SAT\"]\n",
    "schools_2018_agg_PSAT = schools_2018_agg_subset.loc[schools_2018_agg_subset[\"Test\"] == \"PSAT10\"]\n",
    "tests_combined_2018_agg = schools_2018_agg_SAT.merge(schools_2018_agg_PSAT, on=\"School Number\", suffixes=(' SAT', ' PSAT10'))"
   ]
  },
  {
   "cell_type": "code",
   "execution_count": 14,
   "id": "c3da9871",
   "metadata": {},
   "outputs": [],
   "source": [
    "# Drop duplicated &  unnecessary columns\n",
    "tests_combined_2018_agg = tests_combined_2018_agg.drop(['Test PSAT10',\n",
    "                                                        'Test SAT',\n",
    "                                                        'District Number PSAT10',\n",
    "                                                        'District Name PSAT10',\n",
    "                                                        'School Name PSAT10',\n",
    "                                                        'Test PSAT10',\n",
    "                                                        'Mean Overall Score Change SAT',\n",
    "                                                        'Mean Overall Score Change PSAT10'\n",
    "                                                       ], axis = 1, errors='ignore')\n",
    "\n",
    "drop_cats = ['Participation',\n",
    "            'Total Students',\n",
    "            'Valid Scores']\n",
    "\n",
    "drop_list = [col for col in tests_combined_2018_agg.columns if any(cat in col for cat in drop_cats)]"
   ]
  },
  {
   "cell_type": "code",
   "execution_count": 15,
   "id": "dac4983e",
   "metadata": {},
   "outputs": [],
   "source": [
    "tests_combined_2018_agg = tests_combined_2018_agg.drop(drop_list, axis = 1, errors='ignore')"
   ]
  },
  {
   "cell_type": "code",
   "execution_count": 16,
   "id": "1c68e6fe",
   "metadata": {},
   "outputs": [],
   "source": [
    "# Only keep 2018 SAT and 2017 PSAT\n",
    "\n",
    "tests_combined_2018_agg = tests_combined_2018_agg.drop(['2017 EBRW Mean SAT',\n",
    "                                                        '2017 Math Mean SAT',\n",
    "                                                        '2017 Overall Mean Score SAT',\n",
    "                                                        '2018 EBRW Mean PSAT10',\n",
    "                                                        '2018 Math Mean PSAT10',\n",
    "                                                        '2018 Overall Mean Score PSAT10'\n",
    "                                                       ], axis = 1, errors='ignore')"
   ]
  },
  {
   "cell_type": "code",
   "execution_count": 17,
   "id": "c5ee3706",
   "metadata": {},
   "outputs": [],
   "source": [
    "# Rename first four columns \n",
    "\n",
    "tests_combined_2018_agg.columns = ['District Number', 'District Name', 'School Number',\n",
    "       'School Name', '2018 EBRW Mean SAT', '2018 Math Mean SAT',\n",
    "       '2018 Overall Mean Score SAT', '2017 EBRW Mean PSAT10',\n",
    "       '2017 Math Mean PSAT10', '2017 Overall Mean Score PSAT10']"
   ]
  },
  {
   "cell_type": "code",
   "execution_count": 18,
   "id": "ccd29787",
   "metadata": {},
   "outputs": [],
   "source": [
    "# Set school & district names lowercase\n",
    "\n",
    "tests_combined_2018_agg['District Name'] = tests_combined_2018_agg.loc[:,'District Name'].str.lower()\n",
    "tests_combined_2018_agg['School Name'] = tests_combined_2018_agg.loc[:,'School Name'].str.lower()"
   ]
  },
  {
   "cell_type": "code",
   "execution_count": 19,
   "id": "4e61fe34",
   "metadata": {},
   "outputs": [],
   "source": [
    "# Strip whitespace\n",
    "tests_combined_2018_agg['District Name'] = tests_combined_2018_agg.loc[:,'District Name'].str.strip()\n",
    "tests_combined_2018_agg['School Name'] = tests_combined_2018_agg.loc[:,'School Name'].str.strip()"
   ]
  },
  {
   "cell_type": "code",
   "execution_count": 20,
   "id": "38269ac1",
   "metadata": {},
   "outputs": [
    {
     "data": {
      "text/plain": [
       "District Number                   object\n",
       "District Name                     object\n",
       "School Number                     object\n",
       "School Name                       object\n",
       "2018 EBRW Mean SAT                object\n",
       "2018 Math Mean SAT                object\n",
       "2018 Overall Mean Score SAT       object\n",
       "2017 EBRW Mean PSAT10             object\n",
       "2017 Math Mean PSAT10             object\n",
       "2017 Overall Mean Score PSAT10    object\n",
       "dtype: object"
      ]
     },
     "execution_count": 20,
     "metadata": {},
     "output_type": "execute_result"
    }
   ],
   "source": [
    "tests_combined_2018_agg.dtypes"
   ]
  },
  {
   "cell_type": "code",
   "execution_count": 21,
   "id": "0410a54c",
   "metadata": {},
   "outputs": [],
   "source": [
    "tests_combined_2018_agg = tests_combined_2018_agg[tests_combined_2018_agg['2018 Overall Mean Score SAT']!='*']"
   ]
  },
  {
   "cell_type": "code",
   "execution_count": 22,
   "id": "afa38aef",
   "metadata": {},
   "outputs": [],
   "source": [
    "tests_combined_2018_agg = tests_combined_2018_agg[tests_combined_2018_agg['2017 Overall Mean Score PSAT10']!='*']"
   ]
  },
  {
   "cell_type": "markdown",
   "id": "e05199cc",
   "metadata": {},
   "source": [
    "# Score arranged by multiple demographic categories"
   ]
  },
  {
   "cell_type": "code",
   "execution_count": 23,
   "id": "61c79efb",
   "metadata": {
    "scrolled": true
   },
   "outputs": [],
   "source": [
    "# Delete header rows & set column headers\n",
    "df_2018_multicat = df_2018_multicat_raw.drop(df_2018_multicat_raw.index[0:17])\n",
    "df_2018_multicat.columns = df_2018_multicat.iloc[0]\n",
    "df_2018_multicat = df_2018_multicat.drop(df_2018_multicat.index[0])\n",
    "df_2018_multicat.columns.name = 'index'\n",
    "df_2018_multicat = df_2018_multicat.reset_index().drop(['index'], axis=1)\n",
    "\n",
    "# Drop unnecessary columns\n",
    "df_2018_multicat = df_2018_multicat.drop(['Academic Year','Standard Deviation','% Participation','Score Count','Test Name'], axis=1)"
   ]
  },
  {
   "cell_type": "code",
   "execution_count": 24,
   "id": "1b19dd5c",
   "metadata": {},
   "outputs": [],
   "source": [
    "# Forward fill missing metadata.  This works because of the format of the original xlsx document\n",
    "ffill_cols = ['State/District/School',\n",
    " 'Subject',\n",
    " 'Gender',\n",
    " 'Ethnicity',\n",
    " 'Free and Reduced Lunch',\n",
    " 'English Language Learners',\n",
    " 'IEP']\n",
    "\n",
    "df_2018_multicat[ffill_cols] = df_2018_multicat[ffill_cols].fillna(method='ffill') "
   ]
  },
  {
   "cell_type": "code",
   "execution_count": 25,
   "id": "8b474b76",
   "metadata": {},
   "outputs": [],
   "source": [
    "# Drop empty scores\n",
    "schools_2018_multicat = df_2018_multicat[df_2018_multicat['Mean Scale Score'] != '-']"
   ]
  },
  {
   "cell_type": "code",
   "execution_count": 26,
   "id": "a3aaa59d",
   "metadata": {
    "scrolled": true
   },
   "outputs": [
    {
     "name": "stderr",
     "output_type": "stream",
     "text": [
      "C:\\Users\\conte\\AppData\\Local\\Temp\\ipykernel_46320\\2830818415.py:3: SettingWithCopyWarning: \n",
      "A value is trying to be set on a copy of a slice from a DataFrame.\n",
      "Try using .loc[row_indexer,col_indexer] = value instead\n",
      "\n",
      "See the caveats in the documentation: https://pandas.pydata.org/pandas-docs/stable/user_guide/indexing.html#returning-a-view-versus-a-copy\n",
      "  schools_2018_multicat[['District Name', 'School Name']] = district_and_name;\n",
      "C:\\Users\\conte\\AppData\\Local\\Temp\\ipykernel_46320\\2830818415.py:3: SettingWithCopyWarning: \n",
      "A value is trying to be set on a copy of a slice from a DataFrame.\n",
      "Try using .loc[row_indexer,col_indexer] = value instead\n",
      "\n",
      "See the caveats in the documentation: https://pandas.pydata.org/pandas-docs/stable/user_guide/indexing.html#returning-a-view-versus-a-copy\n",
      "  schools_2018_multicat[['District Name', 'School Name']] = district_and_name;\n"
     ]
    }
   ],
   "source": [
    "# Split 'State/District/School' col into 'District Name' and 'School Name' columns\n",
    "district_and_name = schools_2018_multicat['State/District/School'].str.split(':', expand=True).iloc[:,[0,1]]\n",
    "schools_2018_multicat[['District Name', 'School Name']] = district_and_name;"
   ]
  },
  {
   "cell_type": "code",
   "execution_count": 27,
   "id": "2f79e87d",
   "metadata": {},
   "outputs": [],
   "source": [
    "# Drop 'State/District/School' column\n",
    "schools_2018_multicat = schools_2018_multicat.drop(['State/District/School'], axis=1, errors='ignore')\n",
    "\n",
    "#Reorder columns with district and name as first columns\n",
    "schools_2018_multicat = schools_2018_multicat[['District Name',\n",
    "       'School Name', 'Subject', 'Gender', 'Ethnicity', 'Free and Reduced Lunch',\n",
    "       'English Language Learners', 'IEP', 'Mean Scale Score']]"
   ]
  },
  {
   "cell_type": "code",
   "execution_count": 28,
   "id": "2d2eeb36",
   "metadata": {},
   "outputs": [],
   "source": [
    "# Create school and district number columns\n",
    "schools_2018_multicat['District Number'] = schools_2018_multicat['District Name'].str.extract('.*\\((.*)\\).*')\n",
    "schools_2018_multicat['School Number'] = schools_2018_multicat['School Name'].str.extract('.*\\((.*)\\).*')"
   ]
  },
  {
   "cell_type": "code",
   "execution_count": 29,
   "id": "3f94f49d",
   "metadata": {
    "scrolled": true
   },
   "outputs": [
    {
     "name": "stderr",
     "output_type": "stream",
     "text": [
      "C:\\Users\\conte\\AppData\\Local\\Temp\\ipykernel_46320\\339607478.py:2: FutureWarning: The default value of regex will change from True to False in a future version.\n",
      "  schools_2018_multicat['District Name'] = schools_2018_multicat['District Name'].str.replace('\\(.*$', '')\n",
      "C:\\Users\\conte\\AppData\\Local\\Temp\\ipykernel_46320\\339607478.py:3: FutureWarning: The default value of regex will change from True to False in a future version.\n",
      "  schools_2018_multicat['School Name'] = schools_2018_multicat['School Name'].str.replace('\\(.*$', '')\n"
     ]
    }
   ],
   "source": [
    "# Strip School and District names of numbers\n",
    "schools_2018_multicat['District Name'] = schools_2018_multicat['District Name'].str.replace('\\(.*$', '')\n",
    "schools_2018_multicat['School Name'] = schools_2018_multicat['School Name'].str.replace('\\(.*$', '')"
   ]
  },
  {
   "cell_type": "code",
   "execution_count": 30,
   "id": "52788494",
   "metadata": {
    "scrolled": true
   },
   "outputs": [],
   "source": [
    "# Set school & district names lowercase\n",
    "\n",
    "schools_2018_multicat['District Name'] = schools_2018_multicat.loc[:,'District Name'].str.lower()\n",
    "schools_2018_multicat['School Name'] = schools_2018_multicat.loc[:,'School Name'].str.lower()"
   ]
  },
  {
   "cell_type": "code",
   "execution_count": 31,
   "id": "c3b8d327",
   "metadata": {},
   "outputs": [],
   "source": [
    "# Strip whitespace\n",
    "schools_2018_multicat['District Name'] = schools_2018_multicat.loc[:,'District Name'].str.strip()\n",
    "schools_2018_multicat['School Name'] = schools_2018_multicat.loc[:,'School Name'].str.strip()"
   ]
  },
  {
   "cell_type": "code",
   "execution_count": 32,
   "id": "45796f20",
   "metadata": {},
   "outputs": [],
   "source": [
    "cols = list(schools_2018_multicat.columns)\n",
    "new_cols = ['District Name',\n",
    "             'School Name',\n",
    "             'Subject',\n",
    "             'Gend',\n",
    "             'Ethn',\n",
    "             'FRL',\n",
    "             'ELL',\n",
    "             'IEP',\n",
    "             'Mean Score',\n",
    "             'District Number',\n",
    "             'School Number']\n",
    "\n",
    "schools_2018_multicat.columns = new_cols"
   ]
  },
  {
   "cell_type": "code",
   "execution_count": 33,
   "id": "02141e9b",
   "metadata": {},
   "outputs": [],
   "source": [
    "# Reorder columns\n",
    "schools_2018_multicat = schools_2018_multicat[['District Number',\n",
    "                       'District Name',\n",
    "                       'School Number',\n",
    "                       'School Name',\n",
    "                       'Subject',\n",
    "                       'Gend',\n",
    "                       'Ethn',\n",
    "                       'FRL',\n",
    "                       'ELL',\n",
    "                       'IEP',\n",
    "                       'Mean Score']]"
   ]
  },
  {
   "cell_type": "code",
   "execution_count": 34,
   "id": "1be1dee5",
   "metadata": {
    "scrolled": true
   },
   "outputs": [],
   "source": [
    "# Create new dataframe containing both scores in a single line for a given demographic group\n",
    "\n",
    "schools_2018_multicat_math = schools_2018_multicat.loc[schools_2018_multicat['Subject'] == 'Math']\n",
    "schools_2018_multicat_math = schools_2018_multicat_math.rename(columns={'Mean Score':'Mean Score Math'})\n",
    "schools_2018_multicat_EBRW = schools_2018_multicat.loc[schools_2018_multicat['Subject'] == 'Evidence-Based Reading And Writing']\n",
    "schools_2018_multicat_EBRW = schools_2018_multicat_EBRW.rename(columns={'Mean Score':'Mean Score EBRW'})\n",
    "schools_2018_multicat_EBRW = schools_2018_multicat_EBRW.reset_index()\n",
    "\n",
    "schools_SAT_2018_multicat_combined = schools_2018_multicat_math.reset_index()\n",
    "schools_SAT_2018_multicat_combined['Mean Score EBRW'] = schools_2018_multicat_EBRW['Mean Score EBRW']\n",
    "\n",
    "schools_SAT_2018_multicat_combined = schools_SAT_2018_multicat_combined.drop(['index','Subject'],axis=1)"
   ]
  },
  {
   "cell_type": "markdown",
   "id": "863e75f5",
   "metadata": {},
   "source": [
    "# Check formatting of each df"
   ]
  },
  {
   "cell_type": "code",
   "execution_count": 35,
   "id": "8f33333f",
   "metadata": {},
   "outputs": [
    {
     "data": {
      "text/html": [
       "<div>\n",
       "<style scoped>\n",
       "    .dataframe tbody tr th:only-of-type {\n",
       "        vertical-align: middle;\n",
       "    }\n",
       "\n",
       "    .dataframe tbody tr th {\n",
       "        vertical-align: top;\n",
       "    }\n",
       "\n",
       "    .dataframe thead th {\n",
       "        text-align: right;\n",
       "    }\n",
       "</style>\n",
       "<table border=\"1\" class=\"dataframe\">\n",
       "  <thead>\n",
       "    <tr style=\"text-align: right;\">\n",
       "      <th></th>\n",
       "      <th>District Number</th>\n",
       "      <th>District Name</th>\n",
       "      <th>School Number</th>\n",
       "      <th>School Name</th>\n",
       "      <th>2018 EBRW Mean SAT</th>\n",
       "      <th>2018 Math Mean SAT</th>\n",
       "      <th>2018 Overall Mean Score SAT</th>\n",
       "      <th>2017 EBRW Mean PSAT10</th>\n",
       "      <th>2017 Math Mean PSAT10</th>\n",
       "      <th>2017 Overall Mean Score PSAT10</th>\n",
       "    </tr>\n",
       "  </thead>\n",
       "  <tbody>\n",
       "    <tr>\n",
       "      <th>0</th>\n",
       "      <td>0010</td>\n",
       "      <td>mapleton 1</td>\n",
       "      <td>0187</td>\n",
       "      <td>mapleton expeditionary school of the arts</td>\n",
       "      <td>472</td>\n",
       "      <td>467</td>\n",
       "      <td>939</td>\n",
       "      <td>412</td>\n",
       "      <td>430</td>\n",
       "      <td>842</td>\n",
       "    </tr>\n",
       "    <tr>\n",
       "      <th>1</th>\n",
       "      <td>0010</td>\n",
       "      <td>mapleton 1</td>\n",
       "      <td>0212</td>\n",
       "      <td>mapleton early college high school</td>\n",
       "      <td>464</td>\n",
       "      <td>441</td>\n",
       "      <td>905</td>\n",
       "      <td>409</td>\n",
       "      <td>409</td>\n",
       "      <td>818</td>\n",
       "    </tr>\n",
       "    <tr>\n",
       "      <th>2</th>\n",
       "      <td>0010</td>\n",
       "      <td>mapleton 1</td>\n",
       "      <td>0263</td>\n",
       "      <td>global leadership academy</td>\n",
       "      <td>443</td>\n",
       "      <td>438</td>\n",
       "      <td>880</td>\n",
       "      <td>410</td>\n",
       "      <td>404</td>\n",
       "      <td>814</td>\n",
       "    </tr>\n",
       "    <tr>\n",
       "      <th>3</th>\n",
       "      <td>0010</td>\n",
       "      <td>mapleton 1</td>\n",
       "      <td>0309</td>\n",
       "      <td>academy high school</td>\n",
       "      <td>452</td>\n",
       "      <td>434</td>\n",
       "      <td>886</td>\n",
       "      <td>411</td>\n",
       "      <td>417</td>\n",
       "      <td>828</td>\n",
       "    </tr>\n",
       "    <tr>\n",
       "      <th>4</th>\n",
       "      <td>0010</td>\n",
       "      <td>mapleton 1</td>\n",
       "      <td>0503</td>\n",
       "      <td>york international</td>\n",
       "      <td>495</td>\n",
       "      <td>477</td>\n",
       "      <td>972</td>\n",
       "      <td>466</td>\n",
       "      <td>444</td>\n",
       "      <td>910</td>\n",
       "    </tr>\n",
       "  </tbody>\n",
       "</table>\n",
       "</div>"
      ],
      "text/plain": [
       "  District Number District Name School Number  \\\n",
       "0            0010    mapleton 1          0187   \n",
       "1            0010    mapleton 1          0212   \n",
       "2            0010    mapleton 1          0263   \n",
       "3            0010    mapleton 1          0309   \n",
       "4            0010    mapleton 1          0503   \n",
       "\n",
       "                                 School Name 2018 EBRW Mean SAT  \\\n",
       "0  mapleton expeditionary school of the arts                472   \n",
       "1         mapleton early college high school                464   \n",
       "2                  global leadership academy                443   \n",
       "3                        academy high school                452   \n",
       "4                         york international                495   \n",
       "\n",
       "  2018 Math Mean SAT 2018 Overall Mean Score SAT 2017 EBRW Mean PSAT10  \\\n",
       "0                467                         939                   412   \n",
       "1                441                         905                   409   \n",
       "2                438                         880                   410   \n",
       "3                434                         886                   411   \n",
       "4                477                         972                   466   \n",
       "\n",
       "  2017 Math Mean PSAT10 2017 Overall Mean Score PSAT10  \n",
       "0                   430                            842  \n",
       "1                   409                            818  \n",
       "2                   404                            814  \n",
       "3                   417                            828  \n",
       "4                   444                            910  "
      ]
     },
     "execution_count": 35,
     "metadata": {},
     "output_type": "execute_result"
    }
   ],
   "source": [
    "tests_combined_2018_agg.head()"
   ]
  },
  {
   "cell_type": "code",
   "execution_count": 36,
   "id": "528e3388",
   "metadata": {},
   "outputs": [
    {
     "data": {
      "text/html": [
       "<div>\n",
       "<style scoped>\n",
       "    .dataframe tbody tr th:only-of-type {\n",
       "        vertical-align: middle;\n",
       "    }\n",
       "\n",
       "    .dataframe tbody tr th {\n",
       "        vertical-align: top;\n",
       "    }\n",
       "\n",
       "    .dataframe thead th {\n",
       "        text-align: right;\n",
       "    }\n",
       "</style>\n",
       "<table border=\"1\" class=\"dataframe\">\n",
       "  <thead>\n",
       "    <tr style=\"text-align: right;\">\n",
       "      <th></th>\n",
       "      <th>District Number</th>\n",
       "      <th>District Name</th>\n",
       "      <th>School Number</th>\n",
       "      <th>School Name</th>\n",
       "      <th>Gend</th>\n",
       "      <th>Ethn</th>\n",
       "      <th>FRL</th>\n",
       "      <th>ELL</th>\n",
       "      <th>IEP</th>\n",
       "      <th>Mean Score Math</th>\n",
       "      <th>Mean Score EBRW</th>\n",
       "    </tr>\n",
       "  </thead>\n",
       "  <tbody>\n",
       "    <tr>\n",
       "      <th>0</th>\n",
       "      <td>1040</td>\n",
       "      <td>academy 20</td>\n",
       "      <td>0110</td>\n",
       "      <td>academy online</td>\n",
       "      <td>Male</td>\n",
       "      <td>White</td>\n",
       "      <td>Not FRL Eligible</td>\n",
       "      <td>Not English Learners</td>\n",
       "      <td>Students without IEPs</td>\n",
       "      <td>505.882353</td>\n",
       "      <td>560.588235</td>\n",
       "    </tr>\n",
       "    <tr>\n",
       "      <th>1</th>\n",
       "      <td>1040</td>\n",
       "      <td>academy 20</td>\n",
       "      <td>0076</td>\n",
       "      <td>air academy high school</td>\n",
       "      <td>Female</td>\n",
       "      <td>White</td>\n",
       "      <td>Not FRL Eligible</td>\n",
       "      <td>Not English Learners</td>\n",
       "      <td>Students without IEPs</td>\n",
       "      <td>537.757009</td>\n",
       "      <td>562.056075</td>\n",
       "    </tr>\n",
       "    <tr>\n",
       "      <th>2</th>\n",
       "      <td>1040</td>\n",
       "      <td>academy 20</td>\n",
       "      <td>0076</td>\n",
       "      <td>air academy high school</td>\n",
       "      <td>Male</td>\n",
       "      <td>White</td>\n",
       "      <td>Not FRL Eligible</td>\n",
       "      <td>Not English Learners</td>\n",
       "      <td>Students without IEPs</td>\n",
       "      <td>574.725275</td>\n",
       "      <td>564.395604</td>\n",
       "    </tr>\n",
       "    <tr>\n",
       "      <th>3</th>\n",
       "      <td>1040</td>\n",
       "      <td>academy 20</td>\n",
       "      <td>2195</td>\n",
       "      <td>discovery canyon campus high school</td>\n",
       "      <td>Female</td>\n",
       "      <td>Hispanic</td>\n",
       "      <td>Not FRL Eligible</td>\n",
       "      <td>Not English Learners</td>\n",
       "      <td>Students without IEPs</td>\n",
       "      <td>503.529412</td>\n",
       "      <td>517.058824</td>\n",
       "    </tr>\n",
       "    <tr>\n",
       "      <th>4</th>\n",
       "      <td>1040</td>\n",
       "      <td>academy 20</td>\n",
       "      <td>2195</td>\n",
       "      <td>discovery canyon campus high school</td>\n",
       "      <td>Female</td>\n",
       "      <td>White</td>\n",
       "      <td>Not FRL Eligible</td>\n",
       "      <td>Not English Learners</td>\n",
       "      <td>Students without IEPs</td>\n",
       "      <td>560.444444</td>\n",
       "      <td>579.222222</td>\n",
       "    </tr>\n",
       "  </tbody>\n",
       "</table>\n",
       "</div>"
      ],
      "text/plain": [
       "  District Number District Name School Number  \\\n",
       "0            1040    academy 20          0110   \n",
       "1            1040    academy 20          0076   \n",
       "2            1040    academy 20          0076   \n",
       "3            1040    academy 20          2195   \n",
       "4            1040    academy 20          2195   \n",
       "\n",
       "                           School Name    Gend      Ethn               FRL  \\\n",
       "0                       academy online    Male     White  Not FRL Eligible   \n",
       "1              air academy high school  Female     White  Not FRL Eligible   \n",
       "2              air academy high school    Male     White  Not FRL Eligible   \n",
       "3  discovery canyon campus high school  Female  Hispanic  Not FRL Eligible   \n",
       "4  discovery canyon campus high school  Female     White  Not FRL Eligible   \n",
       "\n",
       "                    ELL                    IEP Mean Score Math Mean Score EBRW  \n",
       "0  Not English Learners  Students without IEPs      505.882353      560.588235  \n",
       "1  Not English Learners  Students without IEPs      537.757009      562.056075  \n",
       "2  Not English Learners  Students without IEPs      574.725275      564.395604  \n",
       "3  Not English Learners  Students without IEPs      503.529412      517.058824  \n",
       "4  Not English Learners  Students without IEPs      560.444444      579.222222  "
      ]
     },
     "execution_count": 36,
     "metadata": {},
     "output_type": "execute_result"
    }
   ],
   "source": [
    "schools_SAT_2018_multicat_combined.head()"
   ]
  },
  {
   "cell_type": "code",
   "execution_count": 37,
   "id": "fbbeefb0",
   "metadata": {},
   "outputs": [
    {
     "data": {
      "text/html": [
       "<div>\n",
       "<style scoped>\n",
       "    .dataframe tbody tr th:only-of-type {\n",
       "        vertical-align: middle;\n",
       "    }\n",
       "\n",
       "    .dataframe tbody tr th {\n",
       "        vertical-align: top;\n",
       "    }\n",
       "\n",
       "    .dataframe thead th {\n",
       "        text-align: right;\n",
       "    }\n",
       "</style>\n",
       "<table border=\"1\" class=\"dataframe\">\n",
       "  <thead>\n",
       "    <tr style=\"text-align: right;\">\n",
       "      <th></th>\n",
       "      <th>District Number</th>\n",
       "      <th>District Name</th>\n",
       "      <th>School Number</th>\n",
       "      <th>School Name</th>\n",
       "      <th>Gend</th>\n",
       "      <th>Ethn</th>\n",
       "      <th>FRL</th>\n",
       "      <th>ELL</th>\n",
       "      <th>IEP</th>\n",
       "      <th>Mean Score Math</th>\n",
       "      <th>Mean Score EBRW</th>\n",
       "    </tr>\n",
       "  </thead>\n",
       "  <tbody>\n",
       "    <tr>\n",
       "      <th>256</th>\n",
       "      <td>0880</td>\n",
       "      <td>denver county 1</td>\n",
       "      <td>NaN</td>\n",
       "      <td>dsst</td>\n",
       "      <td>Male</td>\n",
       "      <td>Hispanic</td>\n",
       "      <td>FRL Eligible</td>\n",
       "      <td>English Learners</td>\n",
       "      <td>Students without IEPs</td>\n",
       "      <td>546.842105</td>\n",
       "      <td>525.789474</td>\n",
       "    </tr>\n",
       "    <tr>\n",
       "      <th>257</th>\n",
       "      <td>0880</td>\n",
       "      <td>denver county 1</td>\n",
       "      <td>NaN</td>\n",
       "      <td>dsst</td>\n",
       "      <td>Male</td>\n",
       "      <td>White</td>\n",
       "      <td>Not FRL Eligible</td>\n",
       "      <td>Not English Learners</td>\n",
       "      <td>Students without IEPs</td>\n",
       "      <td>692.631579</td>\n",
       "      <td>672.105263</td>\n",
       "    </tr>\n",
       "  </tbody>\n",
       "</table>\n",
       "</div>"
      ],
      "text/plain": [
       "    District Number    District Name School Number School Name  Gend  \\\n",
       "256            0880  denver county 1           NaN        dsst  Male   \n",
       "257            0880  denver county 1           NaN        dsst  Male   \n",
       "\n",
       "         Ethn               FRL                   ELL                    IEP  \\\n",
       "256  Hispanic      FRL Eligible      English Learners  Students without IEPs   \n",
       "257     White  Not FRL Eligible  Not English Learners  Students without IEPs   \n",
       "\n",
       "    Mean Score Math Mean Score EBRW  \n",
       "256      546.842105      525.789474  \n",
       "257      692.631579      672.105263  "
      ]
     },
     "execution_count": 37,
     "metadata": {},
     "output_type": "execute_result"
    }
   ],
   "source": [
    "schools_SAT_2018_multicat_combined[schools_SAT_2018_multicat_combined['School Number'].isna()]"
   ]
  },
  {
   "cell_type": "code",
   "execution_count": 38,
   "id": "8bfdadb1",
   "metadata": {},
   "outputs": [
    {
     "data": {
      "text/html": [
       "<div>\n",
       "<style scoped>\n",
       "    .dataframe tbody tr th:only-of-type {\n",
       "        vertical-align: middle;\n",
       "    }\n",
       "\n",
       "    .dataframe tbody tr th {\n",
       "        vertical-align: top;\n",
       "    }\n",
       "\n",
       "    .dataframe thead th {\n",
       "        text-align: right;\n",
       "    }\n",
       "</style>\n",
       "<table border=\"1\" class=\"dataframe\">\n",
       "  <thead>\n",
       "    <tr style=\"text-align: right;\">\n",
       "      <th></th>\n",
       "      <th>District Number</th>\n",
       "      <th>District Name</th>\n",
       "      <th>School Number</th>\n",
       "      <th>School Name</th>\n",
       "      <th>Gend</th>\n",
       "      <th>Ethn</th>\n",
       "      <th>FRL</th>\n",
       "      <th>ELL</th>\n",
       "      <th>IEP</th>\n",
       "      <th>Mean Score Math</th>\n",
       "      <th>Mean Score EBRW</th>\n",
       "    </tr>\n",
       "  </thead>\n",
       "  <tbody>\n",
       "    <tr>\n",
       "      <th>256</th>\n",
       "      <td>0880</td>\n",
       "      <td>denver county 1</td>\n",
       "      <td>NaN</td>\n",
       "      <td>dsst</td>\n",
       "      <td>Male</td>\n",
       "      <td>Hispanic</td>\n",
       "      <td>FRL Eligible</td>\n",
       "      <td>English Learners</td>\n",
       "      <td>Students without IEPs</td>\n",
       "      <td>546.842105</td>\n",
       "      <td>525.789474</td>\n",
       "    </tr>\n",
       "    <tr>\n",
       "      <th>257</th>\n",
       "      <td>0880</td>\n",
       "      <td>denver county 1</td>\n",
       "      <td>NaN</td>\n",
       "      <td>dsst</td>\n",
       "      <td>Male</td>\n",
       "      <td>White</td>\n",
       "      <td>Not FRL Eligible</td>\n",
       "      <td>Not English Learners</td>\n",
       "      <td>Students without IEPs</td>\n",
       "      <td>692.631579</td>\n",
       "      <td>672.105263</td>\n",
       "    </tr>\n",
       "  </tbody>\n",
       "</table>\n",
       "</div>"
      ],
      "text/plain": [
       "    District Number    District Name School Number School Name  Gend  \\\n",
       "256            0880  denver county 1           NaN        dsst  Male   \n",
       "257            0880  denver county 1           NaN        dsst  Male   \n",
       "\n",
       "         Ethn               FRL                   ELL                    IEP  \\\n",
       "256  Hispanic      FRL Eligible      English Learners  Students without IEPs   \n",
       "257     White  Not FRL Eligible  Not English Learners  Students without IEPs   \n",
       "\n",
       "    Mean Score Math Mean Score EBRW  \n",
       "256      546.842105      525.789474  \n",
       "257      692.631579      672.105263  "
      ]
     },
     "execution_count": 38,
     "metadata": {},
     "output_type": "execute_result"
    }
   ],
   "source": [
    "schools_SAT_2018_multicat_combined[schools_SAT_2018_multicat_combined['School Name'] == 'dsst']"
   ]
  },
  {
   "cell_type": "markdown",
   "id": "ce74d423",
   "metadata": {},
   "source": [
    "# Income data & zip code data"
   ]
  },
  {
   "cell_type": "code",
   "execution_count": 39,
   "id": "ea3afaf0",
   "metadata": {
    "scrolled": true
   },
   "outputs": [],
   "source": [
    "url = 'http://www.usa.com/rank/colorado-state--median-family-income--zip-code-rank.htm'\n",
    "\n",
    "html = requests.get(url).content\n",
    "df_list = pd.read_html(html)\n",
    "income_zipcodes = df_list[-1]\n",
    "income_zipcodes.columns = income_zipcodes.iloc[0]\n",
    "income_zipcodes = income_zipcodes.drop(income_zipcodes.index[0])\n",
    "income_zipcodes = income_zipcodes.drop(['Rank'], axis=1, errors='ignore')"
   ]
  },
  {
   "cell_type": "code",
   "execution_count": 40,
   "id": "4e9809d8",
   "metadata": {},
   "outputs": [],
   "source": [
    "# Split 'State/District/School' col into 'District Name' and 'School Name' columns\n",
    "zip_pop = income_zipcodes['Zip / Population'].str.split('/', expand=True)\n",
    "income_zipcodes[['Zip Code', 'Population']] = zip_pop;\n",
    "income_zipcodes = income_zipcodes.drop(['Zip / Population'], axis=1, errors='ignore')"
   ]
  },
  {
   "cell_type": "code",
   "execution_count": 41,
   "id": "bdae4744",
   "metadata": {},
   "outputs": [],
   "source": [
    "# Rename silly column\n",
    "income_zipcodes = income_zipcodes.rename(columns={'Median Family Income ▼':'Median Family Income'})"
   ]
  },
  {
   "cell_type": "code",
   "execution_count": 42,
   "id": "6ca6c71f",
   "metadata": {},
   "outputs": [],
   "source": [
    "# Remove non-numeric characters\n",
    "income_zipcodes['Median Family Income'] = income_zipcodes['Median Family Income'].str.strip('$')\n",
    "income_zipcodes['Median Family Income'] = income_zipcodes['Median Family Income'].str.replace(',','')\n",
    "income_zipcodes['Population'] = income_zipcodes['Population'].str.replace(',','')"
   ]
  },
  {
   "cell_type": "code",
   "execution_count": 43,
   "id": "c3a0adbf",
   "metadata": {},
   "outputs": [],
   "source": [
    "# Load school physical addresses\n",
    "school_addresses = pd.read_excel('../raw_data/Public School Mailing Labels 2021-2022.xlsx', sheet_name='School Physical Address')"
   ]
  },
  {
   "cell_type": "code",
   "execution_count": 44,
   "id": "de631583",
   "metadata": {},
   "outputs": [],
   "source": [
    "# Load school mailing addresses\n",
    "\n",
    "school_maddresses = pd.read_excel('../raw_data/Public School Mailing Labels 2021-2022.xlsx', sheet_name='School Mailing Address ')\n",
    "school_maddresses.columns = school_maddresses.iloc[0]\n",
    "school_maddresses = school_maddresses.drop(school_maddresses.index[0])"
   ]
  },
  {
   "cell_type": "code",
   "execution_count": 45,
   "id": "9cead363",
   "metadata": {
    "scrolled": false
   },
   "outputs": [],
   "source": [
    "# Rename columns\n",
    "school_zipcodes = school_addresses[['SCHOOL_CODE', 'PHYSICAL_ZIPCODE']]\n",
    "school_zipcodes = school_zipcodes.rename(columns={'SCHOOL_CODE': 'School Number', 'PHYSICAL_ZIPCODE':'Zip Code'})"
   ]
  },
  {
   "cell_type": "code",
   "execution_count": 46,
   "id": "883bc3c3",
   "metadata": {},
   "outputs": [],
   "source": [
    "# Rename columns\n",
    "school_mzipcodes = school_maddresses[['SCHOOL_CODE', 'MAILING_ZIPCODE']]\n",
    "school_mzipcodes = school_mzipcodes.rename(columns={'SCHOOL_CODE': 'School Number', 'MAILING_ZIPCODE':'Zip Code'})"
   ]
  },
  {
   "cell_type": "code",
   "execution_count": 47,
   "id": "f3626a88",
   "metadata": {},
   "outputs": [],
   "source": [
    "# Change column dtypes\n",
    "school_mzipcodes = school_mzipcodes.astype({'School Number': 'str', 'Zip Code': 'Int64'})\n",
    "income_zipcodes = income_zipcodes.astype({'Median Family Income': 'int', 'Zip Code': 'Int64', 'Population':'int'})"
   ]
  },
  {
   "cell_type": "code",
   "execution_count": 48,
   "id": "39e3284b",
   "metadata": {
    "scrolled": false
   },
   "outputs": [],
   "source": [
    "# Merge income/zipcode df with school/zipcode df\n",
    "\n",
    "school_inc_zip = school_mzipcodes.merge(income_zipcodes, on=\"Zip Code\", how='left')\n",
    "school_inc_zip = school_inc_zip[['School Number', 'Zip Code','Median Family Income','Population']]"
   ]
  },
  {
   "cell_type": "code",
   "execution_count": 49,
   "id": "3c957d33",
   "metadata": {},
   "outputs": [],
   "source": [
    "tests_combined_2018_agg_inc = tests_combined_2018_agg.merge(school_inc_zip, how='left', on='School Number')"
   ]
  },
  {
   "cell_type": "code",
   "execution_count": 50,
   "id": "e58f7a77",
   "metadata": {},
   "outputs": [
    {
     "data": {
      "text/plain": [
       "District Number                    0\n",
       "District Name                      0\n",
       "School Number                      0\n",
       "School Name                        0\n",
       "2018 EBRW Mean SAT                 0\n",
       "2018 Math Mean SAT                 0\n",
       "2018 Overall Mean Score SAT        0\n",
       "2017 EBRW Mean PSAT10              0\n",
       "2017 Math Mean PSAT10              0\n",
       "2017 Overall Mean Score PSAT10     0\n",
       "Zip Code                           4\n",
       "Median Family Income              10\n",
       "Population                        10\n",
       "dtype: int64"
      ]
     },
     "execution_count": 50,
     "metadata": {},
     "output_type": "execute_result"
    }
   ],
   "source": [
    "# Check for NaN\n",
    "tests_combined_2018_agg_inc.isna().sum()"
   ]
  },
  {
   "cell_type": "code",
   "execution_count": 51,
   "id": "801f5e01",
   "metadata": {
    "scrolled": true
   },
   "outputs": [],
   "source": [
    "schools_SAT_2018_multicat_inc = schools_SAT_2018_multicat_combined.merge(school_inc_zip, how='left', on='School Number')"
   ]
  },
  {
   "cell_type": "code",
   "execution_count": 52,
   "id": "15b2698c",
   "metadata": {},
   "outputs": [
    {
     "data": {
      "text/plain": [
       "District Number          2\n",
       "District Name            0\n",
       "School Number            2\n",
       "School Name              0\n",
       "Gend                     0\n",
       "Ethn                     0\n",
       "FRL                      0\n",
       "ELL                      0\n",
       "IEP                      0\n",
       "Mean Score Math          0\n",
       "Mean Score EBRW          0\n",
       "Zip Code                 4\n",
       "Median Family Income    14\n",
       "Population              14\n",
       "dtype: int64"
      ]
     },
     "execution_count": 52,
     "metadata": {},
     "output_type": "execute_result"
    }
   ],
   "source": [
    "# Check for NaN\n",
    "schools_SAT_2018_multicat_inc.isna().sum()"
   ]
  },
  {
   "cell_type": "markdown",
   "id": "07eb43f7",
   "metadata": {},
   "source": [
    "Only 14 schools have missing income & population data.  Dropping these since they're 14 out of 710."
   ]
  },
  {
   "cell_type": "code",
   "execution_count": 53,
   "id": "d34eeebf",
   "metadata": {
    "scrolled": true
   },
   "outputs": [],
   "source": [
    "schools_SAT_2018_multicat_inc.dropna(inplace=True)"
   ]
  },
  {
   "cell_type": "code",
   "execution_count": 54,
   "id": "c646070e",
   "metadata": {},
   "outputs": [],
   "source": [
    "# Export data to csv\n",
    "\n",
    "tests_combined_2018_agg_inc.to_csv('../data/SAT_PSAT_aggregated.csv')\n",
    "schools_SAT_2018_multicat_inc.to_csv('../data/SAT_2018_multicategories.csv')"
   ]
  }
 ],
 "metadata": {
  "kernelspec": {
   "display_name": "Python 3 (ipykernel)",
   "language": "python",
   "name": "python3"
  },
  "language_info": {
   "codemirror_mode": {
    "name": "ipython",
    "version": 3
   },
   "file_extension": ".py",
   "mimetype": "text/x-python",
   "name": "python",
   "nbconvert_exporter": "python",
   "pygments_lexer": "ipython3",
   "version": "3.9.12"
  }
 },
 "nbformat": 4,
 "nbformat_minor": 5
}
